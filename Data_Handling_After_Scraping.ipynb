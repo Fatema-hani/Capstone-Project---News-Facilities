{
  "nbformat": 4,
  "nbformat_minor": 0,
  "metadata": {
    "colab": {
      "provenance": []
    },
    "kernelspec": {
      "name": "python3",
      "display_name": "Python 3"
    },
    "language_info": {
      "name": "python"
    }
  },
  "cells": [
    {
      "cell_type": "code",
      "execution_count": null,
      "metadata": {
        "id": "OiiIDLOm5_80"
      },
      "outputs": [],
      "source": [
        "import pandas as pd"
      ]
    },
    {
      "cell_type": "code",
      "source": [
        "economics = pd.read_csv('/content/economics.csv')\n",
        "print(economics.shape)\n",
        "economics.head()"
      ],
      "metadata": {
        "colab": {
          "base_uri": "https://localhost:8080/",
          "height": 337
        },
        "id": "7u270G2n6zY8",
        "outputId": "4d41049b-d139-4cb9-c823-9140795e3412"
      },
      "execution_count": null,
      "outputs": [
        {
          "output_type": "stream",
          "name": "stdout",
          "text": [
            "(35010, 4)\n"
          ]
        },
        {
          "output_type": "execute_result",
          "data": {
            "text/plain": [
              "                                                                                         hrefs  \\\n",
              "https://gate.ahram.org.eg/News/4273077.aspx  سعر الدولار اليوم السبت 6-5-2023 في ماكينات ال...   \n",
              "https://gate.ahram.org.eg/News/4273222.aspx  تراجع سعر الذهب اليوم الجمعة 5-5-2023 في السعودية   \n",
              "https://gate.ahram.org.eg/News/4273062.aspx  القومي للجودة يعتمد 14 متقدمًا للحصول على رخص ...   \n",
              "https://gate.ahram.org.eg/News/4273042.aspx  قفزة في أسعار النفط لكنها لن تعوض الخسائر الأس...   \n",
              "https://gate.ahram.org.eg/News/4273031.aspx  الدولار يقفز بفضل زيادة أكبر من المتوقع للوظائ...   \n",
              "\n",
              "                                                                                      headline  \\\n",
              "https://gate.ahram.org.eg/News/4273077.aspx  شهد سعر الدولار، اليوم السبت، استقرارًا ملحوظً...   \n",
              "https://gate.ahram.org.eg/News/4273222.aspx  شهد سعر الذهب اليوم الجمعة 5 مايو 2023، تراجعً...   \n",
              "https://gate.ahram.org.eg/News/4273062.aspx  اعتمد الدكتور محمد عتمان رئيس المعهد القومي لل...   \n",
              "https://gate.ahram.org.eg/News/4273042.aspx  قفزت أسعار النفط خلال تعاملات الجمعة 5 مايو لك...   \n",
              "https://gate.ahram.org.eg/News/4273031.aspx  قفز الدولار اليوم الجمعة، بعدما أظهرت بيانات أ...   \n",
              "\n",
              "                                                                                      briefing  \\\n",
              "https://gate.ahram.org.eg/News/4273077.aspx  شهد سعر الدولار، اليوم السبت، استقرارًا ملحوظً...   \n",
              "https://gate.ahram.org.eg/News/4273222.aspx  شهد سعر الذهب اليوم الجمعة 5 مايو 2023، تراجعً...   \n",
              "https://gate.ahram.org.eg/News/4273062.aspx  اعتمد الدكتور محمد عتمان رئيس المعهد القومي لل...   \n",
              "https://gate.ahram.org.eg/News/4273042.aspx  قفزت أسعار النفط خلال تعاملات الجمعة 5 مايو لك...   \n",
              "https://gate.ahram.org.eg/News/4273031.aspx  قفز الدولار اليوم الجمعة، بعدما أظهرت بيانات أ...   \n",
              "\n",
              "                                            category  \n",
              "https://gate.ahram.org.eg/News/4273077.aspx   اقتصاد  \n",
              "https://gate.ahram.org.eg/News/4273222.aspx   اقتصاد  \n",
              "https://gate.ahram.org.eg/News/4273062.aspx   اقتصاد  \n",
              "https://gate.ahram.org.eg/News/4273042.aspx   اقتصاد  \n",
              "https://gate.ahram.org.eg/News/4273031.aspx   اقتصاد  "
            ],
            "text/html": [
              "\n",
              "  <div id=\"df-b59498ae-7275-46e0-bc82-bc2766ca3c73\">\n",
              "    <div class=\"colab-df-container\">\n",
              "      <div>\n",
              "<style scoped>\n",
              "    .dataframe tbody tr th:only-of-type {\n",
              "        vertical-align: middle;\n",
              "    }\n",
              "\n",
              "    .dataframe tbody tr th {\n",
              "        vertical-align: top;\n",
              "    }\n",
              "\n",
              "    .dataframe thead th {\n",
              "        text-align: right;\n",
              "    }\n",
              "</style>\n",
              "<table border=\"1\" class=\"dataframe\">\n",
              "  <thead>\n",
              "    <tr style=\"text-align: right;\">\n",
              "      <th></th>\n",
              "      <th>hrefs</th>\n",
              "      <th>headline</th>\n",
              "      <th>briefing</th>\n",
              "      <th>category</th>\n",
              "    </tr>\n",
              "  </thead>\n",
              "  <tbody>\n",
              "    <tr>\n",
              "      <th>https://gate.ahram.org.eg/News/4273077.aspx</th>\n",
              "      <td>سعر الدولار اليوم السبت 6-5-2023 في ماكينات ال...</td>\n",
              "      <td>شهد سعر الدولار، اليوم السبت، استقرارًا ملحوظً...</td>\n",
              "      <td>شهد سعر الدولار، اليوم السبت، استقرارًا ملحوظً...</td>\n",
              "      <td>اقتصاد</td>\n",
              "    </tr>\n",
              "    <tr>\n",
              "      <th>https://gate.ahram.org.eg/News/4273222.aspx</th>\n",
              "      <td>تراجع سعر الذهب اليوم الجمعة 5-5-2023 في السعودية</td>\n",
              "      <td>شهد سعر الذهب اليوم الجمعة 5 مايو 2023، تراجعً...</td>\n",
              "      <td>شهد سعر الذهب اليوم الجمعة 5 مايو 2023، تراجعً...</td>\n",
              "      <td>اقتصاد</td>\n",
              "    </tr>\n",
              "    <tr>\n",
              "      <th>https://gate.ahram.org.eg/News/4273062.aspx</th>\n",
              "      <td>القومي للجودة يعتمد 14 متقدمًا للحصول على رخص ...</td>\n",
              "      <td>اعتمد الدكتور محمد عتمان رئيس المعهد القومي لل...</td>\n",
              "      <td>اعتمد الدكتور محمد عتمان رئيس المعهد القومي لل...</td>\n",
              "      <td>اقتصاد</td>\n",
              "    </tr>\n",
              "    <tr>\n",
              "      <th>https://gate.ahram.org.eg/News/4273042.aspx</th>\n",
              "      <td>قفزة في أسعار النفط لكنها لن تعوض الخسائر الأس...</td>\n",
              "      <td>قفزت أسعار النفط خلال تعاملات الجمعة 5 مايو لك...</td>\n",
              "      <td>قفزت أسعار النفط خلال تعاملات الجمعة 5 مايو لك...</td>\n",
              "      <td>اقتصاد</td>\n",
              "    </tr>\n",
              "    <tr>\n",
              "      <th>https://gate.ahram.org.eg/News/4273031.aspx</th>\n",
              "      <td>الدولار يقفز بفضل زيادة أكبر من المتوقع للوظائ...</td>\n",
              "      <td>قفز الدولار اليوم الجمعة، بعدما أظهرت بيانات أ...</td>\n",
              "      <td>قفز الدولار اليوم الجمعة، بعدما أظهرت بيانات أ...</td>\n",
              "      <td>اقتصاد</td>\n",
              "    </tr>\n",
              "  </tbody>\n",
              "</table>\n",
              "</div>\n",
              "      <button class=\"colab-df-convert\" onclick=\"convertToInteractive('df-b59498ae-7275-46e0-bc82-bc2766ca3c73')\"\n",
              "              title=\"Convert this dataframe to an interactive table.\"\n",
              "              style=\"display:none;\">\n",
              "        \n",
              "  <svg xmlns=\"http://www.w3.org/2000/svg\" height=\"24px\"viewBox=\"0 0 24 24\"\n",
              "       width=\"24px\">\n",
              "    <path d=\"M0 0h24v24H0V0z\" fill=\"none\"/>\n",
              "    <path d=\"M18.56 5.44l.94 2.06.94-2.06 2.06-.94-2.06-.94-.94-2.06-.94 2.06-2.06.94zm-11 1L8.5 8.5l.94-2.06 2.06-.94-2.06-.94L8.5 2.5l-.94 2.06-2.06.94zm10 10l.94 2.06.94-2.06 2.06-.94-2.06-.94-.94-2.06-.94 2.06-2.06.94z\"/><path d=\"M17.41 7.96l-1.37-1.37c-.4-.4-.92-.59-1.43-.59-.52 0-1.04.2-1.43.59L10.3 9.45l-7.72 7.72c-.78.78-.78 2.05 0 2.83L4 21.41c.39.39.9.59 1.41.59.51 0 1.02-.2 1.41-.59l7.78-7.78 2.81-2.81c.8-.78.8-2.07 0-2.86zM5.41 20L4 18.59l7.72-7.72 1.47 1.35L5.41 20z\"/>\n",
              "  </svg>\n",
              "      </button>\n",
              "      \n",
              "  <style>\n",
              "    .colab-df-container {\n",
              "      display:flex;\n",
              "      flex-wrap:wrap;\n",
              "      gap: 12px;\n",
              "    }\n",
              "\n",
              "    .colab-df-convert {\n",
              "      background-color: #E8F0FE;\n",
              "      border: none;\n",
              "      border-radius: 50%;\n",
              "      cursor: pointer;\n",
              "      display: none;\n",
              "      fill: #1967D2;\n",
              "      height: 32px;\n",
              "      padding: 0 0 0 0;\n",
              "      width: 32px;\n",
              "    }\n",
              "\n",
              "    .colab-df-convert:hover {\n",
              "      background-color: #E2EBFA;\n",
              "      box-shadow: 0px 1px 2px rgba(60, 64, 67, 0.3), 0px 1px 3px 1px rgba(60, 64, 67, 0.15);\n",
              "      fill: #174EA6;\n",
              "    }\n",
              "\n",
              "    [theme=dark] .colab-df-convert {\n",
              "      background-color: #3B4455;\n",
              "      fill: #D2E3FC;\n",
              "    }\n",
              "\n",
              "    [theme=dark] .colab-df-convert:hover {\n",
              "      background-color: #434B5C;\n",
              "      box-shadow: 0px 1px 3px 1px rgba(0, 0, 0, 0.15);\n",
              "      filter: drop-shadow(0px 1px 2px rgba(0, 0, 0, 0.3));\n",
              "      fill: #FFFFFF;\n",
              "    }\n",
              "  </style>\n",
              "\n",
              "      <script>\n",
              "        const buttonEl =\n",
              "          document.querySelector('#df-b59498ae-7275-46e0-bc82-bc2766ca3c73 button.colab-df-convert');\n",
              "        buttonEl.style.display =\n",
              "          google.colab.kernel.accessAllowed ? 'block' : 'none';\n",
              "\n",
              "        async function convertToInteractive(key) {\n",
              "          const element = document.querySelector('#df-b59498ae-7275-46e0-bc82-bc2766ca3c73');\n",
              "          const dataTable =\n",
              "            await google.colab.kernel.invokeFunction('convertToInteractive',\n",
              "                                                     [key], {});\n",
              "          if (!dataTable) return;\n",
              "\n",
              "          const docLinkHtml = 'Like what you see? Visit the ' +\n",
              "            '<a target=\"_blank\" href=https://colab.research.google.com/notebooks/data_table.ipynb>data table notebook</a>'\n",
              "            + ' to learn more about interactive tables.';\n",
              "          element.innerHTML = '';\n",
              "          dataTable['output_type'] = 'display_data';\n",
              "          await google.colab.output.renderOutput(dataTable, element);\n",
              "          const docLink = document.createElement('div');\n",
              "          docLink.innerHTML = docLinkHtml;\n",
              "          element.appendChild(docLink);\n",
              "        }\n",
              "      </script>\n",
              "    </div>\n",
              "  </div>\n",
              "  "
            ]
          },
          "metadata": {},
          "execution_count": 8
        }
      ]
    },
    {
      "cell_type": "code",
      "source": [
        "eco = economics.reset_index()\n",
        "eco.head()"
      ],
      "metadata": {
        "colab": {
          "base_uri": "https://localhost:8080/",
          "height": 337
        },
        "id": "amxvlO2cGr9R",
        "outputId": "e70ea03c-305a-4fa1-dacb-09d72d63bc3d"
      },
      "execution_count": null,
      "outputs": [
        {
          "output_type": "execute_result",
          "data": {
            "text/plain": [
              "                                         index  \\\n",
              "0  https://gate.ahram.org.eg/News/4273077.aspx   \n",
              "1  https://gate.ahram.org.eg/News/4273222.aspx   \n",
              "2  https://gate.ahram.org.eg/News/4273062.aspx   \n",
              "3  https://gate.ahram.org.eg/News/4273042.aspx   \n",
              "4  https://gate.ahram.org.eg/News/4273031.aspx   \n",
              "\n",
              "                                               hrefs  \\\n",
              "0  سعر الدولار اليوم السبت 6-5-2023 في ماكينات ال...   \n",
              "1  تراجع سعر الذهب اليوم الجمعة 5-5-2023 في السعودية   \n",
              "2  القومي للجودة يعتمد 14 متقدمًا للحصول على رخص ...   \n",
              "3  قفزة في أسعار النفط لكنها لن تعوض الخسائر الأس...   \n",
              "4  الدولار يقفز بفضل زيادة أكبر من المتوقع للوظائ...   \n",
              "\n",
              "                                            headline  \\\n",
              "0  شهد سعر الدولار، اليوم السبت، استقرارًا ملحوظً...   \n",
              "1  شهد سعر الذهب اليوم الجمعة 5 مايو 2023، تراجعً...   \n",
              "2  اعتمد الدكتور محمد عتمان رئيس المعهد القومي لل...   \n",
              "3  قفزت أسعار النفط خلال تعاملات الجمعة 5 مايو لك...   \n",
              "4  قفز الدولار اليوم الجمعة، بعدما أظهرت بيانات أ...   \n",
              "\n",
              "                                            briefing category  \n",
              "0  شهد سعر الدولار، اليوم السبت، استقرارًا ملحوظً...   اقتصاد  \n",
              "1  شهد سعر الذهب اليوم الجمعة 5 مايو 2023، تراجعً...   اقتصاد  \n",
              "2  اعتمد الدكتور محمد عتمان رئيس المعهد القومي لل...   اقتصاد  \n",
              "3  قفزت أسعار النفط خلال تعاملات الجمعة 5 مايو لك...   اقتصاد  \n",
              "4  قفز الدولار اليوم الجمعة، بعدما أظهرت بيانات أ...   اقتصاد  "
            ],
            "text/html": [
              "\n",
              "  <div id=\"df-2b50597a-ecc5-4397-b142-6b6fe24fd6bb\">\n",
              "    <div class=\"colab-df-container\">\n",
              "      <div>\n",
              "<style scoped>\n",
              "    .dataframe tbody tr th:only-of-type {\n",
              "        vertical-align: middle;\n",
              "    }\n",
              "\n",
              "    .dataframe tbody tr th {\n",
              "        vertical-align: top;\n",
              "    }\n",
              "\n",
              "    .dataframe thead th {\n",
              "        text-align: right;\n",
              "    }\n",
              "</style>\n",
              "<table border=\"1\" class=\"dataframe\">\n",
              "  <thead>\n",
              "    <tr style=\"text-align: right;\">\n",
              "      <th></th>\n",
              "      <th>index</th>\n",
              "      <th>hrefs</th>\n",
              "      <th>headline</th>\n",
              "      <th>briefing</th>\n",
              "      <th>category</th>\n",
              "    </tr>\n",
              "  </thead>\n",
              "  <tbody>\n",
              "    <tr>\n",
              "      <th>0</th>\n",
              "      <td>https://gate.ahram.org.eg/News/4273077.aspx</td>\n",
              "      <td>سعر الدولار اليوم السبت 6-5-2023 في ماكينات ال...</td>\n",
              "      <td>شهد سعر الدولار، اليوم السبت، استقرارًا ملحوظً...</td>\n",
              "      <td>شهد سعر الدولار، اليوم السبت، استقرارًا ملحوظً...</td>\n",
              "      <td>اقتصاد</td>\n",
              "    </tr>\n",
              "    <tr>\n",
              "      <th>1</th>\n",
              "      <td>https://gate.ahram.org.eg/News/4273222.aspx</td>\n",
              "      <td>تراجع سعر الذهب اليوم الجمعة 5-5-2023 في السعودية</td>\n",
              "      <td>شهد سعر الذهب اليوم الجمعة 5 مايو 2023، تراجعً...</td>\n",
              "      <td>شهد سعر الذهب اليوم الجمعة 5 مايو 2023، تراجعً...</td>\n",
              "      <td>اقتصاد</td>\n",
              "    </tr>\n",
              "    <tr>\n",
              "      <th>2</th>\n",
              "      <td>https://gate.ahram.org.eg/News/4273062.aspx</td>\n",
              "      <td>القومي للجودة يعتمد 14 متقدمًا للحصول على رخص ...</td>\n",
              "      <td>اعتمد الدكتور محمد عتمان رئيس المعهد القومي لل...</td>\n",
              "      <td>اعتمد الدكتور محمد عتمان رئيس المعهد القومي لل...</td>\n",
              "      <td>اقتصاد</td>\n",
              "    </tr>\n",
              "    <tr>\n",
              "      <th>3</th>\n",
              "      <td>https://gate.ahram.org.eg/News/4273042.aspx</td>\n",
              "      <td>قفزة في أسعار النفط لكنها لن تعوض الخسائر الأس...</td>\n",
              "      <td>قفزت أسعار النفط خلال تعاملات الجمعة 5 مايو لك...</td>\n",
              "      <td>قفزت أسعار النفط خلال تعاملات الجمعة 5 مايو لك...</td>\n",
              "      <td>اقتصاد</td>\n",
              "    </tr>\n",
              "    <tr>\n",
              "      <th>4</th>\n",
              "      <td>https://gate.ahram.org.eg/News/4273031.aspx</td>\n",
              "      <td>الدولار يقفز بفضل زيادة أكبر من المتوقع للوظائ...</td>\n",
              "      <td>قفز الدولار اليوم الجمعة، بعدما أظهرت بيانات أ...</td>\n",
              "      <td>قفز الدولار اليوم الجمعة، بعدما أظهرت بيانات أ...</td>\n",
              "      <td>اقتصاد</td>\n",
              "    </tr>\n",
              "  </tbody>\n",
              "</table>\n",
              "</div>\n",
              "      <button class=\"colab-df-convert\" onclick=\"convertToInteractive('df-2b50597a-ecc5-4397-b142-6b6fe24fd6bb')\"\n",
              "              title=\"Convert this dataframe to an interactive table.\"\n",
              "              style=\"display:none;\">\n",
              "        \n",
              "  <svg xmlns=\"http://www.w3.org/2000/svg\" height=\"24px\"viewBox=\"0 0 24 24\"\n",
              "       width=\"24px\">\n",
              "    <path d=\"M0 0h24v24H0V0z\" fill=\"none\"/>\n",
              "    <path d=\"M18.56 5.44l.94 2.06.94-2.06 2.06-.94-2.06-.94-.94-2.06-.94 2.06-2.06.94zm-11 1L8.5 8.5l.94-2.06 2.06-.94-2.06-.94L8.5 2.5l-.94 2.06-2.06.94zm10 10l.94 2.06.94-2.06 2.06-.94-2.06-.94-.94-2.06-.94 2.06-2.06.94z\"/><path d=\"M17.41 7.96l-1.37-1.37c-.4-.4-.92-.59-1.43-.59-.52 0-1.04.2-1.43.59L10.3 9.45l-7.72 7.72c-.78.78-.78 2.05 0 2.83L4 21.41c.39.39.9.59 1.41.59.51 0 1.02-.2 1.41-.59l7.78-7.78 2.81-2.81c.8-.78.8-2.07 0-2.86zM5.41 20L4 18.59l7.72-7.72 1.47 1.35L5.41 20z\"/>\n",
              "  </svg>\n",
              "      </button>\n",
              "      \n",
              "  <style>\n",
              "    .colab-df-container {\n",
              "      display:flex;\n",
              "      flex-wrap:wrap;\n",
              "      gap: 12px;\n",
              "    }\n",
              "\n",
              "    .colab-df-convert {\n",
              "      background-color: #E8F0FE;\n",
              "      border: none;\n",
              "      border-radius: 50%;\n",
              "      cursor: pointer;\n",
              "      display: none;\n",
              "      fill: #1967D2;\n",
              "      height: 32px;\n",
              "      padding: 0 0 0 0;\n",
              "      width: 32px;\n",
              "    }\n",
              "\n",
              "    .colab-df-convert:hover {\n",
              "      background-color: #E2EBFA;\n",
              "      box-shadow: 0px 1px 2px rgba(60, 64, 67, 0.3), 0px 1px 3px 1px rgba(60, 64, 67, 0.15);\n",
              "      fill: #174EA6;\n",
              "    }\n",
              "\n",
              "    [theme=dark] .colab-df-convert {\n",
              "      background-color: #3B4455;\n",
              "      fill: #D2E3FC;\n",
              "    }\n",
              "\n",
              "    [theme=dark] .colab-df-convert:hover {\n",
              "      background-color: #434B5C;\n",
              "      box-shadow: 0px 1px 3px 1px rgba(0, 0, 0, 0.15);\n",
              "      filter: drop-shadow(0px 1px 2px rgba(0, 0, 0, 0.3));\n",
              "      fill: #FFFFFF;\n",
              "    }\n",
              "  </style>\n",
              "\n",
              "      <script>\n",
              "        const buttonEl =\n",
              "          document.querySelector('#df-2b50597a-ecc5-4397-b142-6b6fe24fd6bb button.colab-df-convert');\n",
              "        buttonEl.style.display =\n",
              "          google.colab.kernel.accessAllowed ? 'block' : 'none';\n",
              "\n",
              "        async function convertToInteractive(key) {\n",
              "          const element = document.querySelector('#df-2b50597a-ecc5-4397-b142-6b6fe24fd6bb');\n",
              "          const dataTable =\n",
              "            await google.colab.kernel.invokeFunction('convertToInteractive',\n",
              "                                                     [key], {});\n",
              "          if (!dataTable) return;\n",
              "\n",
              "          const docLinkHtml = 'Like what you see? Visit the ' +\n",
              "            '<a target=\"_blank\" href=https://colab.research.google.com/notebooks/data_table.ipynb>data table notebook</a>'\n",
              "            + ' to learn more about interactive tables.';\n",
              "          element.innerHTML = '';\n",
              "          dataTable['output_type'] = 'display_data';\n",
              "          await google.colab.output.renderOutput(dataTable, element);\n",
              "          const docLink = document.createElement('div');\n",
              "          docLink.innerHTML = docLinkHtml;\n",
              "          element.appendChild(docLink);\n",
              "        }\n",
              "      </script>\n",
              "    </div>\n",
              "  </div>\n",
              "  "
            ]
          },
          "metadata": {},
          "execution_count": 9
        }
      ]
    },
    {
      "cell_type": "code",
      "source": [
        "eco.rename(columns = {'index':'hrefs', 'hrefs':'headline', 'headline':'briefing', 'briefing':'body'}, inplace=True)\n",
        "eco"
      ],
      "metadata": {
        "colab": {
          "base_uri": "https://localhost:8080/",
          "height": 641
        },
        "id": "nTCF-voXHDTR",
        "outputId": "4e80ab10-3c2b-47ba-dfca-33b7f23181eb"
      },
      "execution_count": null,
      "outputs": [
        {
          "output_type": "execute_result",
          "data": {
            "text/plain": [
              "                                             hrefs  \\\n",
              "0      https://gate.ahram.org.eg/News/4273077.aspx   \n",
              "1      https://gate.ahram.org.eg/News/4273222.aspx   \n",
              "2      https://gate.ahram.org.eg/News/4273062.aspx   \n",
              "3      https://gate.ahram.org.eg/News/4273042.aspx   \n",
              "4      https://gate.ahram.org.eg/News/4273031.aspx   \n",
              "...                                            ...   \n",
              "35005  https://gate.ahram.org.eg/News/2879251.aspx   \n",
              "35006  https://gate.ahram.org.eg/News/2879354.aspx   \n",
              "35007  https://gate.ahram.org.eg/News/2879336.aspx   \n",
              "35008  https://gate.ahram.org.eg/News/2879350.aspx   \n",
              "35009  https://gate.ahram.org.eg/News/2879347.aspx   \n",
              "\n",
              "                                                headline  \\\n",
              "0      سعر الدولار اليوم السبت 6-5-2023 في ماكينات ال...   \n",
              "1      تراجع سعر الذهب اليوم الجمعة 5-5-2023 في السعودية   \n",
              "2      القومي للجودة يعتمد 14 متقدمًا للحصول على رخص ...   \n",
              "3      قفزة في أسعار النفط لكنها لن تعوض الخسائر الأس...   \n",
              "4      الدولار يقفز بفضل زيادة أكبر من المتوقع للوظائ...   \n",
              "...                                                  ...   \n",
              "35005  معيط: خفض تكلفة خدمة الدين للناتج المحلي رغم «...   \n",
              "35006  «تنشيط السياحة»: استمرار تطبيق الدولة كافة الإ...   \n",
              "35007  ارتفاع صادرات الجلود والأحذية والمصنوعات والمل...   \n",
              "35008  \"ويز إير\" العالمية: السوق المصرية من أهم الأسو...   \n",
              "35009  \"تنشيط السياحة\" تبحث مع ممثلي \"ويز إير\" سبل ال...   \n",
              "\n",
              "                                                briefing  \\\n",
              "0      شهد سعر الدولار، اليوم السبت، استقرارًا ملحوظً...   \n",
              "1      شهد سعر الذهب اليوم الجمعة 5 مايو 2023، تراجعً...   \n",
              "2      اعتمد الدكتور محمد عتمان رئيس المعهد القومي لل...   \n",
              "3      قفزت أسعار النفط خلال تعاملات الجمعة 5 مايو لك...   \n",
              "4      قفز الدولار اليوم الجمعة، بعدما أظهرت بيانات أ...   \n",
              "...                                                  ...   \n",
              "35005  أكد الدكتور محمد معيط، وزير المالية، أن الوزار...   \n",
              "35006  استعرض ماجد أبو سديرة رئيس الإدارة المركزية لل...   \n",
              "35007  قفزت صادرات مصر من الجلود والأحذية والمصنوعات ...   \n",
              "35008  عرضت باربرا أكوستا رئيس قطاع التشغيل والتخطيط ...   \n",
              "35009  بحثت الهيئة العامة للتنشيط السياحي مع ممثلي شر...   \n",
              "\n",
              "                                                    body category  \n",
              "0      شهد سعر الدولار، اليوم السبت، استقرارًا ملحوظً...   اقتصاد  \n",
              "1      شهد سعر الذهب اليوم الجمعة 5 مايو 2023، تراجعً...   اقتصاد  \n",
              "2      اعتمد الدكتور محمد عتمان رئيس المعهد القومي لل...   اقتصاد  \n",
              "3      قفزت أسعار النفط خلال تعاملات الجمعة 5 مايو لك...   اقتصاد  \n",
              "4      قفز الدولار اليوم الجمعة، بعدما أظهرت بيانات أ...   اقتصاد  \n",
              "...                                                  ...      ...  \n",
              "35005  أكد الدكتور محمد معيط، وزير المالية، أن الوزار...   اقتصاد  \n",
              "35006  استعرض ماجد أبو سديرة رئيس الإدارة المركزية لل...   اقتصاد  \n",
              "35007  قفزت صادرات مصر من الجلود والأحذية والمصنوعات ...   اقتصاد  \n",
              "35008  عرضت باربرا أكوستا رئيس قطاع التشغيل والتخطيط ...   اقتصاد  \n",
              "35009  بحثت الهيئة العامة للتنشيط السياحي مع ممثلي شر...   اقتصاد  \n",
              "\n",
              "[35010 rows x 5 columns]"
            ],
            "text/html": [
              "\n",
              "  <div id=\"df-2e64bd5f-df7c-4903-a4a4-f13a3b2bdeed\">\n",
              "    <div class=\"colab-df-container\">\n",
              "      <div>\n",
              "<style scoped>\n",
              "    .dataframe tbody tr th:only-of-type {\n",
              "        vertical-align: middle;\n",
              "    }\n",
              "\n",
              "    .dataframe tbody tr th {\n",
              "        vertical-align: top;\n",
              "    }\n",
              "\n",
              "    .dataframe thead th {\n",
              "        text-align: right;\n",
              "    }\n",
              "</style>\n",
              "<table border=\"1\" class=\"dataframe\">\n",
              "  <thead>\n",
              "    <tr style=\"text-align: right;\">\n",
              "      <th></th>\n",
              "      <th>hrefs</th>\n",
              "      <th>headline</th>\n",
              "      <th>briefing</th>\n",
              "      <th>body</th>\n",
              "      <th>category</th>\n",
              "    </tr>\n",
              "  </thead>\n",
              "  <tbody>\n",
              "    <tr>\n",
              "      <th>0</th>\n",
              "      <td>https://gate.ahram.org.eg/News/4273077.aspx</td>\n",
              "      <td>سعر الدولار اليوم السبت 6-5-2023 في ماكينات ال...</td>\n",
              "      <td>شهد سعر الدولار، اليوم السبت، استقرارًا ملحوظً...</td>\n",
              "      <td>شهد سعر الدولار، اليوم السبت، استقرارًا ملحوظً...</td>\n",
              "      <td>اقتصاد</td>\n",
              "    </tr>\n",
              "    <tr>\n",
              "      <th>1</th>\n",
              "      <td>https://gate.ahram.org.eg/News/4273222.aspx</td>\n",
              "      <td>تراجع سعر الذهب اليوم الجمعة 5-5-2023 في السعودية</td>\n",
              "      <td>شهد سعر الذهب اليوم الجمعة 5 مايو 2023، تراجعً...</td>\n",
              "      <td>شهد سعر الذهب اليوم الجمعة 5 مايو 2023، تراجعً...</td>\n",
              "      <td>اقتصاد</td>\n",
              "    </tr>\n",
              "    <tr>\n",
              "      <th>2</th>\n",
              "      <td>https://gate.ahram.org.eg/News/4273062.aspx</td>\n",
              "      <td>القومي للجودة يعتمد 14 متقدمًا للحصول على رخص ...</td>\n",
              "      <td>اعتمد الدكتور محمد عتمان رئيس المعهد القومي لل...</td>\n",
              "      <td>اعتمد الدكتور محمد عتمان رئيس المعهد القومي لل...</td>\n",
              "      <td>اقتصاد</td>\n",
              "    </tr>\n",
              "    <tr>\n",
              "      <th>3</th>\n",
              "      <td>https://gate.ahram.org.eg/News/4273042.aspx</td>\n",
              "      <td>قفزة في أسعار النفط لكنها لن تعوض الخسائر الأس...</td>\n",
              "      <td>قفزت أسعار النفط خلال تعاملات الجمعة 5 مايو لك...</td>\n",
              "      <td>قفزت أسعار النفط خلال تعاملات الجمعة 5 مايو لك...</td>\n",
              "      <td>اقتصاد</td>\n",
              "    </tr>\n",
              "    <tr>\n",
              "      <th>4</th>\n",
              "      <td>https://gate.ahram.org.eg/News/4273031.aspx</td>\n",
              "      <td>الدولار يقفز بفضل زيادة أكبر من المتوقع للوظائ...</td>\n",
              "      <td>قفز الدولار اليوم الجمعة، بعدما أظهرت بيانات أ...</td>\n",
              "      <td>قفز الدولار اليوم الجمعة، بعدما أظهرت بيانات أ...</td>\n",
              "      <td>اقتصاد</td>\n",
              "    </tr>\n",
              "    <tr>\n",
              "      <th>...</th>\n",
              "      <td>...</td>\n",
              "      <td>...</td>\n",
              "      <td>...</td>\n",
              "      <td>...</td>\n",
              "      <td>...</td>\n",
              "    </tr>\n",
              "    <tr>\n",
              "      <th>35005</th>\n",
              "      <td>https://gate.ahram.org.eg/News/2879251.aspx</td>\n",
              "      <td>معيط: خفض تكلفة خدمة الدين للناتج المحلي رغم «...</td>\n",
              "      <td>أكد الدكتور محمد معيط، وزير المالية، أن الوزار...</td>\n",
              "      <td>أكد الدكتور محمد معيط، وزير المالية، أن الوزار...</td>\n",
              "      <td>اقتصاد</td>\n",
              "    </tr>\n",
              "    <tr>\n",
              "      <th>35006</th>\n",
              "      <td>https://gate.ahram.org.eg/News/2879354.aspx</td>\n",
              "      <td>«تنشيط السياحة»: استمرار تطبيق الدولة كافة الإ...</td>\n",
              "      <td>استعرض ماجد أبو سديرة رئيس الإدارة المركزية لل...</td>\n",
              "      <td>استعرض ماجد أبو سديرة رئيس الإدارة المركزية لل...</td>\n",
              "      <td>اقتصاد</td>\n",
              "    </tr>\n",
              "    <tr>\n",
              "      <th>35007</th>\n",
              "      <td>https://gate.ahram.org.eg/News/2879336.aspx</td>\n",
              "      <td>ارتفاع صادرات الجلود والأحذية والمصنوعات والمل...</td>\n",
              "      <td>قفزت صادرات مصر من الجلود والأحذية والمصنوعات ...</td>\n",
              "      <td>قفزت صادرات مصر من الجلود والأحذية والمصنوعات ...</td>\n",
              "      <td>اقتصاد</td>\n",
              "    </tr>\n",
              "    <tr>\n",
              "      <th>35008</th>\n",
              "      <td>https://gate.ahram.org.eg/News/2879350.aspx</td>\n",
              "      <td>\"ويز إير\" العالمية: السوق المصرية من أهم الأسو...</td>\n",
              "      <td>عرضت باربرا أكوستا رئيس قطاع التشغيل والتخطيط ...</td>\n",
              "      <td>عرضت باربرا أكوستا رئيس قطاع التشغيل والتخطيط ...</td>\n",
              "      <td>اقتصاد</td>\n",
              "    </tr>\n",
              "    <tr>\n",
              "      <th>35009</th>\n",
              "      <td>https://gate.ahram.org.eg/News/2879347.aspx</td>\n",
              "      <td>\"تنشيط السياحة\" تبحث مع ممثلي \"ويز إير\" سبل ال...</td>\n",
              "      <td>بحثت الهيئة العامة للتنشيط السياحي مع ممثلي شر...</td>\n",
              "      <td>بحثت الهيئة العامة للتنشيط السياحي مع ممثلي شر...</td>\n",
              "      <td>اقتصاد</td>\n",
              "    </tr>\n",
              "  </tbody>\n",
              "</table>\n",
              "<p>35010 rows × 5 columns</p>\n",
              "</div>\n",
              "      <button class=\"colab-df-convert\" onclick=\"convertToInteractive('df-2e64bd5f-df7c-4903-a4a4-f13a3b2bdeed')\"\n",
              "              title=\"Convert this dataframe to an interactive table.\"\n",
              "              style=\"display:none;\">\n",
              "        \n",
              "  <svg xmlns=\"http://www.w3.org/2000/svg\" height=\"24px\"viewBox=\"0 0 24 24\"\n",
              "       width=\"24px\">\n",
              "    <path d=\"M0 0h24v24H0V0z\" fill=\"none\"/>\n",
              "    <path d=\"M18.56 5.44l.94 2.06.94-2.06 2.06-.94-2.06-.94-.94-2.06-.94 2.06-2.06.94zm-11 1L8.5 8.5l.94-2.06 2.06-.94-2.06-.94L8.5 2.5l-.94 2.06-2.06.94zm10 10l.94 2.06.94-2.06 2.06-.94-2.06-.94-.94-2.06-.94 2.06-2.06.94z\"/><path d=\"M17.41 7.96l-1.37-1.37c-.4-.4-.92-.59-1.43-.59-.52 0-1.04.2-1.43.59L10.3 9.45l-7.72 7.72c-.78.78-.78 2.05 0 2.83L4 21.41c.39.39.9.59 1.41.59.51 0 1.02-.2 1.41-.59l7.78-7.78 2.81-2.81c.8-.78.8-2.07 0-2.86zM5.41 20L4 18.59l7.72-7.72 1.47 1.35L5.41 20z\"/>\n",
              "  </svg>\n",
              "      </button>\n",
              "      \n",
              "  <style>\n",
              "    .colab-df-container {\n",
              "      display:flex;\n",
              "      flex-wrap:wrap;\n",
              "      gap: 12px;\n",
              "    }\n",
              "\n",
              "    .colab-df-convert {\n",
              "      background-color: #E8F0FE;\n",
              "      border: none;\n",
              "      border-radius: 50%;\n",
              "      cursor: pointer;\n",
              "      display: none;\n",
              "      fill: #1967D2;\n",
              "      height: 32px;\n",
              "      padding: 0 0 0 0;\n",
              "      width: 32px;\n",
              "    }\n",
              "\n",
              "    .colab-df-convert:hover {\n",
              "      background-color: #E2EBFA;\n",
              "      box-shadow: 0px 1px 2px rgba(60, 64, 67, 0.3), 0px 1px 3px 1px rgba(60, 64, 67, 0.15);\n",
              "      fill: #174EA6;\n",
              "    }\n",
              "\n",
              "    [theme=dark] .colab-df-convert {\n",
              "      background-color: #3B4455;\n",
              "      fill: #D2E3FC;\n",
              "    }\n",
              "\n",
              "    [theme=dark] .colab-df-convert:hover {\n",
              "      background-color: #434B5C;\n",
              "      box-shadow: 0px 1px 3px 1px rgba(0, 0, 0, 0.15);\n",
              "      filter: drop-shadow(0px 1px 2px rgba(0, 0, 0, 0.3));\n",
              "      fill: #FFFFFF;\n",
              "    }\n",
              "  </style>\n",
              "\n",
              "      <script>\n",
              "        const buttonEl =\n",
              "          document.querySelector('#df-2e64bd5f-df7c-4903-a4a4-f13a3b2bdeed button.colab-df-convert');\n",
              "        buttonEl.style.display =\n",
              "          google.colab.kernel.accessAllowed ? 'block' : 'none';\n",
              "\n",
              "        async function convertToInteractive(key) {\n",
              "          const element = document.querySelector('#df-2e64bd5f-df7c-4903-a4a4-f13a3b2bdeed');\n",
              "          const dataTable =\n",
              "            await google.colab.kernel.invokeFunction('convertToInteractive',\n",
              "                                                     [key], {});\n",
              "          if (!dataTable) return;\n",
              "\n",
              "          const docLinkHtml = 'Like what you see? Visit the ' +\n",
              "            '<a target=\"_blank\" href=https://colab.research.google.com/notebooks/data_table.ipynb>data table notebook</a>'\n",
              "            + ' to learn more about interactive tables.';\n",
              "          element.innerHTML = '';\n",
              "          dataTable['output_type'] = 'display_data';\n",
              "          await google.colab.output.renderOutput(dataTable, element);\n",
              "          const docLink = document.createElement('div');\n",
              "          docLink.innerHTML = docLinkHtml;\n",
              "          element.appendChild(docLink);\n",
              "        }\n",
              "      </script>\n",
              "    </div>\n",
              "  </div>\n",
              "  "
            ]
          },
          "metadata": {},
          "execution_count": 10
        }
      ]
    },
    {
      "cell_type": "code",
      "source": [
        "def prep(df):\n",
        "  \n",
        "  print(df.category.value_counts())\n",
        "  df.category = df.category[0]\n",
        "  df.drop_duplicates(inplace=True)\n",
        "  print(df.duplicated().sum())\n",
        "  df.dropna(inplace=True)\n",
        "  print(df.isna().sum())\n",
        "\n",
        "  return df"
      ],
      "metadata": {
        "id": "DLKGfqZ9I1vs"
      },
      "execution_count": null,
      "outputs": []
    },
    {
      "cell_type": "code",
      "source": [
        "prep(eco)"
      ],
      "metadata": {
        "colab": {
          "base_uri": "https://localhost:8080/",
          "height": 804
        },
        "id": "KtBzAioxLKhf",
        "outputId": "c3654d2f-0335-40bf-df52-b49c7665a682"
      },
      "execution_count": null,
      "outputs": [
        {
          "output_type": "stream",
          "name": "stdout",
          "text": [
            "اقتصاد    34603\n",
            "Name: category, dtype: int64\n",
            "0\n",
            "hrefs       0\n",
            "headline    0\n",
            "briefing    0\n",
            "body        0\n",
            "category    0\n",
            "dtype: int64\n"
          ]
        },
        {
          "output_type": "execute_result",
          "data": {
            "text/plain": [
              "                                             hrefs  \\\n",
              "0      https://gate.ahram.org.eg/News/4273077.aspx   \n",
              "1      https://gate.ahram.org.eg/News/4273222.aspx   \n",
              "2      https://gate.ahram.org.eg/News/4273062.aspx   \n",
              "3      https://gate.ahram.org.eg/News/4273042.aspx   \n",
              "4      https://gate.ahram.org.eg/News/4273031.aspx   \n",
              "...                                            ...   \n",
              "35005  https://gate.ahram.org.eg/News/2879251.aspx   \n",
              "35006  https://gate.ahram.org.eg/News/2879354.aspx   \n",
              "35007  https://gate.ahram.org.eg/News/2879336.aspx   \n",
              "35008  https://gate.ahram.org.eg/News/2879350.aspx   \n",
              "35009  https://gate.ahram.org.eg/News/2879347.aspx   \n",
              "\n",
              "                                                headline  \\\n",
              "0      سعر الدولار اليوم السبت 6-5-2023 في ماكينات ال...   \n",
              "1      تراجع سعر الذهب اليوم الجمعة 5-5-2023 في السعودية   \n",
              "2      القومي للجودة يعتمد 14 متقدمًا للحصول على رخص ...   \n",
              "3      قفزة في أسعار النفط لكنها لن تعوض الخسائر الأس...   \n",
              "4      الدولار يقفز بفضل زيادة أكبر من المتوقع للوظائ...   \n",
              "...                                                  ...   \n",
              "35005  معيط: خفض تكلفة خدمة الدين للناتج المحلي رغم «...   \n",
              "35006  «تنشيط السياحة»: استمرار تطبيق الدولة كافة الإ...   \n",
              "35007  ارتفاع صادرات الجلود والأحذية والمصنوعات والمل...   \n",
              "35008  \"ويز إير\" العالمية: السوق المصرية من أهم الأسو...   \n",
              "35009  \"تنشيط السياحة\" تبحث مع ممثلي \"ويز إير\" سبل ال...   \n",
              "\n",
              "                                                briefing  \\\n",
              "0      شهد سعر الدولار، اليوم السبت، استقرارًا ملحوظً...   \n",
              "1      شهد سعر الذهب اليوم الجمعة 5 مايو 2023، تراجعً...   \n",
              "2      اعتمد الدكتور محمد عتمان رئيس المعهد القومي لل...   \n",
              "3      قفزت أسعار النفط خلال تعاملات الجمعة 5 مايو لك...   \n",
              "4      قفز الدولار اليوم الجمعة، بعدما أظهرت بيانات أ...   \n",
              "...                                                  ...   \n",
              "35005  أكد الدكتور محمد معيط، وزير المالية، أن الوزار...   \n",
              "35006  استعرض ماجد أبو سديرة رئيس الإدارة المركزية لل...   \n",
              "35007  قفزت صادرات مصر من الجلود والأحذية والمصنوعات ...   \n",
              "35008  عرضت باربرا أكوستا رئيس قطاع التشغيل والتخطيط ...   \n",
              "35009  بحثت الهيئة العامة للتنشيط السياحي مع ممثلي شر...   \n",
              "\n",
              "                                                    body category  \n",
              "0      شهد سعر الدولار، اليوم السبت، استقرارًا ملحوظً...   اقتصاد  \n",
              "1      شهد سعر الذهب اليوم الجمعة 5 مايو 2023، تراجعً...   اقتصاد  \n",
              "2      اعتمد الدكتور محمد عتمان رئيس المعهد القومي لل...   اقتصاد  \n",
              "3      قفزت أسعار النفط خلال تعاملات الجمعة 5 مايو لك...   اقتصاد  \n",
              "4      قفز الدولار اليوم الجمعة، بعدما أظهرت بيانات أ...   اقتصاد  \n",
              "...                                                  ...      ...  \n",
              "35005  أكد الدكتور محمد معيط، وزير المالية، أن الوزار...   اقتصاد  \n",
              "35006  استعرض ماجد أبو سديرة رئيس الإدارة المركزية لل...   اقتصاد  \n",
              "35007  قفزت صادرات مصر من الجلود والأحذية والمصنوعات ...   اقتصاد  \n",
              "35008  عرضت باربرا أكوستا رئيس قطاع التشغيل والتخطيط ...   اقتصاد  \n",
              "35009  بحثت الهيئة العامة للتنشيط السياحي مع ممثلي شر...   اقتصاد  \n",
              "\n",
              "[34603 rows x 5 columns]"
            ],
            "text/html": [
              "\n",
              "  <div id=\"df-075e8b49-99aa-48fe-beae-0b682a6ff0a2\">\n",
              "    <div class=\"colab-df-container\">\n",
              "      <div>\n",
              "<style scoped>\n",
              "    .dataframe tbody tr th:only-of-type {\n",
              "        vertical-align: middle;\n",
              "    }\n",
              "\n",
              "    .dataframe tbody tr th {\n",
              "        vertical-align: top;\n",
              "    }\n",
              "\n",
              "    .dataframe thead th {\n",
              "        text-align: right;\n",
              "    }\n",
              "</style>\n",
              "<table border=\"1\" class=\"dataframe\">\n",
              "  <thead>\n",
              "    <tr style=\"text-align: right;\">\n",
              "      <th></th>\n",
              "      <th>hrefs</th>\n",
              "      <th>headline</th>\n",
              "      <th>briefing</th>\n",
              "      <th>body</th>\n",
              "      <th>category</th>\n",
              "    </tr>\n",
              "  </thead>\n",
              "  <tbody>\n",
              "    <tr>\n",
              "      <th>0</th>\n",
              "      <td>https://gate.ahram.org.eg/News/4273077.aspx</td>\n",
              "      <td>سعر الدولار اليوم السبت 6-5-2023 في ماكينات ال...</td>\n",
              "      <td>شهد سعر الدولار، اليوم السبت، استقرارًا ملحوظً...</td>\n",
              "      <td>شهد سعر الدولار، اليوم السبت، استقرارًا ملحوظً...</td>\n",
              "      <td>اقتصاد</td>\n",
              "    </tr>\n",
              "    <tr>\n",
              "      <th>1</th>\n",
              "      <td>https://gate.ahram.org.eg/News/4273222.aspx</td>\n",
              "      <td>تراجع سعر الذهب اليوم الجمعة 5-5-2023 في السعودية</td>\n",
              "      <td>شهد سعر الذهب اليوم الجمعة 5 مايو 2023، تراجعً...</td>\n",
              "      <td>شهد سعر الذهب اليوم الجمعة 5 مايو 2023، تراجعً...</td>\n",
              "      <td>اقتصاد</td>\n",
              "    </tr>\n",
              "    <tr>\n",
              "      <th>2</th>\n",
              "      <td>https://gate.ahram.org.eg/News/4273062.aspx</td>\n",
              "      <td>القومي للجودة يعتمد 14 متقدمًا للحصول على رخص ...</td>\n",
              "      <td>اعتمد الدكتور محمد عتمان رئيس المعهد القومي لل...</td>\n",
              "      <td>اعتمد الدكتور محمد عتمان رئيس المعهد القومي لل...</td>\n",
              "      <td>اقتصاد</td>\n",
              "    </tr>\n",
              "    <tr>\n",
              "      <th>3</th>\n",
              "      <td>https://gate.ahram.org.eg/News/4273042.aspx</td>\n",
              "      <td>قفزة في أسعار النفط لكنها لن تعوض الخسائر الأس...</td>\n",
              "      <td>قفزت أسعار النفط خلال تعاملات الجمعة 5 مايو لك...</td>\n",
              "      <td>قفزت أسعار النفط خلال تعاملات الجمعة 5 مايو لك...</td>\n",
              "      <td>اقتصاد</td>\n",
              "    </tr>\n",
              "    <tr>\n",
              "      <th>4</th>\n",
              "      <td>https://gate.ahram.org.eg/News/4273031.aspx</td>\n",
              "      <td>الدولار يقفز بفضل زيادة أكبر من المتوقع للوظائ...</td>\n",
              "      <td>قفز الدولار اليوم الجمعة، بعدما أظهرت بيانات أ...</td>\n",
              "      <td>قفز الدولار اليوم الجمعة، بعدما أظهرت بيانات أ...</td>\n",
              "      <td>اقتصاد</td>\n",
              "    </tr>\n",
              "    <tr>\n",
              "      <th>...</th>\n",
              "      <td>...</td>\n",
              "      <td>...</td>\n",
              "      <td>...</td>\n",
              "      <td>...</td>\n",
              "      <td>...</td>\n",
              "    </tr>\n",
              "    <tr>\n",
              "      <th>35005</th>\n",
              "      <td>https://gate.ahram.org.eg/News/2879251.aspx</td>\n",
              "      <td>معيط: خفض تكلفة خدمة الدين للناتج المحلي رغم «...</td>\n",
              "      <td>أكد الدكتور محمد معيط، وزير المالية، أن الوزار...</td>\n",
              "      <td>أكد الدكتور محمد معيط، وزير المالية، أن الوزار...</td>\n",
              "      <td>اقتصاد</td>\n",
              "    </tr>\n",
              "    <tr>\n",
              "      <th>35006</th>\n",
              "      <td>https://gate.ahram.org.eg/News/2879354.aspx</td>\n",
              "      <td>«تنشيط السياحة»: استمرار تطبيق الدولة كافة الإ...</td>\n",
              "      <td>استعرض ماجد أبو سديرة رئيس الإدارة المركزية لل...</td>\n",
              "      <td>استعرض ماجد أبو سديرة رئيس الإدارة المركزية لل...</td>\n",
              "      <td>اقتصاد</td>\n",
              "    </tr>\n",
              "    <tr>\n",
              "      <th>35007</th>\n",
              "      <td>https://gate.ahram.org.eg/News/2879336.aspx</td>\n",
              "      <td>ارتفاع صادرات الجلود والأحذية والمصنوعات والمل...</td>\n",
              "      <td>قفزت صادرات مصر من الجلود والأحذية والمصنوعات ...</td>\n",
              "      <td>قفزت صادرات مصر من الجلود والأحذية والمصنوعات ...</td>\n",
              "      <td>اقتصاد</td>\n",
              "    </tr>\n",
              "    <tr>\n",
              "      <th>35008</th>\n",
              "      <td>https://gate.ahram.org.eg/News/2879350.aspx</td>\n",
              "      <td>\"ويز إير\" العالمية: السوق المصرية من أهم الأسو...</td>\n",
              "      <td>عرضت باربرا أكوستا رئيس قطاع التشغيل والتخطيط ...</td>\n",
              "      <td>عرضت باربرا أكوستا رئيس قطاع التشغيل والتخطيط ...</td>\n",
              "      <td>اقتصاد</td>\n",
              "    </tr>\n",
              "    <tr>\n",
              "      <th>35009</th>\n",
              "      <td>https://gate.ahram.org.eg/News/2879347.aspx</td>\n",
              "      <td>\"تنشيط السياحة\" تبحث مع ممثلي \"ويز إير\" سبل ال...</td>\n",
              "      <td>بحثت الهيئة العامة للتنشيط السياحي مع ممثلي شر...</td>\n",
              "      <td>بحثت الهيئة العامة للتنشيط السياحي مع ممثلي شر...</td>\n",
              "      <td>اقتصاد</td>\n",
              "    </tr>\n",
              "  </tbody>\n",
              "</table>\n",
              "<p>34603 rows × 5 columns</p>\n",
              "</div>\n",
              "      <button class=\"colab-df-convert\" onclick=\"convertToInteractive('df-075e8b49-99aa-48fe-beae-0b682a6ff0a2')\"\n",
              "              title=\"Convert this dataframe to an interactive table.\"\n",
              "              style=\"display:none;\">\n",
              "        \n",
              "  <svg xmlns=\"http://www.w3.org/2000/svg\" height=\"24px\"viewBox=\"0 0 24 24\"\n",
              "       width=\"24px\">\n",
              "    <path d=\"M0 0h24v24H0V0z\" fill=\"none\"/>\n",
              "    <path d=\"M18.56 5.44l.94 2.06.94-2.06 2.06-.94-2.06-.94-.94-2.06-.94 2.06-2.06.94zm-11 1L8.5 8.5l.94-2.06 2.06-.94-2.06-.94L8.5 2.5l-.94 2.06-2.06.94zm10 10l.94 2.06.94-2.06 2.06-.94-2.06-.94-.94-2.06-.94 2.06-2.06.94z\"/><path d=\"M17.41 7.96l-1.37-1.37c-.4-.4-.92-.59-1.43-.59-.52 0-1.04.2-1.43.59L10.3 9.45l-7.72 7.72c-.78.78-.78 2.05 0 2.83L4 21.41c.39.39.9.59 1.41.59.51 0 1.02-.2 1.41-.59l7.78-7.78 2.81-2.81c.8-.78.8-2.07 0-2.86zM5.41 20L4 18.59l7.72-7.72 1.47 1.35L5.41 20z\"/>\n",
              "  </svg>\n",
              "      </button>\n",
              "      \n",
              "  <style>\n",
              "    .colab-df-container {\n",
              "      display:flex;\n",
              "      flex-wrap:wrap;\n",
              "      gap: 12px;\n",
              "    }\n",
              "\n",
              "    .colab-df-convert {\n",
              "      background-color: #E8F0FE;\n",
              "      border: none;\n",
              "      border-radius: 50%;\n",
              "      cursor: pointer;\n",
              "      display: none;\n",
              "      fill: #1967D2;\n",
              "      height: 32px;\n",
              "      padding: 0 0 0 0;\n",
              "      width: 32px;\n",
              "    }\n",
              "\n",
              "    .colab-df-convert:hover {\n",
              "      background-color: #E2EBFA;\n",
              "      box-shadow: 0px 1px 2px rgba(60, 64, 67, 0.3), 0px 1px 3px 1px rgba(60, 64, 67, 0.15);\n",
              "      fill: #174EA6;\n",
              "    }\n",
              "\n",
              "    [theme=dark] .colab-df-convert {\n",
              "      background-color: #3B4455;\n",
              "      fill: #D2E3FC;\n",
              "    }\n",
              "\n",
              "    [theme=dark] .colab-df-convert:hover {\n",
              "      background-color: #434B5C;\n",
              "      box-shadow: 0px 1px 3px 1px rgba(0, 0, 0, 0.15);\n",
              "      filter: drop-shadow(0px 1px 2px rgba(0, 0, 0, 0.3));\n",
              "      fill: #FFFFFF;\n",
              "    }\n",
              "  </style>\n",
              "\n",
              "      <script>\n",
              "        const buttonEl =\n",
              "          document.querySelector('#df-075e8b49-99aa-48fe-beae-0b682a6ff0a2 button.colab-df-convert');\n",
              "        buttonEl.style.display =\n",
              "          google.colab.kernel.accessAllowed ? 'block' : 'none';\n",
              "\n",
              "        async function convertToInteractive(key) {\n",
              "          const element = document.querySelector('#df-075e8b49-99aa-48fe-beae-0b682a6ff0a2');\n",
              "          const dataTable =\n",
              "            await google.colab.kernel.invokeFunction('convertToInteractive',\n",
              "                                                     [key], {});\n",
              "          if (!dataTable) return;\n",
              "\n",
              "          const docLinkHtml = 'Like what you see? Visit the ' +\n",
              "            '<a target=\"_blank\" href=https://colab.research.google.com/notebooks/data_table.ipynb>data table notebook</a>'\n",
              "            + ' to learn more about interactive tables.';\n",
              "          element.innerHTML = '';\n",
              "          dataTable['output_type'] = 'display_data';\n",
              "          await google.colab.output.renderOutput(dataTable, element);\n",
              "          const docLink = document.createElement('div');\n",
              "          docLink.innerHTML = docLinkHtml;\n",
              "          element.appendChild(docLink);\n",
              "        }\n",
              "      </script>\n",
              "    </div>\n",
              "  </div>\n",
              "  "
            ]
          },
          "metadata": {},
          "execution_count": 17
        }
      ]
    },
    {
      "cell_type": "code",
      "source": [
        "eco.category.value_counts()"
      ],
      "metadata": {
        "colab": {
          "base_uri": "https://localhost:8080/"
        },
        "id": "21Y6xHLYf8ht",
        "outputId": "6378d0ef-0a11-4785-8884-0d230250b826"
      },
      "execution_count": null,
      "outputs": [
        {
          "output_type": "execute_result",
          "data": {
            "text/plain": [
              "اقتصاد                                        34635\n",
              "الحرب الروسية - الأوكرانية .. تغطية خاصة        107\n",
              "المؤتمر الاقتصادي مصر 2022                       87\n",
              "الطريق الى قمة المناخ COP27 شرم الشيخ 2022       53\n",
              "سنوات الإنجاز والإعجاز                           35\n",
              "حصاد 2021 .. عام في عصر الإنجاز والإعجاز         31\n",
              "حصاد عام .. في عهد الإنجازات                     25\n",
              "إلغاء مد حالة الطوارئ                             9\n",
              "وداعا البطل المشير طنطاوي                         7\n",
              "الصعيد يجني ثمار الإنجاز والإعجاز                 6\n",
              "حفل افتتاح طريق الكباش .. تغطية خاصة              4\n",
              "الطريق الي الحوار الوطني                          3\n",
              "منتدى شباب العالم .. تغطية خاصة                   3\n",
              "معرض الكتاب                                       2\n",
              "30 يونيو ثورة شعب ... ملف خاص                     2\n",
              "ثورة شعب .. وتضحية قائد                           1\n",
              "Name: category, dtype: int64"
            ]
          },
          "metadata": {},
          "execution_count": 183
        }
      ]
    },
    {
      "cell_type": "code",
      "source": [
        "eco.category = 'اقتصاد'"
      ],
      "metadata": {
        "id": "51kcZnt3gBX2"
      },
      "execution_count": null,
      "outputs": []
    },
    {
      "cell_type": "code",
      "source": [
        "eco.category.value_counts()"
      ],
      "metadata": {
        "colab": {
          "base_uri": "https://localhost:8080/"
        },
        "id": "V08yfT77gGzF",
        "outputId": "26fc3e96-2cb2-496f-bc53-62d0f3ad758d"
      },
      "execution_count": null,
      "outputs": [
        {
          "output_type": "execute_result",
          "data": {
            "text/plain": [
              "اقتصاد    35010\n",
              "Name: category, dtype: int64"
            ]
          },
          "metadata": {},
          "execution_count": 185
        }
      ]
    },
    {
      "cell_type": "code",
      "source": [
        "eco.drop_duplicates(inplace=True)"
      ],
      "metadata": {
        "id": "5ZoraGvcgdL7"
      },
      "execution_count": null,
      "outputs": []
    },
    {
      "cell_type": "code",
      "source": [
        "eco.duplicated().sum()"
      ],
      "metadata": {
        "colab": {
          "base_uri": "https://localhost:8080/"
        },
        "id": "MYQ_pulrgpk7",
        "outputId": "2e5ad081-0c86-4235-a015-0422d6dbee65"
      },
      "execution_count": null,
      "outputs": [
        {
          "output_type": "execute_result",
          "data": {
            "text/plain": [
              "0"
            ]
          },
          "metadata": {},
          "execution_count": 187
        }
      ]
    },
    {
      "cell_type": "code",
      "source": [
        "eco.dropna(inplace=True)"
      ],
      "metadata": {
        "id": "YGyNNjPmgsih"
      },
      "execution_count": null,
      "outputs": []
    },
    {
      "cell_type": "code",
      "source": [
        "eco.isna().sum()"
      ],
      "metadata": {
        "colab": {
          "base_uri": "https://localhost:8080/"
        },
        "id": "6OVMx0P3g2hU",
        "outputId": "36ed1557-da09-4e9b-a71b-3b4f814f8f80"
      },
      "execution_count": null,
      "outputs": [
        {
          "output_type": "execute_result",
          "data": {
            "text/plain": [
              "hrefs       0\n",
              "headline    0\n",
              "briefing    0\n",
              "body        0\n",
              "category    0\n",
              "dtype: int64"
            ]
          },
          "metadata": {},
          "execution_count": 189
        }
      ]
    },
    {
      "cell_type": "code",
      "source": [
        "eco.shape"
      ],
      "metadata": {
        "colab": {
          "base_uri": "https://localhost:8080/"
        },
        "id": "a0cV5xIgg6bV",
        "outputId": "aaa0677b-8543-4c77-e2d1-a49b1e65dcc9"
      },
      "execution_count": null,
      "outputs": [
        {
          "output_type": "execute_result",
          "data": {
            "text/plain": [
              "(34603, 5)"
            ]
          },
          "metadata": {},
          "execution_count": 190
        }
      ]
    },
    {
      "cell_type": "code",
      "source": [
        "eco1 = eco[0:10000]\n",
        "eco1.shape"
      ],
      "metadata": {
        "colab": {
          "base_uri": "https://localhost:8080/"
        },
        "id": "o5ZLfrwcI1Dn",
        "outputId": "ade97de9-185c-4748-ff86-4f8f6b03ac75"
      },
      "execution_count": null,
      "outputs": [
        {
          "output_type": "execute_result",
          "data": {
            "text/plain": [
              "(10000, 5)"
            ]
          },
          "metadata": {},
          "execution_count": 220
        }
      ]
    },
    {
      "cell_type": "code",
      "source": [
        "eco1.to_csv('economics1_N.csv')"
      ],
      "metadata": {
        "id": "CfTPP0fSQk09"
      },
      "execution_count": null,
      "outputs": []
    },
    {
      "cell_type": "code",
      "source": [
        "local = pd.read_csv('/content/Local.csv')\n",
        "print(local.shape)\n",
        "local.head()"
      ],
      "metadata": {
        "colab": {
          "base_uri": "https://localhost:8080/",
          "height": 355
        },
        "id": "YTqYXPDA7BT7",
        "outputId": "4aa68326-e3c8-48e6-ae02-4b90b9e3bc96"
      },
      "execution_count": null,
      "outputs": [
        {
          "output_type": "stream",
          "name": "stdout",
          "text": [
            "(35010, 5)\n"
          ]
        },
        {
          "output_type": "execute_result",
          "data": {
            "text/plain": [
              "                                         hrefs  \\\n",
              "0  https://gate.ahram.org.eg/News/4272955.aspx   \n",
              "1  https://gate.ahram.org.eg/News/4272956.aspx   \n",
              "2  https://gate.ahram.org.eg/News/4272936.aspx   \n",
              "3  https://gate.ahram.org.eg/News/4272934.aspx   \n",
              "4  https://gate.ahram.org.eg/News/4272941.aspx   \n",
              "\n",
              "                                            headline  \\\n",
              "0  محافظ الغربية يتابع الاستعدادات النهائية لامتح...   \n",
              "1  \"الشباب والرياضة\" بالأقصر تنفذ ندوات عن التوعي...   \n",
              "2  متابعة عمل الوحدات الصحية والمراكز الطبية في 7...   \n",
              "3  اعتماد ملعب مركز شباب الصلعا كأول ملعب لـ«المي...   \n",
              "4  إخماد حريق فى أرض مزروعة بالقمح في مركز الحامو...   \n",
              "\n",
              "                                            briefing  \\\n",
              "0  التقى الدكتور طارق رحمي محافظ الغربية، بالمهند...   \n",
              "1  نفذت إدارة تنمية الشباب بمديرية الشباب والرياض...   \n",
              "2  قامت إدارة المتابعة بمديرية الشئون الصحية بمحا...   \n",
              "3  قام أحمد سمير، رئيس الاتحاد المصرى للميني فوتب...   \n",
              "4  تمكنت قوات الحماية المدنية بمركز الحامول فى كف...   \n",
              "\n",
              "                                                body category  \n",
              "0  التقى الدكتور طارق رحمي محافظ الغربية، بالمهند...  محافظات  \n",
              "1  نفذت إدارة تنمية الشباب بمديرية الشباب والرياض...  محافظات  \n",
              "2  قامت إدارة المتابعة بمديرية الشئون الصحية بمحا...  محافظات  \n",
              "3  قام أحمد سمير، رئيس الاتحاد المصرى للميني فوتب...  محافظات  \n",
              "4  تمكنت قوات الحماية المدنية بمركز الحامول فى كف...  محافظات  "
            ],
            "text/html": [
              "\n",
              "  <div id=\"df-9a7b8ddc-69cc-4e79-8b53-1d88aaebdfeb\">\n",
              "    <div class=\"colab-df-container\">\n",
              "      <div>\n",
              "<style scoped>\n",
              "    .dataframe tbody tr th:only-of-type {\n",
              "        vertical-align: middle;\n",
              "    }\n",
              "\n",
              "    .dataframe tbody tr th {\n",
              "        vertical-align: top;\n",
              "    }\n",
              "\n",
              "    .dataframe thead th {\n",
              "        text-align: right;\n",
              "    }\n",
              "</style>\n",
              "<table border=\"1\" class=\"dataframe\">\n",
              "  <thead>\n",
              "    <tr style=\"text-align: right;\">\n",
              "      <th></th>\n",
              "      <th>hrefs</th>\n",
              "      <th>headline</th>\n",
              "      <th>briefing</th>\n",
              "      <th>body</th>\n",
              "      <th>category</th>\n",
              "    </tr>\n",
              "  </thead>\n",
              "  <tbody>\n",
              "    <tr>\n",
              "      <th>0</th>\n",
              "      <td>https://gate.ahram.org.eg/News/4272955.aspx</td>\n",
              "      <td>محافظ الغربية يتابع الاستعدادات النهائية لامتح...</td>\n",
              "      <td>التقى الدكتور طارق رحمي محافظ الغربية، بالمهند...</td>\n",
              "      <td>التقى الدكتور طارق رحمي محافظ الغربية، بالمهند...</td>\n",
              "      <td>محافظات</td>\n",
              "    </tr>\n",
              "    <tr>\n",
              "      <th>1</th>\n",
              "      <td>https://gate.ahram.org.eg/News/4272956.aspx</td>\n",
              "      <td>\"الشباب والرياضة\" بالأقصر تنفذ ندوات عن التوعي...</td>\n",
              "      <td>نفذت إدارة تنمية الشباب بمديرية الشباب والرياض...</td>\n",
              "      <td>نفذت إدارة تنمية الشباب بمديرية الشباب والرياض...</td>\n",
              "      <td>محافظات</td>\n",
              "    </tr>\n",
              "    <tr>\n",
              "      <th>2</th>\n",
              "      <td>https://gate.ahram.org.eg/News/4272936.aspx</td>\n",
              "      <td>متابعة عمل الوحدات الصحية والمراكز الطبية في 7...</td>\n",
              "      <td>قامت إدارة المتابعة بمديرية الشئون الصحية بمحا...</td>\n",
              "      <td>قامت إدارة المتابعة بمديرية الشئون الصحية بمحا...</td>\n",
              "      <td>محافظات</td>\n",
              "    </tr>\n",
              "    <tr>\n",
              "      <th>3</th>\n",
              "      <td>https://gate.ahram.org.eg/News/4272934.aspx</td>\n",
              "      <td>اعتماد ملعب مركز شباب الصلعا كأول ملعب لـ«المي...</td>\n",
              "      <td>قام أحمد سمير، رئيس الاتحاد المصرى للميني فوتب...</td>\n",
              "      <td>قام أحمد سمير، رئيس الاتحاد المصرى للميني فوتب...</td>\n",
              "      <td>محافظات</td>\n",
              "    </tr>\n",
              "    <tr>\n",
              "      <th>4</th>\n",
              "      <td>https://gate.ahram.org.eg/News/4272941.aspx</td>\n",
              "      <td>إخماد حريق فى أرض مزروعة بالقمح في مركز الحامو...</td>\n",
              "      <td>تمكنت قوات الحماية المدنية بمركز الحامول فى كف...</td>\n",
              "      <td>تمكنت قوات الحماية المدنية بمركز الحامول فى كف...</td>\n",
              "      <td>محافظات</td>\n",
              "    </tr>\n",
              "  </tbody>\n",
              "</table>\n",
              "</div>\n",
              "      <button class=\"colab-df-convert\" onclick=\"convertToInteractive('df-9a7b8ddc-69cc-4e79-8b53-1d88aaebdfeb')\"\n",
              "              title=\"Convert this dataframe to an interactive table.\"\n",
              "              style=\"display:none;\">\n",
              "        \n",
              "  <svg xmlns=\"http://www.w3.org/2000/svg\" height=\"24px\"viewBox=\"0 0 24 24\"\n",
              "       width=\"24px\">\n",
              "    <path d=\"M0 0h24v24H0V0z\" fill=\"none\"/>\n",
              "    <path d=\"M18.56 5.44l.94 2.06.94-2.06 2.06-.94-2.06-.94-.94-2.06-.94 2.06-2.06.94zm-11 1L8.5 8.5l.94-2.06 2.06-.94-2.06-.94L8.5 2.5l-.94 2.06-2.06.94zm10 10l.94 2.06.94-2.06 2.06-.94-2.06-.94-.94-2.06-.94 2.06-2.06.94z\"/><path d=\"M17.41 7.96l-1.37-1.37c-.4-.4-.92-.59-1.43-.59-.52 0-1.04.2-1.43.59L10.3 9.45l-7.72 7.72c-.78.78-.78 2.05 0 2.83L4 21.41c.39.39.9.59 1.41.59.51 0 1.02-.2 1.41-.59l7.78-7.78 2.81-2.81c.8-.78.8-2.07 0-2.86zM5.41 20L4 18.59l7.72-7.72 1.47 1.35L5.41 20z\"/>\n",
              "  </svg>\n",
              "      </button>\n",
              "      \n",
              "  <style>\n",
              "    .colab-df-container {\n",
              "      display:flex;\n",
              "      flex-wrap:wrap;\n",
              "      gap: 12px;\n",
              "    }\n",
              "\n",
              "    .colab-df-convert {\n",
              "      background-color: #E8F0FE;\n",
              "      border: none;\n",
              "      border-radius: 50%;\n",
              "      cursor: pointer;\n",
              "      display: none;\n",
              "      fill: #1967D2;\n",
              "      height: 32px;\n",
              "      padding: 0 0 0 0;\n",
              "      width: 32px;\n",
              "    }\n",
              "\n",
              "    .colab-df-convert:hover {\n",
              "      background-color: #E2EBFA;\n",
              "      box-shadow: 0px 1px 2px rgba(60, 64, 67, 0.3), 0px 1px 3px 1px rgba(60, 64, 67, 0.15);\n",
              "      fill: #174EA6;\n",
              "    }\n",
              "\n",
              "    [theme=dark] .colab-df-convert {\n",
              "      background-color: #3B4455;\n",
              "      fill: #D2E3FC;\n",
              "    }\n",
              "\n",
              "    [theme=dark] .colab-df-convert:hover {\n",
              "      background-color: #434B5C;\n",
              "      box-shadow: 0px 1px 3px 1px rgba(0, 0, 0, 0.15);\n",
              "      filter: drop-shadow(0px 1px 2px rgba(0, 0, 0, 0.3));\n",
              "      fill: #FFFFFF;\n",
              "    }\n",
              "  </style>\n",
              "\n",
              "      <script>\n",
              "        const buttonEl =\n",
              "          document.querySelector('#df-9a7b8ddc-69cc-4e79-8b53-1d88aaebdfeb button.colab-df-convert');\n",
              "        buttonEl.style.display =\n",
              "          google.colab.kernel.accessAllowed ? 'block' : 'none';\n",
              "\n",
              "        async function convertToInteractive(key) {\n",
              "          const element = document.querySelector('#df-9a7b8ddc-69cc-4e79-8b53-1d88aaebdfeb');\n",
              "          const dataTable =\n",
              "            await google.colab.kernel.invokeFunction('convertToInteractive',\n",
              "                                                     [key], {});\n",
              "          if (!dataTable) return;\n",
              "\n",
              "          const docLinkHtml = 'Like what you see? Visit the ' +\n",
              "            '<a target=\"_blank\" href=https://colab.research.google.com/notebooks/data_table.ipynb>data table notebook</a>'\n",
              "            + ' to learn more about interactive tables.';\n",
              "          element.innerHTML = '';\n",
              "          dataTable['output_type'] = 'display_data';\n",
              "          await google.colab.output.renderOutput(dataTable, element);\n",
              "          const docLink = document.createElement('div');\n",
              "          docLink.innerHTML = docLinkHtml;\n",
              "          element.appendChild(docLink);\n",
              "        }\n",
              "      </script>\n",
              "    </div>\n",
              "  </div>\n",
              "  "
            ]
          },
          "metadata": {},
          "execution_count": 4
        }
      ]
    },
    {
      "cell_type": "code",
      "source": [
        "prep(local)"
      ],
      "metadata": {
        "colab": {
          "base_uri": "https://localhost:8080/",
          "height": 895
        },
        "id": "r90DR2W_Kjbt",
        "outputId": "c19647af-8c85-4a3b-b518-fcf3b4e9dd3c"
      },
      "execution_count": null,
      "outputs": [
        {
          "output_type": "stream",
          "name": "stdout",
          "text": [
            "محافظات                                     34956\n",
            "رمضان 1444 هــ .. تغطية خاصة                   30\n",
            "حصاد عام .. في عهد الإنجازات                   17\n",
            "الطريق الي الحوار الوطني                        4\n",
            "معرض القاهرة الدولى للكتاب .. تغطية خاصة        2\n",
            "معرض الكتاب                                     1\n",
            "Name: category, dtype: int64\n",
            "0\n",
            "hrefs       0\n",
            "headline    0\n",
            "briefing    0\n",
            "body        0\n",
            "category    0\n",
            "dtype: int64\n"
          ]
        },
        {
          "output_type": "execute_result",
          "data": {
            "text/plain": [
              "                                             hrefs  \\\n",
              "0      https://gate.ahram.org.eg/News/4272955.aspx   \n",
              "1      https://gate.ahram.org.eg/News/4272956.aspx   \n",
              "2      https://gate.ahram.org.eg/News/4272936.aspx   \n",
              "3      https://gate.ahram.org.eg/News/4272934.aspx   \n",
              "4      https://gate.ahram.org.eg/News/4272941.aspx   \n",
              "...                                            ...   \n",
              "35005  https://gate.ahram.org.eg/News/3838646.aspx   \n",
              "35006  https://gate.ahram.org.eg/News/3838644.aspx   \n",
              "35007  https://gate.ahram.org.eg/News/3838700.aspx   \n",
              "35008  https://gate.ahram.org.eg/News/3838694.aspx   \n",
              "35009  https://gate.ahram.org.eg/News/3838711.aspx   \n",
              "\n",
              "                                                headline  \\\n",
              "0      محافظ الغربية يتابع الاستعدادات النهائية لامتح...   \n",
              "1      \"الشباب والرياضة\" بالأقصر تنفذ ندوات عن التوعي...   \n",
              "2      متابعة عمل الوحدات الصحية والمراكز الطبية في 7...   \n",
              "3      اعتماد ملعب مركز شباب الصلعا كأول ملعب لـ«المي...   \n",
              "4      إخماد حريق فى أرض مزروعة بالقمح في مركز الحامو...   \n",
              "...                                                  ...   \n",
              "35005  أسعار الدواجن في أسواق محافظة البحيرة اليوم ال...   \n",
              "35006  استقرار أسعار الخضراوات والفاكهة في أسواق الغر...   \n",
              "35007     إصابة 4 أشخاص في حوادث متفرقة بدسوق وكفر الشيخ   \n",
              "35008                       توريد 34646 طن أرز بكفرالشيخ   \n",
              "35009  طقس الإسكندرية.. أجواء غائمة واستمرار فرص سقوط...   \n",
              "\n",
              "                                                briefing  \\\n",
              "0      التقى الدكتور طارق رحمي محافظ الغربية، بالمهند...   \n",
              "1      نفذت إدارة تنمية الشباب بمديرية الشباب والرياض...   \n",
              "2      قامت إدارة المتابعة بمديرية الشئون الصحية بمحا...   \n",
              "3      قام أحمد سمير، رئيس الاتحاد المصرى للميني فوتب...   \n",
              "4      تمكنت قوات الحماية المدنية بمركز الحامول فى كف...   \n",
              "...                                                  ...   \n",
              "35005  استقرت أسعار الدواجن البيضاء  فى أسواق محافظة ...   \n",
              "35006  ترصد \"بوابة الأهرام\" أسعار أسواق التجزئة للخضر...   \n",
              "35007  أصيب صباح اليوم الأحد، 4 أشخاص فى حوادث متفرقة...   \n",
              "35008  صرح عادل الهابط مساعد وكيل وزارة التموين بكفر ...   \n",
              "35009  تشهد محافظة الإسكندرية، اليوم الأحد، أجواء بار...   \n",
              "\n",
              "                                                    body category  \n",
              "0      التقى الدكتور طارق رحمي محافظ الغربية، بالمهند...  محافظات  \n",
              "1      نفذت إدارة تنمية الشباب بمديرية الشباب والرياض...  محافظات  \n",
              "2      قامت إدارة المتابعة بمديرية الشئون الصحية بمحا...  محافظات  \n",
              "3      قام أحمد سمير، رئيس الاتحاد المصرى للميني فوتب...  محافظات  \n",
              "4      تمكنت قوات الحماية المدنية بمركز الحامول فى كف...  محافظات  \n",
              "...                                                  ...      ...  \n",
              "35005  استقرت أسعار الدواجن البيضاء  فى أسواق محافظة ...  محافظات  \n",
              "35006  ترصد \"بوابة الأهرام\" أسعار أسواق التجزئة للخضر...  محافظات  \n",
              "35007  أصيب صباح اليوم الأحد، 4 أشخاص فى حوادث متفرقة...  محافظات  \n",
              "35008  صرح عادل الهابط مساعد وكيل وزارة التموين بكفر ...  محافظات  \n",
              "35009  تشهد محافظة الإسكندرية، اليوم الأحد، أجواء بار...  محافظات  \n",
              "\n",
              "[34891 rows x 5 columns]"
            ],
            "text/html": [
              "\n",
              "  <div id=\"df-d6bc87b7-2bda-48d0-beaa-9599fece2e02\">\n",
              "    <div class=\"colab-df-container\">\n",
              "      <div>\n",
              "<style scoped>\n",
              "    .dataframe tbody tr th:only-of-type {\n",
              "        vertical-align: middle;\n",
              "    }\n",
              "\n",
              "    .dataframe tbody tr th {\n",
              "        vertical-align: top;\n",
              "    }\n",
              "\n",
              "    .dataframe thead th {\n",
              "        text-align: right;\n",
              "    }\n",
              "</style>\n",
              "<table border=\"1\" class=\"dataframe\">\n",
              "  <thead>\n",
              "    <tr style=\"text-align: right;\">\n",
              "      <th></th>\n",
              "      <th>hrefs</th>\n",
              "      <th>headline</th>\n",
              "      <th>briefing</th>\n",
              "      <th>body</th>\n",
              "      <th>category</th>\n",
              "    </tr>\n",
              "  </thead>\n",
              "  <tbody>\n",
              "    <tr>\n",
              "      <th>0</th>\n",
              "      <td>https://gate.ahram.org.eg/News/4272955.aspx</td>\n",
              "      <td>محافظ الغربية يتابع الاستعدادات النهائية لامتح...</td>\n",
              "      <td>التقى الدكتور طارق رحمي محافظ الغربية، بالمهند...</td>\n",
              "      <td>التقى الدكتور طارق رحمي محافظ الغربية، بالمهند...</td>\n",
              "      <td>محافظات</td>\n",
              "    </tr>\n",
              "    <tr>\n",
              "      <th>1</th>\n",
              "      <td>https://gate.ahram.org.eg/News/4272956.aspx</td>\n",
              "      <td>\"الشباب والرياضة\" بالأقصر تنفذ ندوات عن التوعي...</td>\n",
              "      <td>نفذت إدارة تنمية الشباب بمديرية الشباب والرياض...</td>\n",
              "      <td>نفذت إدارة تنمية الشباب بمديرية الشباب والرياض...</td>\n",
              "      <td>محافظات</td>\n",
              "    </tr>\n",
              "    <tr>\n",
              "      <th>2</th>\n",
              "      <td>https://gate.ahram.org.eg/News/4272936.aspx</td>\n",
              "      <td>متابعة عمل الوحدات الصحية والمراكز الطبية في 7...</td>\n",
              "      <td>قامت إدارة المتابعة بمديرية الشئون الصحية بمحا...</td>\n",
              "      <td>قامت إدارة المتابعة بمديرية الشئون الصحية بمحا...</td>\n",
              "      <td>محافظات</td>\n",
              "    </tr>\n",
              "    <tr>\n",
              "      <th>3</th>\n",
              "      <td>https://gate.ahram.org.eg/News/4272934.aspx</td>\n",
              "      <td>اعتماد ملعب مركز شباب الصلعا كأول ملعب لـ«المي...</td>\n",
              "      <td>قام أحمد سمير، رئيس الاتحاد المصرى للميني فوتب...</td>\n",
              "      <td>قام أحمد سمير، رئيس الاتحاد المصرى للميني فوتب...</td>\n",
              "      <td>محافظات</td>\n",
              "    </tr>\n",
              "    <tr>\n",
              "      <th>4</th>\n",
              "      <td>https://gate.ahram.org.eg/News/4272941.aspx</td>\n",
              "      <td>إخماد حريق فى أرض مزروعة بالقمح في مركز الحامو...</td>\n",
              "      <td>تمكنت قوات الحماية المدنية بمركز الحامول فى كف...</td>\n",
              "      <td>تمكنت قوات الحماية المدنية بمركز الحامول فى كف...</td>\n",
              "      <td>محافظات</td>\n",
              "    </tr>\n",
              "    <tr>\n",
              "      <th>...</th>\n",
              "      <td>...</td>\n",
              "      <td>...</td>\n",
              "      <td>...</td>\n",
              "      <td>...</td>\n",
              "      <td>...</td>\n",
              "    </tr>\n",
              "    <tr>\n",
              "      <th>35005</th>\n",
              "      <td>https://gate.ahram.org.eg/News/3838646.aspx</td>\n",
              "      <td>أسعار الدواجن في أسواق محافظة البحيرة اليوم ال...</td>\n",
              "      <td>استقرت أسعار الدواجن البيضاء  فى أسواق محافظة ...</td>\n",
              "      <td>استقرت أسعار الدواجن البيضاء  فى أسواق محافظة ...</td>\n",
              "      <td>محافظات</td>\n",
              "    </tr>\n",
              "    <tr>\n",
              "      <th>35006</th>\n",
              "      <td>https://gate.ahram.org.eg/News/3838644.aspx</td>\n",
              "      <td>استقرار أسعار الخضراوات والفاكهة في أسواق الغر...</td>\n",
              "      <td>ترصد \"بوابة الأهرام\" أسعار أسواق التجزئة للخضر...</td>\n",
              "      <td>ترصد \"بوابة الأهرام\" أسعار أسواق التجزئة للخضر...</td>\n",
              "      <td>محافظات</td>\n",
              "    </tr>\n",
              "    <tr>\n",
              "      <th>35007</th>\n",
              "      <td>https://gate.ahram.org.eg/News/3838700.aspx</td>\n",
              "      <td>إصابة 4 أشخاص في حوادث متفرقة بدسوق وكفر الشيخ</td>\n",
              "      <td>أصيب صباح اليوم الأحد، 4 أشخاص فى حوادث متفرقة...</td>\n",
              "      <td>أصيب صباح اليوم الأحد، 4 أشخاص فى حوادث متفرقة...</td>\n",
              "      <td>محافظات</td>\n",
              "    </tr>\n",
              "    <tr>\n",
              "      <th>35008</th>\n",
              "      <td>https://gate.ahram.org.eg/News/3838694.aspx</td>\n",
              "      <td>توريد 34646 طن أرز بكفرالشيخ</td>\n",
              "      <td>صرح عادل الهابط مساعد وكيل وزارة التموين بكفر ...</td>\n",
              "      <td>صرح عادل الهابط مساعد وكيل وزارة التموين بكفر ...</td>\n",
              "      <td>محافظات</td>\n",
              "    </tr>\n",
              "    <tr>\n",
              "      <th>35009</th>\n",
              "      <td>https://gate.ahram.org.eg/News/3838711.aspx</td>\n",
              "      <td>طقس الإسكندرية.. أجواء غائمة واستمرار فرص سقوط...</td>\n",
              "      <td>تشهد محافظة الإسكندرية، اليوم الأحد، أجواء بار...</td>\n",
              "      <td>تشهد محافظة الإسكندرية، اليوم الأحد، أجواء بار...</td>\n",
              "      <td>محافظات</td>\n",
              "    </tr>\n",
              "  </tbody>\n",
              "</table>\n",
              "<p>34891 rows × 5 columns</p>\n",
              "</div>\n",
              "      <button class=\"colab-df-convert\" onclick=\"convertToInteractive('df-d6bc87b7-2bda-48d0-beaa-9599fece2e02')\"\n",
              "              title=\"Convert this dataframe to an interactive table.\"\n",
              "              style=\"display:none;\">\n",
              "        \n",
              "  <svg xmlns=\"http://www.w3.org/2000/svg\" height=\"24px\"viewBox=\"0 0 24 24\"\n",
              "       width=\"24px\">\n",
              "    <path d=\"M0 0h24v24H0V0z\" fill=\"none\"/>\n",
              "    <path d=\"M18.56 5.44l.94 2.06.94-2.06 2.06-.94-2.06-.94-.94-2.06-.94 2.06-2.06.94zm-11 1L8.5 8.5l.94-2.06 2.06-.94-2.06-.94L8.5 2.5l-.94 2.06-2.06.94zm10 10l.94 2.06.94-2.06 2.06-.94-2.06-.94-.94-2.06-.94 2.06-2.06.94z\"/><path d=\"M17.41 7.96l-1.37-1.37c-.4-.4-.92-.59-1.43-.59-.52 0-1.04.2-1.43.59L10.3 9.45l-7.72 7.72c-.78.78-.78 2.05 0 2.83L4 21.41c.39.39.9.59 1.41.59.51 0 1.02-.2 1.41-.59l7.78-7.78 2.81-2.81c.8-.78.8-2.07 0-2.86zM5.41 20L4 18.59l7.72-7.72 1.47 1.35L5.41 20z\"/>\n",
              "  </svg>\n",
              "      </button>\n",
              "      \n",
              "  <style>\n",
              "    .colab-df-container {\n",
              "      display:flex;\n",
              "      flex-wrap:wrap;\n",
              "      gap: 12px;\n",
              "    }\n",
              "\n",
              "    .colab-df-convert {\n",
              "      background-color: #E8F0FE;\n",
              "      border: none;\n",
              "      border-radius: 50%;\n",
              "      cursor: pointer;\n",
              "      display: none;\n",
              "      fill: #1967D2;\n",
              "      height: 32px;\n",
              "      padding: 0 0 0 0;\n",
              "      width: 32px;\n",
              "    }\n",
              "\n",
              "    .colab-df-convert:hover {\n",
              "      background-color: #E2EBFA;\n",
              "      box-shadow: 0px 1px 2px rgba(60, 64, 67, 0.3), 0px 1px 3px 1px rgba(60, 64, 67, 0.15);\n",
              "      fill: #174EA6;\n",
              "    }\n",
              "\n",
              "    [theme=dark] .colab-df-convert {\n",
              "      background-color: #3B4455;\n",
              "      fill: #D2E3FC;\n",
              "    }\n",
              "\n",
              "    [theme=dark] .colab-df-convert:hover {\n",
              "      background-color: #434B5C;\n",
              "      box-shadow: 0px 1px 3px 1px rgba(0, 0, 0, 0.15);\n",
              "      filter: drop-shadow(0px 1px 2px rgba(0, 0, 0, 0.3));\n",
              "      fill: #FFFFFF;\n",
              "    }\n",
              "  </style>\n",
              "\n",
              "      <script>\n",
              "        const buttonEl =\n",
              "          document.querySelector('#df-d6bc87b7-2bda-48d0-beaa-9599fece2e02 button.colab-df-convert');\n",
              "        buttonEl.style.display =\n",
              "          google.colab.kernel.accessAllowed ? 'block' : 'none';\n",
              "\n",
              "        async function convertToInteractive(key) {\n",
              "          const element = document.querySelector('#df-d6bc87b7-2bda-48d0-beaa-9599fece2e02');\n",
              "          const dataTable =\n",
              "            await google.colab.kernel.invokeFunction('convertToInteractive',\n",
              "                                                     [key], {});\n",
              "          if (!dataTable) return;\n",
              "\n",
              "          const docLinkHtml = 'Like what you see? Visit the ' +\n",
              "            '<a target=\"_blank\" href=https://colab.research.google.com/notebooks/data_table.ipynb>data table notebook</a>'\n",
              "            + ' to learn more about interactive tables.';\n",
              "          element.innerHTML = '';\n",
              "          dataTable['output_type'] = 'display_data';\n",
              "          await google.colab.output.renderOutput(dataTable, element);\n",
              "          const docLink = document.createElement('div');\n",
              "          docLink.innerHTML = docLinkHtml;\n",
              "          element.appendChild(docLink);\n",
              "        }\n",
              "      </script>\n",
              "    </div>\n",
              "  </div>\n",
              "  "
            ]
          },
          "metadata": {},
          "execution_count": 7
        }
      ]
    },
    {
      "cell_type": "code",
      "source": [
        "local.category.value_counts()"
      ],
      "metadata": {
        "colab": {
          "base_uri": "https://localhost:8080/"
        },
        "id": "9xmwk_DsfIZV",
        "outputId": "58f1cd31-7e64-4990-b52d-a72b15c2d64c"
      },
      "execution_count": null,
      "outputs": [
        {
          "output_type": "execute_result",
          "data": {
            "text/plain": [
              "محافظات                                     34956\n",
              "رمضان 1444 هــ .. تغطية خاصة                   30\n",
              "حصاد عام .. في عهد الإنجازات                   17\n",
              "الطريق الي الحوار الوطني                        4\n",
              "معرض القاهرة الدولى للكتاب .. تغطية خاصة        2\n",
              "معرض الكتاب                                     1\n",
              "Name: category, dtype: int64"
            ]
          },
          "metadata": {},
          "execution_count": 110
        }
      ]
    },
    {
      "cell_type": "code",
      "source": [
        "local.category = 'محافظات'"
      ],
      "metadata": {
        "id": "gJekN_IxfQR4"
      },
      "execution_count": null,
      "outputs": []
    },
    {
      "cell_type": "code",
      "source": [
        "local.category.value_counts()"
      ],
      "metadata": {
        "colab": {
          "base_uri": "https://localhost:8080/"
        },
        "id": "kp-WrhksfYtW",
        "outputId": "61330e49-d80b-4c9b-ca11-75630a6df629"
      },
      "execution_count": null,
      "outputs": [
        {
          "output_type": "execute_result",
          "data": {
            "text/plain": [
              "محافظات    35010\n",
              "Name: category, dtype: int64"
            ]
          },
          "metadata": {},
          "execution_count": 112
        }
      ]
    },
    {
      "cell_type": "code",
      "source": [
        "local.drop_duplicates(inplace=True)"
      ],
      "metadata": {
        "id": "mYRaJOrWhW5V"
      },
      "execution_count": null,
      "outputs": []
    },
    {
      "cell_type": "code",
      "source": [
        "local.duplicated().sum()"
      ],
      "metadata": {
        "colab": {
          "base_uri": "https://localhost:8080/"
        },
        "id": "vxiK1nDAfbdX",
        "outputId": "86b6938b-0541-4f24-f188-4a28e4b0cd7e"
      },
      "execution_count": null,
      "outputs": [
        {
          "output_type": "execute_result",
          "data": {
            "text/plain": [
              "0"
            ]
          },
          "metadata": {},
          "execution_count": 127
        }
      ]
    },
    {
      "cell_type": "code",
      "source": [
        "local.dropna(inplace=True)"
      ],
      "metadata": {
        "id": "t6gmnZgzhbD5"
      },
      "execution_count": null,
      "outputs": []
    },
    {
      "cell_type": "code",
      "source": [
        "local.isna().sum()"
      ],
      "metadata": {
        "colab": {
          "base_uri": "https://localhost:8080/"
        },
        "id": "i5yQVTA2fgfJ",
        "outputId": "1e1d8597-ee48-4c05-d07e-b833e7f8c262"
      },
      "execution_count": null,
      "outputs": [
        {
          "output_type": "execute_result",
          "data": {
            "text/plain": [
              "hrefs       0\n",
              "headline    0\n",
              "briefing    0\n",
              "body        0\n",
              "category    0\n",
              "dtype: int64"
            ]
          },
          "metadata": {},
          "execution_count": 130
        }
      ]
    },
    {
      "cell_type": "code",
      "source": [
        "local1 = local[0:10000]\n",
        "local1.shape"
      ],
      "metadata": {
        "colab": {
          "base_uri": "https://localhost:8080/"
        },
        "id": "c7Eu5DwvIQzQ",
        "outputId": "dc809ace-c2d2-4620-f35b-99d028ebf3f1"
      },
      "execution_count": null,
      "outputs": [
        {
          "output_type": "execute_result",
          "data": {
            "text/plain": [
              "(10000, 5)"
            ]
          },
          "metadata": {},
          "execution_count": 218
        }
      ]
    },
    {
      "cell_type": "code",
      "source": [
        "local.to_csv('local_N.csv')"
      ],
      "metadata": {
        "id": "ZBnwwm1ghrok"
      },
      "execution_count": null,
      "outputs": []
    },
    {
      "cell_type": "code",
      "source": [
        "local1.to_csv('local1_N.csv')"
      ],
      "metadata": {
        "id": "dSnFdenBIilx"
      },
      "execution_count": null,
      "outputs": []
    },
    {
      "cell_type": "code",
      "source": [
        "arts = pd.read_csv('/content/arts.csv', names = ['hrefs', 'headline', 'briefing', 'body', 'category'])\n",
        "print(arts.shape)\n",
        "arts.head()"
      ],
      "metadata": {
        "colab": {
          "base_uri": "https://localhost:8080/",
          "height": 355
        },
        "id": "7Yn4vddS8gs_",
        "outputId": "39f32362-d9ab-430b-a6c6-f295c1e717eb"
      },
      "execution_count": null,
      "outputs": [
        {
          "output_type": "stream",
          "name": "stdout",
          "text": [
            "(35010, 5)\n"
          ]
        },
        {
          "output_type": "execute_result",
          "data": {
            "text/plain": [
              "                                         hrefs  \\\n",
              "0  https://gate.ahram.org.eg/News/4273094.aspx   \n",
              "1  https://gate.ahram.org.eg/News/4273085.aspx   \n",
              "2  https://gate.ahram.org.eg/News/4273066.aspx   \n",
              "3  https://gate.ahram.org.eg/News/4273075.aspx   \n",
              "4  https://gate.ahram.org.eg/News/4273023.aspx   \n",
              "\n",
              "                                            headline  \\\n",
              "0  مهرجان المركز الكاثوليكي يمنح الفنان يحيى الفخ...   \n",
              "1  تكريم الفنان محمود حميدة عن مشواره الفني في اف...   \n",
              "2  فعاليات ناجحة وعروض استثنائية في النسخة الرابع...   \n",
              "3  يحيى الفخراني ومحمود حميدة أبرز الحاضرين.. انط...   \n",
              "4  موعد عرض الفيلم الوثائقي \"يوسف إدريس\" على شاشة...   \n",
              "\n",
              "                                            briefing  \\\n",
              "0  منح مهرجان المركز الكاثوليكى الفنان الكبير يحي...   \n",
              "1  كرم مهرجان المركز الكاثوليكى للسينما في دورته ...   \n",
              "2  طوال أسبوع كامل وبحضور رفيع المستوى لنخبة صناع...   \n",
              "3  انطلق منذ قليل حفل افتتاح مهرجان المركز الكاثو...   \n",
              "4  تعرض قناة \"الوثائقية\" يوم الأحد المقبل 7 مايو ...   \n",
              "\n",
              "                                                body     category  \n",
              "0  منح مهرجان المركز الكاثوليكى الفنان الكبير يحي...  ثقافة وفنون  \n",
              "1  كرم مهرجان المركز الكاثوليكى للسينما في دورته ...  ثقافة وفنون  \n",
              "2  طوال أسبوع كامل وبحضور رفيع المستوى لنخبة صناع...  ثقافة وفنون  \n",
              "3  انطلق منذ قليل حفل افتتاح مهرجان المركز الكاثو...  ثقافة وفنون  \n",
              "4  تعرض قناة \"الوثائقية\" يوم الأحد المقبل 7 مايو ...  ثقافة وفنون  "
            ],
            "text/html": [
              "\n",
              "  <div id=\"df-916f8ea4-e29c-4340-8069-fe7212ce3873\">\n",
              "    <div class=\"colab-df-container\">\n",
              "      <div>\n",
              "<style scoped>\n",
              "    .dataframe tbody tr th:only-of-type {\n",
              "        vertical-align: middle;\n",
              "    }\n",
              "\n",
              "    .dataframe tbody tr th {\n",
              "        vertical-align: top;\n",
              "    }\n",
              "\n",
              "    .dataframe thead th {\n",
              "        text-align: right;\n",
              "    }\n",
              "</style>\n",
              "<table border=\"1\" class=\"dataframe\">\n",
              "  <thead>\n",
              "    <tr style=\"text-align: right;\">\n",
              "      <th></th>\n",
              "      <th>hrefs</th>\n",
              "      <th>headline</th>\n",
              "      <th>briefing</th>\n",
              "      <th>body</th>\n",
              "      <th>category</th>\n",
              "    </tr>\n",
              "  </thead>\n",
              "  <tbody>\n",
              "    <tr>\n",
              "      <th>0</th>\n",
              "      <td>https://gate.ahram.org.eg/News/4273094.aspx</td>\n",
              "      <td>مهرجان المركز الكاثوليكي يمنح الفنان يحيى الفخ...</td>\n",
              "      <td>منح مهرجان المركز الكاثوليكى الفنان الكبير يحي...</td>\n",
              "      <td>منح مهرجان المركز الكاثوليكى الفنان الكبير يحي...</td>\n",
              "      <td>ثقافة وفنون</td>\n",
              "    </tr>\n",
              "    <tr>\n",
              "      <th>1</th>\n",
              "      <td>https://gate.ahram.org.eg/News/4273085.aspx</td>\n",
              "      <td>تكريم الفنان محمود حميدة عن مشواره الفني في اف...</td>\n",
              "      <td>كرم مهرجان المركز الكاثوليكى للسينما في دورته ...</td>\n",
              "      <td>كرم مهرجان المركز الكاثوليكى للسينما في دورته ...</td>\n",
              "      <td>ثقافة وفنون</td>\n",
              "    </tr>\n",
              "    <tr>\n",
              "      <th>2</th>\n",
              "      <td>https://gate.ahram.org.eg/News/4273066.aspx</td>\n",
              "      <td>فعاليات ناجحة وعروض استثنائية في النسخة الرابع...</td>\n",
              "      <td>طوال أسبوع كامل وبحضور رفيع المستوى لنخبة صناع...</td>\n",
              "      <td>طوال أسبوع كامل وبحضور رفيع المستوى لنخبة صناع...</td>\n",
              "      <td>ثقافة وفنون</td>\n",
              "    </tr>\n",
              "    <tr>\n",
              "      <th>3</th>\n",
              "      <td>https://gate.ahram.org.eg/News/4273075.aspx</td>\n",
              "      <td>يحيى الفخراني ومحمود حميدة أبرز الحاضرين.. انط...</td>\n",
              "      <td>انطلق منذ قليل حفل افتتاح مهرجان المركز الكاثو...</td>\n",
              "      <td>انطلق منذ قليل حفل افتتاح مهرجان المركز الكاثو...</td>\n",
              "      <td>ثقافة وفنون</td>\n",
              "    </tr>\n",
              "    <tr>\n",
              "      <th>4</th>\n",
              "      <td>https://gate.ahram.org.eg/News/4273023.aspx</td>\n",
              "      <td>موعد عرض الفيلم الوثائقي \"يوسف إدريس\" على شاشة...</td>\n",
              "      <td>تعرض قناة \"الوثائقية\" يوم الأحد المقبل 7 مايو ...</td>\n",
              "      <td>تعرض قناة \"الوثائقية\" يوم الأحد المقبل 7 مايو ...</td>\n",
              "      <td>ثقافة وفنون</td>\n",
              "    </tr>\n",
              "  </tbody>\n",
              "</table>\n",
              "</div>\n",
              "      <button class=\"colab-df-convert\" onclick=\"convertToInteractive('df-916f8ea4-e29c-4340-8069-fe7212ce3873')\"\n",
              "              title=\"Convert this dataframe to an interactive table.\"\n",
              "              style=\"display:none;\">\n",
              "        \n",
              "  <svg xmlns=\"http://www.w3.org/2000/svg\" height=\"24px\"viewBox=\"0 0 24 24\"\n",
              "       width=\"24px\">\n",
              "    <path d=\"M0 0h24v24H0V0z\" fill=\"none\"/>\n",
              "    <path d=\"M18.56 5.44l.94 2.06.94-2.06 2.06-.94-2.06-.94-.94-2.06-.94 2.06-2.06.94zm-11 1L8.5 8.5l.94-2.06 2.06-.94-2.06-.94L8.5 2.5l-.94 2.06-2.06.94zm10 10l.94 2.06.94-2.06 2.06-.94-2.06-.94-.94-2.06-.94 2.06-2.06.94z\"/><path d=\"M17.41 7.96l-1.37-1.37c-.4-.4-.92-.59-1.43-.59-.52 0-1.04.2-1.43.59L10.3 9.45l-7.72 7.72c-.78.78-.78 2.05 0 2.83L4 21.41c.39.39.9.59 1.41.59.51 0 1.02-.2 1.41-.59l7.78-7.78 2.81-2.81c.8-.78.8-2.07 0-2.86zM5.41 20L4 18.59l7.72-7.72 1.47 1.35L5.41 20z\"/>\n",
              "  </svg>\n",
              "      </button>\n",
              "      \n",
              "  <style>\n",
              "    .colab-df-container {\n",
              "      display:flex;\n",
              "      flex-wrap:wrap;\n",
              "      gap: 12px;\n",
              "    }\n",
              "\n",
              "    .colab-df-convert {\n",
              "      background-color: #E8F0FE;\n",
              "      border: none;\n",
              "      border-radius: 50%;\n",
              "      cursor: pointer;\n",
              "      display: none;\n",
              "      fill: #1967D2;\n",
              "      height: 32px;\n",
              "      padding: 0 0 0 0;\n",
              "      width: 32px;\n",
              "    }\n",
              "\n",
              "    .colab-df-convert:hover {\n",
              "      background-color: #E2EBFA;\n",
              "      box-shadow: 0px 1px 2px rgba(60, 64, 67, 0.3), 0px 1px 3px 1px rgba(60, 64, 67, 0.15);\n",
              "      fill: #174EA6;\n",
              "    }\n",
              "\n",
              "    [theme=dark] .colab-df-convert {\n",
              "      background-color: #3B4455;\n",
              "      fill: #D2E3FC;\n",
              "    }\n",
              "\n",
              "    [theme=dark] .colab-df-convert:hover {\n",
              "      background-color: #434B5C;\n",
              "      box-shadow: 0px 1px 3px 1px rgba(0, 0, 0, 0.15);\n",
              "      filter: drop-shadow(0px 1px 2px rgba(0, 0, 0, 0.3));\n",
              "      fill: #FFFFFF;\n",
              "    }\n",
              "  </style>\n",
              "\n",
              "      <script>\n",
              "        const buttonEl =\n",
              "          document.querySelector('#df-916f8ea4-e29c-4340-8069-fe7212ce3873 button.colab-df-convert');\n",
              "        buttonEl.style.display =\n",
              "          google.colab.kernel.accessAllowed ? 'block' : 'none';\n",
              "\n",
              "        async function convertToInteractive(key) {\n",
              "          const element = document.querySelector('#df-916f8ea4-e29c-4340-8069-fe7212ce3873');\n",
              "          const dataTable =\n",
              "            await google.colab.kernel.invokeFunction('convertToInteractive',\n",
              "                                                     [key], {});\n",
              "          if (!dataTable) return;\n",
              "\n",
              "          const docLinkHtml = 'Like what you see? Visit the ' +\n",
              "            '<a target=\"_blank\" href=https://colab.research.google.com/notebooks/data_table.ipynb>data table notebook</a>'\n",
              "            + ' to learn more about interactive tables.';\n",
              "          element.innerHTML = '';\n",
              "          dataTable['output_type'] = 'display_data';\n",
              "          await google.colab.output.renderOutput(dataTable, element);\n",
              "          const docLink = document.createElement('div');\n",
              "          docLink.innerHTML = docLinkHtml;\n",
              "          element.appendChild(docLink);\n",
              "        }\n",
              "      </script>\n",
              "    </div>\n",
              "  </div>\n",
              "  "
            ]
          },
          "metadata": {},
          "execution_count": 16
        }
      ]
    },
    {
      "cell_type": "code",
      "source": [
        "arts.category.value_counts()"
      ],
      "metadata": {
        "colab": {
          "base_uri": "https://localhost:8080/"
        },
        "id": "BqmKgqjHe3UW",
        "outputId": "4c115f2a-1309-4e31-83e5-0580eeab210f"
      },
      "execution_count": null,
      "outputs": [
        {
          "output_type": "execute_result",
          "data": {
            "text/plain": [
              "ثقافة وفنون                                             34617\n",
              "معرض الكتاب                                               131\n",
              "مهرجان الاسماعيلية الدولي للأفلام التسجيلية والقصيرة       60\n",
              "مهرجان الإسكندرية السينمائي لدول البحر المتوسط             52\n",
              "رمضان 1443هــ تغطية خاصة                                   32\n",
              "مهرجان الاسكندرية السينمائى                                26\n",
              "رمضان 1444 هــ .. تغطية خاصة                               21\n",
              "الطريق الى قمة المناخ COP27 شرم الشيخ 2022                 12\n",
              "سنوات الإنجاز والإعجاز                                     12\n",
              "حصاد عام .. في عهد الإنجازات                                8\n",
              "معرض القاهرة الدولى للكتاب .. تغطية خاصة                    5\n",
              "أكتوبر..حكايات النصر وحرب الوعي                             5\n",
              "ثورة شعب .. وتضحية قائد                                     5\n",
              "حفل افتتاح طريق الكباش .. تغطية خاصة                        4\n",
              "كأس العالم 2022 .. تغطية خاصة                               4\n",
              "حصاد 2021 .. عام في عصر الإنجاز والإعجاز                    3\n",
              "وداعا البطل المشير طنطاوي                                   3\n",
              "الرحلة .. حوارات مع قامات                                   2\n",
              "إلغاء مد حالة الطوارئ                                       2\n",
              "أكتوبر إرادة وطن                                            1\n",
              "المؤتمر الاقتصادي مصر 2022                                  1\n",
              "بطولة الأمم الإفريقية 2022                                  1\n",
              "منتدى شباب العالم .. تغطية خاصة                             1\n",
              "الصعيد يجني ثمار الإنجاز والإعجاز                           1\n",
              "الحرب الروسية - الأوكرانية .. تغطية خاصة                    1\n",
              "Name: category, dtype: int64"
            ]
          },
          "metadata": {},
          "execution_count": 107
        }
      ]
    },
    {
      "cell_type": "code",
      "source": [
        "arts.category = 'ثقافة وفنون'"
      ],
      "metadata": {
        "id": "bACxeyh9e-FZ"
      },
      "execution_count": null,
      "outputs": []
    },
    {
      "cell_type": "code",
      "source": [
        "arts.category.value_counts()"
      ],
      "metadata": {
        "colab": {
          "base_uri": "https://localhost:8080/"
        },
        "id": "DD6qem0WfEXl",
        "outputId": "a353a73b-4edf-4833-fd03-4c126f1754ea"
      },
      "execution_count": null,
      "outputs": [
        {
          "output_type": "execute_result",
          "data": {
            "text/plain": [
              "ثقافة وفنون    35010\n",
              "Name: category, dtype: int64"
            ]
          },
          "metadata": {},
          "execution_count": 109
        }
      ]
    },
    {
      "cell_type": "code",
      "source": [
        "arts.drop_duplicates(inplace=True)"
      ],
      "metadata": {
        "id": "b_wwYr_Vh15-"
      },
      "execution_count": null,
      "outputs": []
    },
    {
      "cell_type": "code",
      "source": [
        "arts.duplicated().sum()"
      ],
      "metadata": {
        "colab": {
          "base_uri": "https://localhost:8080/"
        },
        "id": "Z2uTTN0XiEz6",
        "outputId": "90ba5d01-2ce3-4c96-f353-868130b6c76d"
      },
      "execution_count": null,
      "outputs": [
        {
          "output_type": "execute_result",
          "data": {
            "text/plain": [
              "0"
            ]
          },
          "metadata": {},
          "execution_count": 137
        }
      ]
    },
    {
      "cell_type": "code",
      "source": [
        "arts.dropna(inplace=True)"
      ],
      "metadata": {
        "id": "iyBQXCEyiHol"
      },
      "execution_count": null,
      "outputs": []
    },
    {
      "cell_type": "code",
      "source": [
        "arts.isna().sum()"
      ],
      "metadata": {
        "colab": {
          "base_uri": "https://localhost:8080/"
        },
        "id": "rxJ9GI8QiYJH",
        "outputId": "f5954cec-9d18-40be-9434-c704058ba165"
      },
      "execution_count": null,
      "outputs": [
        {
          "output_type": "execute_result",
          "data": {
            "text/plain": [
              "hrefs       0\n",
              "headline    0\n",
              "briefing    0\n",
              "body        0\n",
              "category    0\n",
              "dtype: int64"
            ]
          },
          "metadata": {},
          "execution_count": 139
        }
      ]
    },
    {
      "cell_type": "code",
      "source": [
        "arts1 = arts[0:10000]\n",
        "arts1.shape"
      ],
      "metadata": {
        "colab": {
          "base_uri": "https://localhost:8080/"
        },
        "id": "W7kaHFpAFk3W",
        "outputId": "4ec71d18-40b1-4d66-ce38-923d1b045ded"
      },
      "execution_count": null,
      "outputs": [
        {
          "output_type": "execute_result",
          "data": {
            "text/plain": [
              "(10000, 5)"
            ]
          },
          "metadata": {},
          "execution_count": 215
        }
      ]
    },
    {
      "cell_type": "code",
      "source": [
        "arts1.to_csv('arts1_N.csv')"
      ],
      "metadata": {
        "id": "_NOkGCPtQOpQ"
      },
      "execution_count": null,
      "outputs": []
    },
    {
      "cell_type": "code",
      "source": [
        "arts1.to_csv('arts1_N.csv')"
      ],
      "metadata": {
        "id": "jzgn6r4QG48r"
      },
      "execution_count": null,
      "outputs": []
    },
    {
      "cell_type": "code",
      "source": [
        "crime = pd.read_csv('/content/crime.csv', names = ['hrefs', 'headline', 'briefing', 'body', 'category'])\n",
        "print(crime.shape)\n",
        "crime.head()"
      ],
      "metadata": {
        "colab": {
          "base_uri": "https://localhost:8080/",
          "height": 355
        },
        "id": "kSjTPmJg8uVL",
        "outputId": "6ab4f988-4ea3-48fa-a455-e9b622b4c97a"
      },
      "execution_count": null,
      "outputs": [
        {
          "output_type": "stream",
          "name": "stdout",
          "text": [
            "(35010, 5)\n"
          ]
        },
        {
          "output_type": "execute_result",
          "data": {
            "text/plain": [
              "                                         hrefs  \\\n",
              "0  https://gate.ahram.org.eg/News/4272904.aspx   \n",
              "1  https://gate.ahram.org.eg/News/4272907.aspx   \n",
              "2  https://gate.ahram.org.eg/News/4272911.aspx   \n",
              "3  https://gate.ahram.org.eg/News/4272893.aspx   \n",
              "4  https://gate.ahram.org.eg/News/4272837.aspx   \n",
              "\n",
              "                                            headline  \\\n",
              "0  بينها نقد ومخدرات.. تعرف على جهود الداخلية في ...   \n",
              "1  الداخلية تنظم دورة في خدمات المشورة الطبية للك...   \n",
              "2  الأمن العام يضبط عنصرا إجراميا قبل ترويج 12 كي...   \n",
              "3  بعد ارتكابهم 5 جرائم.. القبض على عصابة سرقة ال...   \n",
              "4  لترشيد الاستهلاك.. تحرير 238 مخالفة للمحال الت...   \n",
              "\n",
              "                                            briefing  \\\n",
              "0  واصل قطاع أمن المنافذ بوزارة الداخلية، بالتنسي...   \n",
              "1  نظم قطاع الحماية المجتمعية بوزارة الداخلية، دو...   \n",
              "2  تمكن قطاع الأمن العام بمشاركة الإدارة العامة ل...   \n",
              "3  تمكنت مباحث القاهرة، من ضبط تشكيل عصابي تخصص ن...   \n",
              "4  وجهت أجهزة وزارة الداخلية على مستوى الجمهورية،...   \n",
              "\n",
              "                                                body category  \n",
              "0  واصل قطاع أمن المنافذ بوزارة الداخلية، بالتنسي...   حـوادث  \n",
              "1  نظم قطاع الحماية المجتمعية بوزارة الداخلية، دو...   حـوادث  \n",
              "2  تمكن قطاع الأمن العام بمشاركة الإدارة العامة ل...   حـوادث  \n",
              "3  تمكنت مباحث القاهرة، من ضبط تشكيل عصابي تخصص ن...   حـوادث  \n",
              "4  وجهت أجهزة وزارة الداخلية على مستوى الجمهورية،...   حـوادث  "
            ],
            "text/html": [
              "\n",
              "  <div id=\"df-768882b2-ca0f-4576-8430-ebe737cd8f51\">\n",
              "    <div class=\"colab-df-container\">\n",
              "      <div>\n",
              "<style scoped>\n",
              "    .dataframe tbody tr th:only-of-type {\n",
              "        vertical-align: middle;\n",
              "    }\n",
              "\n",
              "    .dataframe tbody tr th {\n",
              "        vertical-align: top;\n",
              "    }\n",
              "\n",
              "    .dataframe thead th {\n",
              "        text-align: right;\n",
              "    }\n",
              "</style>\n",
              "<table border=\"1\" class=\"dataframe\">\n",
              "  <thead>\n",
              "    <tr style=\"text-align: right;\">\n",
              "      <th></th>\n",
              "      <th>hrefs</th>\n",
              "      <th>headline</th>\n",
              "      <th>briefing</th>\n",
              "      <th>body</th>\n",
              "      <th>category</th>\n",
              "    </tr>\n",
              "  </thead>\n",
              "  <tbody>\n",
              "    <tr>\n",
              "      <th>0</th>\n",
              "      <td>https://gate.ahram.org.eg/News/4272904.aspx</td>\n",
              "      <td>بينها نقد ومخدرات.. تعرف على جهود الداخلية في ...</td>\n",
              "      <td>واصل قطاع أمن المنافذ بوزارة الداخلية، بالتنسي...</td>\n",
              "      <td>واصل قطاع أمن المنافذ بوزارة الداخلية، بالتنسي...</td>\n",
              "      <td>حـوادث</td>\n",
              "    </tr>\n",
              "    <tr>\n",
              "      <th>1</th>\n",
              "      <td>https://gate.ahram.org.eg/News/4272907.aspx</td>\n",
              "      <td>الداخلية تنظم دورة في خدمات المشورة الطبية للك...</td>\n",
              "      <td>نظم قطاع الحماية المجتمعية بوزارة الداخلية، دو...</td>\n",
              "      <td>نظم قطاع الحماية المجتمعية بوزارة الداخلية، دو...</td>\n",
              "      <td>حـوادث</td>\n",
              "    </tr>\n",
              "    <tr>\n",
              "      <th>2</th>\n",
              "      <td>https://gate.ahram.org.eg/News/4272911.aspx</td>\n",
              "      <td>الأمن العام يضبط عنصرا إجراميا قبل ترويج 12 كي...</td>\n",
              "      <td>تمكن قطاع الأمن العام بمشاركة الإدارة العامة ل...</td>\n",
              "      <td>تمكن قطاع الأمن العام بمشاركة الإدارة العامة ل...</td>\n",
              "      <td>حـوادث</td>\n",
              "    </tr>\n",
              "    <tr>\n",
              "      <th>3</th>\n",
              "      <td>https://gate.ahram.org.eg/News/4272893.aspx</td>\n",
              "      <td>بعد ارتكابهم 5 جرائم.. القبض على عصابة سرقة ال...</td>\n",
              "      <td>تمكنت مباحث القاهرة، من ضبط تشكيل عصابي تخصص ن...</td>\n",
              "      <td>تمكنت مباحث القاهرة، من ضبط تشكيل عصابي تخصص ن...</td>\n",
              "      <td>حـوادث</td>\n",
              "    </tr>\n",
              "    <tr>\n",
              "      <th>4</th>\n",
              "      <td>https://gate.ahram.org.eg/News/4272837.aspx</td>\n",
              "      <td>لترشيد الاستهلاك.. تحرير 238 مخالفة للمحال الت...</td>\n",
              "      <td>وجهت أجهزة وزارة الداخلية على مستوى الجمهورية،...</td>\n",
              "      <td>وجهت أجهزة وزارة الداخلية على مستوى الجمهورية،...</td>\n",
              "      <td>حـوادث</td>\n",
              "    </tr>\n",
              "  </tbody>\n",
              "</table>\n",
              "</div>\n",
              "      <button class=\"colab-df-convert\" onclick=\"convertToInteractive('df-768882b2-ca0f-4576-8430-ebe737cd8f51')\"\n",
              "              title=\"Convert this dataframe to an interactive table.\"\n",
              "              style=\"display:none;\">\n",
              "        \n",
              "  <svg xmlns=\"http://www.w3.org/2000/svg\" height=\"24px\"viewBox=\"0 0 24 24\"\n",
              "       width=\"24px\">\n",
              "    <path d=\"M0 0h24v24H0V0z\" fill=\"none\"/>\n",
              "    <path d=\"M18.56 5.44l.94 2.06.94-2.06 2.06-.94-2.06-.94-.94-2.06-.94 2.06-2.06.94zm-11 1L8.5 8.5l.94-2.06 2.06-.94-2.06-.94L8.5 2.5l-.94 2.06-2.06.94zm10 10l.94 2.06.94-2.06 2.06-.94-2.06-.94-.94-2.06-.94 2.06-2.06.94z\"/><path d=\"M17.41 7.96l-1.37-1.37c-.4-.4-.92-.59-1.43-.59-.52 0-1.04.2-1.43.59L10.3 9.45l-7.72 7.72c-.78.78-.78 2.05 0 2.83L4 21.41c.39.39.9.59 1.41.59.51 0 1.02-.2 1.41-.59l7.78-7.78 2.81-2.81c.8-.78.8-2.07 0-2.86zM5.41 20L4 18.59l7.72-7.72 1.47 1.35L5.41 20z\"/>\n",
              "  </svg>\n",
              "      </button>\n",
              "      \n",
              "  <style>\n",
              "    .colab-df-container {\n",
              "      display:flex;\n",
              "      flex-wrap:wrap;\n",
              "      gap: 12px;\n",
              "    }\n",
              "\n",
              "    .colab-df-convert {\n",
              "      background-color: #E8F0FE;\n",
              "      border: none;\n",
              "      border-radius: 50%;\n",
              "      cursor: pointer;\n",
              "      display: none;\n",
              "      fill: #1967D2;\n",
              "      height: 32px;\n",
              "      padding: 0 0 0 0;\n",
              "      width: 32px;\n",
              "    }\n",
              "\n",
              "    .colab-df-convert:hover {\n",
              "      background-color: #E2EBFA;\n",
              "      box-shadow: 0px 1px 2px rgba(60, 64, 67, 0.3), 0px 1px 3px 1px rgba(60, 64, 67, 0.15);\n",
              "      fill: #174EA6;\n",
              "    }\n",
              "\n",
              "    [theme=dark] .colab-df-convert {\n",
              "      background-color: #3B4455;\n",
              "      fill: #D2E3FC;\n",
              "    }\n",
              "\n",
              "    [theme=dark] .colab-df-convert:hover {\n",
              "      background-color: #434B5C;\n",
              "      box-shadow: 0px 1px 3px 1px rgba(0, 0, 0, 0.15);\n",
              "      filter: drop-shadow(0px 1px 2px rgba(0, 0, 0, 0.3));\n",
              "      fill: #FFFFFF;\n",
              "    }\n",
              "  </style>\n",
              "\n",
              "      <script>\n",
              "        const buttonEl =\n",
              "          document.querySelector('#df-768882b2-ca0f-4576-8430-ebe737cd8f51 button.colab-df-convert');\n",
              "        buttonEl.style.display =\n",
              "          google.colab.kernel.accessAllowed ? 'block' : 'none';\n",
              "\n",
              "        async function convertToInteractive(key) {\n",
              "          const element = document.querySelector('#df-768882b2-ca0f-4576-8430-ebe737cd8f51');\n",
              "          const dataTable =\n",
              "            await google.colab.kernel.invokeFunction('convertToInteractive',\n",
              "                                                     [key], {});\n",
              "          if (!dataTable) return;\n",
              "\n",
              "          const docLinkHtml = 'Like what you see? Visit the ' +\n",
              "            '<a target=\"_blank\" href=https://colab.research.google.com/notebooks/data_table.ipynb>data table notebook</a>'\n",
              "            + ' to learn more about interactive tables.';\n",
              "          element.innerHTML = '';\n",
              "          dataTable['output_type'] = 'display_data';\n",
              "          await google.colab.output.renderOutput(dataTable, element);\n",
              "          const docLink = document.createElement('div');\n",
              "          docLink.innerHTML = docLinkHtml;\n",
              "          element.appendChild(docLink);\n",
              "        }\n",
              "      </script>\n",
              "    </div>\n",
              "  </div>\n",
              "  "
            ]
          },
          "metadata": {},
          "execution_count": 18
        }
      ]
    },
    {
      "cell_type": "code",
      "source": [
        "crime.category.value_counts()"
      ],
      "metadata": {
        "colab": {
          "base_uri": "https://localhost:8080/"
        },
        "id": "kyHppjmIenRJ",
        "outputId": "c985f9b2-0d7b-4070-e943-1557847bb2aa"
      },
      "execution_count": null,
      "outputs": [
        {
          "output_type": "execute_result",
          "data": {
            "text/plain": [
              "حـوادث                           34983\n",
              "سنوات الإنجاز والإعجاز               8\n",
              "حصاد عام .. في عهد الإنجازات         6\n",
              "ثورة شعب .. وتضحية قائد              6\n",
              "رمضان 1444 هــ .. تغطية خاصة         2\n",
              "أكتوبر إرادة وطن                     2\n",
              "30 يونيو ثورة شعب ... ملف خاص        2\n",
              "معرض الكتاب                          1\n",
              "Name: category, dtype: int64"
            ]
          },
          "metadata": {},
          "execution_count": 104
        }
      ]
    },
    {
      "cell_type": "code",
      "source": [
        "crime.category = 'حـوادث'"
      ],
      "metadata": {
        "id": "FAsah2bxetuc"
      },
      "execution_count": null,
      "outputs": []
    },
    {
      "cell_type": "code",
      "source": [
        "crime.category.value_counts()"
      ],
      "metadata": {
        "colab": {
          "base_uri": "https://localhost:8080/"
        },
        "id": "tbr-xmVQe0mL",
        "outputId": "11cbded8-d9a5-46dd-d361-f635efa9a421"
      },
      "execution_count": null,
      "outputs": [
        {
          "output_type": "execute_result",
          "data": {
            "text/plain": [
              "حـوادث    35010\n",
              "Name: category, dtype: int64"
            ]
          },
          "metadata": {},
          "execution_count": 106
        }
      ]
    },
    {
      "cell_type": "code",
      "source": [
        "crime.drop_duplicates(inplace=True)"
      ],
      "metadata": {
        "id": "RXnvvGcfih_b"
      },
      "execution_count": null,
      "outputs": []
    },
    {
      "cell_type": "code",
      "source": [
        "crime.duplicated().sum()"
      ],
      "metadata": {
        "colab": {
          "base_uri": "https://localhost:8080/"
        },
        "id": "moFi-Wb2il_5",
        "outputId": "8b89f4c7-dbe4-46f3-ca1b-c5551320e72b"
      },
      "execution_count": null,
      "outputs": [
        {
          "output_type": "execute_result",
          "data": {
            "text/plain": [
              "0"
            ]
          },
          "metadata": {},
          "execution_count": 142
        }
      ]
    },
    {
      "cell_type": "code",
      "source": [
        "crime.dropna(inplace=True)"
      ],
      "metadata": {
        "id": "EmTUqB35iqzD"
      },
      "execution_count": null,
      "outputs": []
    },
    {
      "cell_type": "code",
      "source": [
        "crime.isna().sum()"
      ],
      "metadata": {
        "colab": {
          "base_uri": "https://localhost:8080/"
        },
        "id": "YJ3kgzPmivUG",
        "outputId": "74a75d23-596f-44b8-afdb-389a326788c5"
      },
      "execution_count": null,
      "outputs": [
        {
          "output_type": "execute_result",
          "data": {
            "text/plain": [
              "hrefs       0\n",
              "headline    0\n",
              "briefing    0\n",
              "body        0\n",
              "category    0\n",
              "dtype: int64"
            ]
          },
          "metadata": {},
          "execution_count": 144
        }
      ]
    },
    {
      "cell_type": "code",
      "source": [
        "crime1 = crime[0:10000]\n",
        "crime1.shape"
      ],
      "metadata": {
        "colab": {
          "base_uri": "https://localhost:8080/"
        },
        "id": "eFrGAHFqFP0Q",
        "outputId": "280eb5f8-3dda-4d31-994a-bed62fb9e1c8"
      },
      "execution_count": null,
      "outputs": [
        {
          "output_type": "execute_result",
          "data": {
            "text/plain": [
              "(10000, 5)"
            ]
          },
          "metadata": {},
          "execution_count": 213
        }
      ]
    },
    {
      "cell_type": "code",
      "source": [
        "crime.to_csv('crime_N.csv')"
      ],
      "metadata": {
        "id": "Savtn5PJQF9K"
      },
      "execution_count": null,
      "outputs": []
    },
    {
      "cell_type": "code",
      "source": [
        "crime1.to_csv('crime1_N.csv')"
      ],
      "metadata": {
        "id": "BO7R9l3rFXxi"
      },
      "execution_count": null,
      "outputs": []
    },
    {
      "cell_type": "code",
      "source": [
        "world_wide = pd.read_csv('/content/world_wide.csv')\n",
        "print(world_wide.shape)\n",
        "world_wide.head()"
      ],
      "metadata": {
        "colab": {
          "base_uri": "https://localhost:8080/",
          "height": 355
        },
        "id": "yu_DSX9s_7UL",
        "outputId": "1d449f70-00ae-46f2-8c89-6023370262e9"
      },
      "execution_count": null,
      "outputs": [
        {
          "output_type": "stream",
          "name": "stdout",
          "text": [
            "(35010, 4)\n"
          ]
        },
        {
          "output_type": "execute_result",
          "data": {
            "text/plain": [
              "                                                                                         hrefs  \\\n",
              "https://gate.ahram.org.eg/News/4273347.aspx  بايدن: أنا أكثر خبرة من أي شخص سبق له الترشح ل...   \n",
              "https://gate.ahram.org.eg/News/4273346.aspx  أكثر من 170 قتيلا في فيضانات بشرق الكونغو الدي...   \n",
              "https://gate.ahram.org.eg/News/4273345.aspx  نشر مقطع فيديو لشهادة ترامب ضمن محاكمته المدني...   \n",
              "https://gate.ahram.org.eg/News/4273344.aspx      إيران تنفذ حكم الإعدام بحق معارض إيراني سويدي   \n",
              "https://gate.ahram.org.eg/News/4273326.aspx  زيلينسكي: منصة التبرع لأوكرانيا تُساعد في تموي...   \n",
              "\n",
              "                                                                                      headline  \\\n",
              "https://gate.ahram.org.eg/News/4273347.aspx  قال الرئيس الأميركي جو بايدن البالغ 80 عاما وا...   \n",
              "https://gate.ahram.org.eg/News/4273346.aspx  تعرضت الكونغو الديمقراطية مساء الخميس لفيضانات...   \n",
              "https://gate.ahram.org.eg/News/4273345.aspx  نُشر الجمعة مقطع فيديو أدلى فيه الرئيس الأميرك...   \n",
              "https://gate.ahram.org.eg/News/4273344.aspx  نفّذت إيران السبت حكم الإعدام بحقّ المعارض الإ...   \n",
              "https://gate.ahram.org.eg/News/4273326.aspx  احتفل الرئيس الأوكراني فلوديمير زيلينسكي بنجاح...   \n",
              "\n",
              "                                                                                      briefing  \\\n",
              "https://gate.ahram.org.eg/News/4273347.aspx  قال الرئيس الأميركي جو بايدن البالغ 80 عاما وا...   \n",
              "https://gate.ahram.org.eg/News/4273346.aspx  تعرضت الكونغو الديمقراطية مساء الخميس لفيضانات...   \n",
              "https://gate.ahram.org.eg/News/4273345.aspx  نُشر الجمعة مقطع فيديو أدلى فيه الرئيس الأميرك...   \n",
              "https://gate.ahram.org.eg/News/4273344.aspx  نفّذت إيران السبت حكم الإعدام بحقّ المعارض الإ...   \n",
              "https://gate.ahram.org.eg/News/4273326.aspx  احتفل الرئيس الأوكراني فلوديمير زيلينسكي بنجاح...   \n",
              "\n",
              "                                                                             category  \n",
              "https://gate.ahram.org.eg/News/4273347.aspx                                 عرب وعالم  \n",
              "https://gate.ahram.org.eg/News/4273346.aspx                                 عرب وعالم  \n",
              "https://gate.ahram.org.eg/News/4273345.aspx                                 عرب وعالم  \n",
              "https://gate.ahram.org.eg/News/4273344.aspx                                 عرب وعالم  \n",
              "https://gate.ahram.org.eg/News/4273326.aspx  الحرب الروسية - الأوكرانية .. تغطية خاصة  "
            ],
            "text/html": [
              "\n",
              "  <div id=\"df-fd343c77-e5a2-422f-924b-4f8eb80ded1f\">\n",
              "    <div class=\"colab-df-container\">\n",
              "      <div>\n",
              "<style scoped>\n",
              "    .dataframe tbody tr th:only-of-type {\n",
              "        vertical-align: middle;\n",
              "    }\n",
              "\n",
              "    .dataframe tbody tr th {\n",
              "        vertical-align: top;\n",
              "    }\n",
              "\n",
              "    .dataframe thead th {\n",
              "        text-align: right;\n",
              "    }\n",
              "</style>\n",
              "<table border=\"1\" class=\"dataframe\">\n",
              "  <thead>\n",
              "    <tr style=\"text-align: right;\">\n",
              "      <th></th>\n",
              "      <th>hrefs</th>\n",
              "      <th>headline</th>\n",
              "      <th>briefing</th>\n",
              "      <th>category</th>\n",
              "    </tr>\n",
              "  </thead>\n",
              "  <tbody>\n",
              "    <tr>\n",
              "      <th>https://gate.ahram.org.eg/News/4273347.aspx</th>\n",
              "      <td>بايدن: أنا أكثر خبرة من أي شخص سبق له الترشح ل...</td>\n",
              "      <td>قال الرئيس الأميركي جو بايدن البالغ 80 عاما وا...</td>\n",
              "      <td>قال الرئيس الأميركي جو بايدن البالغ 80 عاما وا...</td>\n",
              "      <td>عرب وعالم</td>\n",
              "    </tr>\n",
              "    <tr>\n",
              "      <th>https://gate.ahram.org.eg/News/4273346.aspx</th>\n",
              "      <td>أكثر من 170 قتيلا في فيضانات بشرق الكونغو الدي...</td>\n",
              "      <td>تعرضت الكونغو الديمقراطية مساء الخميس لفيضانات...</td>\n",
              "      <td>تعرضت الكونغو الديمقراطية مساء الخميس لفيضانات...</td>\n",
              "      <td>عرب وعالم</td>\n",
              "    </tr>\n",
              "    <tr>\n",
              "      <th>https://gate.ahram.org.eg/News/4273345.aspx</th>\n",
              "      <td>نشر مقطع فيديو لشهادة ترامب ضمن محاكمته المدني...</td>\n",
              "      <td>نُشر الجمعة مقطع فيديو أدلى فيه الرئيس الأميرك...</td>\n",
              "      <td>نُشر الجمعة مقطع فيديو أدلى فيه الرئيس الأميرك...</td>\n",
              "      <td>عرب وعالم</td>\n",
              "    </tr>\n",
              "    <tr>\n",
              "      <th>https://gate.ahram.org.eg/News/4273344.aspx</th>\n",
              "      <td>إيران تنفذ حكم الإعدام بحق معارض إيراني سويدي</td>\n",
              "      <td>نفّذت إيران السبت حكم الإعدام بحقّ المعارض الإ...</td>\n",
              "      <td>نفّذت إيران السبت حكم الإعدام بحقّ المعارض الإ...</td>\n",
              "      <td>عرب وعالم</td>\n",
              "    </tr>\n",
              "    <tr>\n",
              "      <th>https://gate.ahram.org.eg/News/4273326.aspx</th>\n",
              "      <td>زيلينسكي: منصة التبرع لأوكرانيا تُساعد في تموي...</td>\n",
              "      <td>احتفل الرئيس الأوكراني فلوديمير زيلينسكي بنجاح...</td>\n",
              "      <td>احتفل الرئيس الأوكراني فلوديمير زيلينسكي بنجاح...</td>\n",
              "      <td>الحرب الروسية - الأوكرانية .. تغطية خاصة</td>\n",
              "    </tr>\n",
              "  </tbody>\n",
              "</table>\n",
              "</div>\n",
              "      <button class=\"colab-df-convert\" onclick=\"convertToInteractive('df-fd343c77-e5a2-422f-924b-4f8eb80ded1f')\"\n",
              "              title=\"Convert this dataframe to an interactive table.\"\n",
              "              style=\"display:none;\">\n",
              "        \n",
              "  <svg xmlns=\"http://www.w3.org/2000/svg\" height=\"24px\"viewBox=\"0 0 24 24\"\n",
              "       width=\"24px\">\n",
              "    <path d=\"M0 0h24v24H0V0z\" fill=\"none\"/>\n",
              "    <path d=\"M18.56 5.44l.94 2.06.94-2.06 2.06-.94-2.06-.94-.94-2.06-.94 2.06-2.06.94zm-11 1L8.5 8.5l.94-2.06 2.06-.94-2.06-.94L8.5 2.5l-.94 2.06-2.06.94zm10 10l.94 2.06.94-2.06 2.06-.94-2.06-.94-.94-2.06-.94 2.06-2.06.94z\"/><path d=\"M17.41 7.96l-1.37-1.37c-.4-.4-.92-.59-1.43-.59-.52 0-1.04.2-1.43.59L10.3 9.45l-7.72 7.72c-.78.78-.78 2.05 0 2.83L4 21.41c.39.39.9.59 1.41.59.51 0 1.02-.2 1.41-.59l7.78-7.78 2.81-2.81c.8-.78.8-2.07 0-2.86zM5.41 20L4 18.59l7.72-7.72 1.47 1.35L5.41 20z\"/>\n",
              "  </svg>\n",
              "      </button>\n",
              "      \n",
              "  <style>\n",
              "    .colab-df-container {\n",
              "      display:flex;\n",
              "      flex-wrap:wrap;\n",
              "      gap: 12px;\n",
              "    }\n",
              "\n",
              "    .colab-df-convert {\n",
              "      background-color: #E8F0FE;\n",
              "      border: none;\n",
              "      border-radius: 50%;\n",
              "      cursor: pointer;\n",
              "      display: none;\n",
              "      fill: #1967D2;\n",
              "      height: 32px;\n",
              "      padding: 0 0 0 0;\n",
              "      width: 32px;\n",
              "    }\n",
              "\n",
              "    .colab-df-convert:hover {\n",
              "      background-color: #E2EBFA;\n",
              "      box-shadow: 0px 1px 2px rgba(60, 64, 67, 0.3), 0px 1px 3px 1px rgba(60, 64, 67, 0.15);\n",
              "      fill: #174EA6;\n",
              "    }\n",
              "\n",
              "    [theme=dark] .colab-df-convert {\n",
              "      background-color: #3B4455;\n",
              "      fill: #D2E3FC;\n",
              "    }\n",
              "\n",
              "    [theme=dark] .colab-df-convert:hover {\n",
              "      background-color: #434B5C;\n",
              "      box-shadow: 0px 1px 3px 1px rgba(0, 0, 0, 0.15);\n",
              "      filter: drop-shadow(0px 1px 2px rgba(0, 0, 0, 0.3));\n",
              "      fill: #FFFFFF;\n",
              "    }\n",
              "  </style>\n",
              "\n",
              "      <script>\n",
              "        const buttonEl =\n",
              "          document.querySelector('#df-fd343c77-e5a2-422f-924b-4f8eb80ded1f button.colab-df-convert');\n",
              "        buttonEl.style.display =\n",
              "          google.colab.kernel.accessAllowed ? 'block' : 'none';\n",
              "\n",
              "        async function convertToInteractive(key) {\n",
              "          const element = document.querySelector('#df-fd343c77-e5a2-422f-924b-4f8eb80ded1f');\n",
              "          const dataTable =\n",
              "            await google.colab.kernel.invokeFunction('convertToInteractive',\n",
              "                                                     [key], {});\n",
              "          if (!dataTable) return;\n",
              "\n",
              "          const docLinkHtml = 'Like what you see? Visit the ' +\n",
              "            '<a target=\"_blank\" href=https://colab.research.google.com/notebooks/data_table.ipynb>data table notebook</a>'\n",
              "            + ' to learn more about interactive tables.';\n",
              "          element.innerHTML = '';\n",
              "          dataTable['output_type'] = 'display_data';\n",
              "          await google.colab.output.renderOutput(dataTable, element);\n",
              "          const docLink = document.createElement('div');\n",
              "          docLink.innerHTML = docLinkHtml;\n",
              "          element.appendChild(docLink);\n",
              "        }\n",
              "      </script>\n",
              "    </div>\n",
              "  </div>\n",
              "  "
            ]
          },
          "metadata": {},
          "execution_count": 7
        }
      ]
    },
    {
      "cell_type": "code",
      "source": [
        "worldwide = world_wide.reset_index()\n",
        "worldwide.head()"
      ],
      "metadata": {
        "colab": {
          "base_uri": "https://localhost:8080/",
          "height": 337
        },
        "id": "ot-3ajakFja_",
        "outputId": "1a644a7a-de51-420c-8d25-f69435ba3081"
      },
      "execution_count": null,
      "outputs": [
        {
          "output_type": "execute_result",
          "data": {
            "text/plain": [
              "                                         index  \\\n",
              "0  https://gate.ahram.org.eg/News/4273347.aspx   \n",
              "1  https://gate.ahram.org.eg/News/4273346.aspx   \n",
              "2  https://gate.ahram.org.eg/News/4273345.aspx   \n",
              "3  https://gate.ahram.org.eg/News/4273344.aspx   \n",
              "4  https://gate.ahram.org.eg/News/4273326.aspx   \n",
              "\n",
              "                                               hrefs  \\\n",
              "0  بايدن: أنا أكثر خبرة من أي شخص سبق له الترشح ل...   \n",
              "1  أكثر من 170 قتيلا في فيضانات بشرق الكونغو الدي...   \n",
              "2  نشر مقطع فيديو لشهادة ترامب ضمن محاكمته المدني...   \n",
              "3      إيران تنفذ حكم الإعدام بحق معارض إيراني سويدي   \n",
              "4  زيلينسكي: منصة التبرع لأوكرانيا تُساعد في تموي...   \n",
              "\n",
              "                                            headline  \\\n",
              "0  قال الرئيس الأميركي جو بايدن البالغ 80 عاما وا...   \n",
              "1  تعرضت الكونغو الديمقراطية مساء الخميس لفيضانات...   \n",
              "2  نُشر الجمعة مقطع فيديو أدلى فيه الرئيس الأميرك...   \n",
              "3  نفّذت إيران السبت حكم الإعدام بحقّ المعارض الإ...   \n",
              "4  احتفل الرئيس الأوكراني فلوديمير زيلينسكي بنجاح...   \n",
              "\n",
              "                                            briefing  \\\n",
              "0  قال الرئيس الأميركي جو بايدن البالغ 80 عاما وا...   \n",
              "1  تعرضت الكونغو الديمقراطية مساء الخميس لفيضانات...   \n",
              "2  نُشر الجمعة مقطع فيديو أدلى فيه الرئيس الأميرك...   \n",
              "3  نفّذت إيران السبت حكم الإعدام بحقّ المعارض الإ...   \n",
              "4  احتفل الرئيس الأوكراني فلوديمير زيلينسكي بنجاح...   \n",
              "\n",
              "                                   category  \n",
              "0                                 عرب وعالم  \n",
              "1                                 عرب وعالم  \n",
              "2                                 عرب وعالم  \n",
              "3                                 عرب وعالم  \n",
              "4  الحرب الروسية - الأوكرانية .. تغطية خاصة  "
            ],
            "text/html": [
              "\n",
              "  <div id=\"df-e5e479b6-36bb-4d35-bf92-3df63e0cf47b\">\n",
              "    <div class=\"colab-df-container\">\n",
              "      <div>\n",
              "<style scoped>\n",
              "    .dataframe tbody tr th:only-of-type {\n",
              "        vertical-align: middle;\n",
              "    }\n",
              "\n",
              "    .dataframe tbody tr th {\n",
              "        vertical-align: top;\n",
              "    }\n",
              "\n",
              "    .dataframe thead th {\n",
              "        text-align: right;\n",
              "    }\n",
              "</style>\n",
              "<table border=\"1\" class=\"dataframe\">\n",
              "  <thead>\n",
              "    <tr style=\"text-align: right;\">\n",
              "      <th></th>\n",
              "      <th>index</th>\n",
              "      <th>hrefs</th>\n",
              "      <th>headline</th>\n",
              "      <th>briefing</th>\n",
              "      <th>category</th>\n",
              "    </tr>\n",
              "  </thead>\n",
              "  <tbody>\n",
              "    <tr>\n",
              "      <th>0</th>\n",
              "      <td>https://gate.ahram.org.eg/News/4273347.aspx</td>\n",
              "      <td>بايدن: أنا أكثر خبرة من أي شخص سبق له الترشح ل...</td>\n",
              "      <td>قال الرئيس الأميركي جو بايدن البالغ 80 عاما وا...</td>\n",
              "      <td>قال الرئيس الأميركي جو بايدن البالغ 80 عاما وا...</td>\n",
              "      <td>عرب وعالم</td>\n",
              "    </tr>\n",
              "    <tr>\n",
              "      <th>1</th>\n",
              "      <td>https://gate.ahram.org.eg/News/4273346.aspx</td>\n",
              "      <td>أكثر من 170 قتيلا في فيضانات بشرق الكونغو الدي...</td>\n",
              "      <td>تعرضت الكونغو الديمقراطية مساء الخميس لفيضانات...</td>\n",
              "      <td>تعرضت الكونغو الديمقراطية مساء الخميس لفيضانات...</td>\n",
              "      <td>عرب وعالم</td>\n",
              "    </tr>\n",
              "    <tr>\n",
              "      <th>2</th>\n",
              "      <td>https://gate.ahram.org.eg/News/4273345.aspx</td>\n",
              "      <td>نشر مقطع فيديو لشهادة ترامب ضمن محاكمته المدني...</td>\n",
              "      <td>نُشر الجمعة مقطع فيديو أدلى فيه الرئيس الأميرك...</td>\n",
              "      <td>نُشر الجمعة مقطع فيديو أدلى فيه الرئيس الأميرك...</td>\n",
              "      <td>عرب وعالم</td>\n",
              "    </tr>\n",
              "    <tr>\n",
              "      <th>3</th>\n",
              "      <td>https://gate.ahram.org.eg/News/4273344.aspx</td>\n",
              "      <td>إيران تنفذ حكم الإعدام بحق معارض إيراني سويدي</td>\n",
              "      <td>نفّذت إيران السبت حكم الإعدام بحقّ المعارض الإ...</td>\n",
              "      <td>نفّذت إيران السبت حكم الإعدام بحقّ المعارض الإ...</td>\n",
              "      <td>عرب وعالم</td>\n",
              "    </tr>\n",
              "    <tr>\n",
              "      <th>4</th>\n",
              "      <td>https://gate.ahram.org.eg/News/4273326.aspx</td>\n",
              "      <td>زيلينسكي: منصة التبرع لأوكرانيا تُساعد في تموي...</td>\n",
              "      <td>احتفل الرئيس الأوكراني فلوديمير زيلينسكي بنجاح...</td>\n",
              "      <td>احتفل الرئيس الأوكراني فلوديمير زيلينسكي بنجاح...</td>\n",
              "      <td>الحرب الروسية - الأوكرانية .. تغطية خاصة</td>\n",
              "    </tr>\n",
              "  </tbody>\n",
              "</table>\n",
              "</div>\n",
              "      <button class=\"colab-df-convert\" onclick=\"convertToInteractive('df-e5e479b6-36bb-4d35-bf92-3df63e0cf47b')\"\n",
              "              title=\"Convert this dataframe to an interactive table.\"\n",
              "              style=\"display:none;\">\n",
              "        \n",
              "  <svg xmlns=\"http://www.w3.org/2000/svg\" height=\"24px\"viewBox=\"0 0 24 24\"\n",
              "       width=\"24px\">\n",
              "    <path d=\"M0 0h24v24H0V0z\" fill=\"none\"/>\n",
              "    <path d=\"M18.56 5.44l.94 2.06.94-2.06 2.06-.94-2.06-.94-.94-2.06-.94 2.06-2.06.94zm-11 1L8.5 8.5l.94-2.06 2.06-.94-2.06-.94L8.5 2.5l-.94 2.06-2.06.94zm10 10l.94 2.06.94-2.06 2.06-.94-2.06-.94-.94-2.06-.94 2.06-2.06.94z\"/><path d=\"M17.41 7.96l-1.37-1.37c-.4-.4-.92-.59-1.43-.59-.52 0-1.04.2-1.43.59L10.3 9.45l-7.72 7.72c-.78.78-.78 2.05 0 2.83L4 21.41c.39.39.9.59 1.41.59.51 0 1.02-.2 1.41-.59l7.78-7.78 2.81-2.81c.8-.78.8-2.07 0-2.86zM5.41 20L4 18.59l7.72-7.72 1.47 1.35L5.41 20z\"/>\n",
              "  </svg>\n",
              "      </button>\n",
              "      \n",
              "  <style>\n",
              "    .colab-df-container {\n",
              "      display:flex;\n",
              "      flex-wrap:wrap;\n",
              "      gap: 12px;\n",
              "    }\n",
              "\n",
              "    .colab-df-convert {\n",
              "      background-color: #E8F0FE;\n",
              "      border: none;\n",
              "      border-radius: 50%;\n",
              "      cursor: pointer;\n",
              "      display: none;\n",
              "      fill: #1967D2;\n",
              "      height: 32px;\n",
              "      padding: 0 0 0 0;\n",
              "      width: 32px;\n",
              "    }\n",
              "\n",
              "    .colab-df-convert:hover {\n",
              "      background-color: #E2EBFA;\n",
              "      box-shadow: 0px 1px 2px rgba(60, 64, 67, 0.3), 0px 1px 3px 1px rgba(60, 64, 67, 0.15);\n",
              "      fill: #174EA6;\n",
              "    }\n",
              "\n",
              "    [theme=dark] .colab-df-convert {\n",
              "      background-color: #3B4455;\n",
              "      fill: #D2E3FC;\n",
              "    }\n",
              "\n",
              "    [theme=dark] .colab-df-convert:hover {\n",
              "      background-color: #434B5C;\n",
              "      box-shadow: 0px 1px 3px 1px rgba(0, 0, 0, 0.15);\n",
              "      filter: drop-shadow(0px 1px 2px rgba(0, 0, 0, 0.3));\n",
              "      fill: #FFFFFF;\n",
              "    }\n",
              "  </style>\n",
              "\n",
              "      <script>\n",
              "        const buttonEl =\n",
              "          document.querySelector('#df-e5e479b6-36bb-4d35-bf92-3df63e0cf47b button.colab-df-convert');\n",
              "        buttonEl.style.display =\n",
              "          google.colab.kernel.accessAllowed ? 'block' : 'none';\n",
              "\n",
              "        async function convertToInteractive(key) {\n",
              "          const element = document.querySelector('#df-e5e479b6-36bb-4d35-bf92-3df63e0cf47b');\n",
              "          const dataTable =\n",
              "            await google.colab.kernel.invokeFunction('convertToInteractive',\n",
              "                                                     [key], {});\n",
              "          if (!dataTable) return;\n",
              "\n",
              "          const docLinkHtml = 'Like what you see? Visit the ' +\n",
              "            '<a target=\"_blank\" href=https://colab.research.google.com/notebooks/data_table.ipynb>data table notebook</a>'\n",
              "            + ' to learn more about interactive tables.';\n",
              "          element.innerHTML = '';\n",
              "          dataTable['output_type'] = 'display_data';\n",
              "          await google.colab.output.renderOutput(dataTable, element);\n",
              "          const docLink = document.createElement('div');\n",
              "          docLink.innerHTML = docLinkHtml;\n",
              "          element.appendChild(docLink);\n",
              "        }\n",
              "      </script>\n",
              "    </div>\n",
              "  </div>\n",
              "  "
            ]
          },
          "metadata": {},
          "execution_count": 11
        }
      ]
    },
    {
      "cell_type": "code",
      "source": [
        "worldwide = worldwide.rename(columns = {'index':'hrefs', 'hrefs':'headline', 'headline':'briefing', 'briefing':'body'})\n",
        "worldwide"
      ],
      "metadata": {
        "colab": {
          "base_uri": "https://localhost:8080/",
          "height": 641
        },
        "id": "6EH8qx2VFxxA",
        "outputId": "27a15329-8460-468c-d933-bcc0f8c3c2e7"
      },
      "execution_count": null,
      "outputs": [
        {
          "output_type": "execute_result",
          "data": {
            "text/plain": [
              "                                             hrefs  \\\n",
              "0      https://gate.ahram.org.eg/News/4273347.aspx   \n",
              "1      https://gate.ahram.org.eg/News/4273346.aspx   \n",
              "2      https://gate.ahram.org.eg/News/4273345.aspx   \n",
              "3      https://gate.ahram.org.eg/News/4273344.aspx   \n",
              "4      https://gate.ahram.org.eg/News/4273326.aspx   \n",
              "...                                            ...   \n",
              "35005  https://gate.ahram.org.eg/News/3728520.aspx   \n",
              "35006  https://gate.ahram.org.eg/News/3728516.aspx   \n",
              "35007  https://gate.ahram.org.eg/News/3728507.aspx   \n",
              "35008  https://gate.ahram.org.eg/News/3728469.aspx   \n",
              "35009  https://gate.ahram.org.eg/News/3728464.aspx   \n",
              "\n",
              "                                                headline  \\\n",
              "0      بايدن: أنا أكثر خبرة من أي شخص سبق له الترشح ل...   \n",
              "1      أكثر من 170 قتيلا في فيضانات بشرق الكونغو الدي...   \n",
              "2      نشر مقطع فيديو لشهادة ترامب ضمن محاكمته المدني...   \n",
              "3          إيران تنفذ حكم الإعدام بحق معارض إيراني سويدي   \n",
              "4      زيلينسكي: منصة التبرع لأوكرانيا تُساعد في تموي...   \n",
              "...                                                  ...   \n",
              "35005  وزير الخارجية المجري: التوصل لاتفاق نهائي مع «...   \n",
              "35006  إصابات كورونا في شنغهاي تصل لأعلى مستوى خلال 3...   \n",
              "35007  أخبار العالم اليوم | أمريكا قد تجبر أوكرانيا ع...   \n",
              "35008  سفير مصر لدى السعودية يلتقي الجبير ويبحثان الع...   \n",
              "35009  وزيرة خارجية ألمانيا تشيد بتصويت الجمعية العام...   \n",
              "\n",
              "                                                briefing  \\\n",
              "0      قال الرئيس الأميركي جو بايدن البالغ 80 عاما وا...   \n",
              "1      تعرضت الكونغو الديمقراطية مساء الخميس لفيضانات...   \n",
              "2      نُشر الجمعة مقطع فيديو أدلى فيه الرئيس الأميرك...   \n",
              "3      نفّذت إيران السبت حكم الإعدام بحقّ المعارض الإ...   \n",
              "4      احتفل الرئيس الأوكراني فلوديمير زيلينسكي بنجاح...   \n",
              "...                                                  ...   \n",
              "35005  قال وزير الخارجية المجري بيتر سيارتو إن بودابس...   \n",
              "35006  قفزت إصابات كوفيد-19 في شنغهاي إلى أعلى مستوى ...   \n",
              "35007  نشرت «بوابة الأهرام» عددًا من أخبار العالم لهذ...   \n",
              "35008  التقى سفير مصر لدى المملكة  العربية السعودية أ...   \n",
              "35009  أشادت وزيرة الخارجية الألمانية أنالينا بيربوك ...   \n",
              "\n",
              "                                                    body  \\\n",
              "0      قال الرئيس الأميركي جو بايدن البالغ 80 عاما وا...   \n",
              "1      تعرضت الكونغو الديمقراطية مساء الخميس لفيضانات...   \n",
              "2      نُشر الجمعة مقطع فيديو أدلى فيه الرئيس الأميرك...   \n",
              "3      نفّذت إيران السبت حكم الإعدام بحقّ المعارض الإ...   \n",
              "4      احتفل الرئيس الأوكراني فلوديمير زيلينسكي بنجاح...   \n",
              "...                                                  ...   \n",
              "35005  قال وزير الخارجية المجري بيتر سيارتو إن بودابس...   \n",
              "35006  قفزت إصابات كوفيد-19 في شنغهاي إلى أعلى مستوى ...   \n",
              "35007  نشرت «بوابة الأهرام» عددًا من أخبار العالم لهذ...   \n",
              "35008  التقى سفير مصر لدى المملكة  العربية السعودية أ...   \n",
              "35009  أشادت وزيرة الخارجية الألمانية أنالينا بيربوك ...   \n",
              "\n",
              "                                       category  \n",
              "0                                     عرب وعالم  \n",
              "1                                     عرب وعالم  \n",
              "2                                     عرب وعالم  \n",
              "3                                     عرب وعالم  \n",
              "4      الحرب الروسية - الأوكرانية .. تغطية خاصة  \n",
              "...                                         ...  \n",
              "35005                                 عرب وعالم  \n",
              "35006                                 عرب وعالم  \n",
              "35007                                 عرب وعالم  \n",
              "35008                                 عرب وعالم  \n",
              "35009                                 عرب وعالم  \n",
              "\n",
              "[35010 rows x 5 columns]"
            ],
            "text/html": [
              "\n",
              "  <div id=\"df-02086ae9-7201-41c3-9b6a-29482f03c61b\">\n",
              "    <div class=\"colab-df-container\">\n",
              "      <div>\n",
              "<style scoped>\n",
              "    .dataframe tbody tr th:only-of-type {\n",
              "        vertical-align: middle;\n",
              "    }\n",
              "\n",
              "    .dataframe tbody tr th {\n",
              "        vertical-align: top;\n",
              "    }\n",
              "\n",
              "    .dataframe thead th {\n",
              "        text-align: right;\n",
              "    }\n",
              "</style>\n",
              "<table border=\"1\" class=\"dataframe\">\n",
              "  <thead>\n",
              "    <tr style=\"text-align: right;\">\n",
              "      <th></th>\n",
              "      <th>hrefs</th>\n",
              "      <th>headline</th>\n",
              "      <th>briefing</th>\n",
              "      <th>body</th>\n",
              "      <th>category</th>\n",
              "    </tr>\n",
              "  </thead>\n",
              "  <tbody>\n",
              "    <tr>\n",
              "      <th>0</th>\n",
              "      <td>https://gate.ahram.org.eg/News/4273347.aspx</td>\n",
              "      <td>بايدن: أنا أكثر خبرة من أي شخص سبق له الترشح ل...</td>\n",
              "      <td>قال الرئيس الأميركي جو بايدن البالغ 80 عاما وا...</td>\n",
              "      <td>قال الرئيس الأميركي جو بايدن البالغ 80 عاما وا...</td>\n",
              "      <td>عرب وعالم</td>\n",
              "    </tr>\n",
              "    <tr>\n",
              "      <th>1</th>\n",
              "      <td>https://gate.ahram.org.eg/News/4273346.aspx</td>\n",
              "      <td>أكثر من 170 قتيلا في فيضانات بشرق الكونغو الدي...</td>\n",
              "      <td>تعرضت الكونغو الديمقراطية مساء الخميس لفيضانات...</td>\n",
              "      <td>تعرضت الكونغو الديمقراطية مساء الخميس لفيضانات...</td>\n",
              "      <td>عرب وعالم</td>\n",
              "    </tr>\n",
              "    <tr>\n",
              "      <th>2</th>\n",
              "      <td>https://gate.ahram.org.eg/News/4273345.aspx</td>\n",
              "      <td>نشر مقطع فيديو لشهادة ترامب ضمن محاكمته المدني...</td>\n",
              "      <td>نُشر الجمعة مقطع فيديو أدلى فيه الرئيس الأميرك...</td>\n",
              "      <td>نُشر الجمعة مقطع فيديو أدلى فيه الرئيس الأميرك...</td>\n",
              "      <td>عرب وعالم</td>\n",
              "    </tr>\n",
              "    <tr>\n",
              "      <th>3</th>\n",
              "      <td>https://gate.ahram.org.eg/News/4273344.aspx</td>\n",
              "      <td>إيران تنفذ حكم الإعدام بحق معارض إيراني سويدي</td>\n",
              "      <td>نفّذت إيران السبت حكم الإعدام بحقّ المعارض الإ...</td>\n",
              "      <td>نفّذت إيران السبت حكم الإعدام بحقّ المعارض الإ...</td>\n",
              "      <td>عرب وعالم</td>\n",
              "    </tr>\n",
              "    <tr>\n",
              "      <th>4</th>\n",
              "      <td>https://gate.ahram.org.eg/News/4273326.aspx</td>\n",
              "      <td>زيلينسكي: منصة التبرع لأوكرانيا تُساعد في تموي...</td>\n",
              "      <td>احتفل الرئيس الأوكراني فلوديمير زيلينسكي بنجاح...</td>\n",
              "      <td>احتفل الرئيس الأوكراني فلوديمير زيلينسكي بنجاح...</td>\n",
              "      <td>الحرب الروسية - الأوكرانية .. تغطية خاصة</td>\n",
              "    </tr>\n",
              "    <tr>\n",
              "      <th>...</th>\n",
              "      <td>...</td>\n",
              "      <td>...</td>\n",
              "      <td>...</td>\n",
              "      <td>...</td>\n",
              "      <td>...</td>\n",
              "    </tr>\n",
              "    <tr>\n",
              "      <th>35005</th>\n",
              "      <td>https://gate.ahram.org.eg/News/3728520.aspx</td>\n",
              "      <td>وزير الخارجية المجري: التوصل لاتفاق نهائي مع «...</td>\n",
              "      <td>قال وزير الخارجية المجري بيتر سيارتو إن بودابس...</td>\n",
              "      <td>قال وزير الخارجية المجري بيتر سيارتو إن بودابس...</td>\n",
              "      <td>عرب وعالم</td>\n",
              "    </tr>\n",
              "    <tr>\n",
              "      <th>35006</th>\n",
              "      <td>https://gate.ahram.org.eg/News/3728516.aspx</td>\n",
              "      <td>إصابات كورونا في شنغهاي تصل لأعلى مستوى خلال 3...</td>\n",
              "      <td>قفزت إصابات كوفيد-19 في شنغهاي إلى أعلى مستوى ...</td>\n",
              "      <td>قفزت إصابات كوفيد-19 في شنغهاي إلى أعلى مستوى ...</td>\n",
              "      <td>عرب وعالم</td>\n",
              "    </tr>\n",
              "    <tr>\n",
              "      <th>35007</th>\n",
              "      <td>https://gate.ahram.org.eg/News/3728507.aspx</td>\n",
              "      <td>أخبار العالم اليوم | أمريكا قد تجبر أوكرانيا ع...</td>\n",
              "      <td>نشرت «بوابة الأهرام» عددًا من أخبار العالم لهذ...</td>\n",
              "      <td>نشرت «بوابة الأهرام» عددًا من أخبار العالم لهذ...</td>\n",
              "      <td>عرب وعالم</td>\n",
              "    </tr>\n",
              "    <tr>\n",
              "      <th>35008</th>\n",
              "      <td>https://gate.ahram.org.eg/News/3728469.aspx</td>\n",
              "      <td>سفير مصر لدى السعودية يلتقي الجبير ويبحثان الع...</td>\n",
              "      <td>التقى سفير مصر لدى المملكة  العربية السعودية أ...</td>\n",
              "      <td>التقى سفير مصر لدى المملكة  العربية السعودية أ...</td>\n",
              "      <td>عرب وعالم</td>\n",
              "    </tr>\n",
              "    <tr>\n",
              "      <th>35009</th>\n",
              "      <td>https://gate.ahram.org.eg/News/3728464.aspx</td>\n",
              "      <td>وزيرة خارجية ألمانيا تشيد بتصويت الجمعية العام...</td>\n",
              "      <td>أشادت وزيرة الخارجية الألمانية أنالينا بيربوك ...</td>\n",
              "      <td>أشادت وزيرة الخارجية الألمانية أنالينا بيربوك ...</td>\n",
              "      <td>عرب وعالم</td>\n",
              "    </tr>\n",
              "  </tbody>\n",
              "</table>\n",
              "<p>35010 rows × 5 columns</p>\n",
              "</div>\n",
              "      <button class=\"colab-df-convert\" onclick=\"convertToInteractive('df-02086ae9-7201-41c3-9b6a-29482f03c61b')\"\n",
              "              title=\"Convert this dataframe to an interactive table.\"\n",
              "              style=\"display:none;\">\n",
              "        \n",
              "  <svg xmlns=\"http://www.w3.org/2000/svg\" height=\"24px\"viewBox=\"0 0 24 24\"\n",
              "       width=\"24px\">\n",
              "    <path d=\"M0 0h24v24H0V0z\" fill=\"none\"/>\n",
              "    <path d=\"M18.56 5.44l.94 2.06.94-2.06 2.06-.94-2.06-.94-.94-2.06-.94 2.06-2.06.94zm-11 1L8.5 8.5l.94-2.06 2.06-.94-2.06-.94L8.5 2.5l-.94 2.06-2.06.94zm10 10l.94 2.06.94-2.06 2.06-.94-2.06-.94-.94-2.06-.94 2.06-2.06.94z\"/><path d=\"M17.41 7.96l-1.37-1.37c-.4-.4-.92-.59-1.43-.59-.52 0-1.04.2-1.43.59L10.3 9.45l-7.72 7.72c-.78.78-.78 2.05 0 2.83L4 21.41c.39.39.9.59 1.41.59.51 0 1.02-.2 1.41-.59l7.78-7.78 2.81-2.81c.8-.78.8-2.07 0-2.86zM5.41 20L4 18.59l7.72-7.72 1.47 1.35L5.41 20z\"/>\n",
              "  </svg>\n",
              "      </button>\n",
              "      \n",
              "  <style>\n",
              "    .colab-df-container {\n",
              "      display:flex;\n",
              "      flex-wrap:wrap;\n",
              "      gap: 12px;\n",
              "    }\n",
              "\n",
              "    .colab-df-convert {\n",
              "      background-color: #E8F0FE;\n",
              "      border: none;\n",
              "      border-radius: 50%;\n",
              "      cursor: pointer;\n",
              "      display: none;\n",
              "      fill: #1967D2;\n",
              "      height: 32px;\n",
              "      padding: 0 0 0 0;\n",
              "      width: 32px;\n",
              "    }\n",
              "\n",
              "    .colab-df-convert:hover {\n",
              "      background-color: #E2EBFA;\n",
              "      box-shadow: 0px 1px 2px rgba(60, 64, 67, 0.3), 0px 1px 3px 1px rgba(60, 64, 67, 0.15);\n",
              "      fill: #174EA6;\n",
              "    }\n",
              "\n",
              "    [theme=dark] .colab-df-convert {\n",
              "      background-color: #3B4455;\n",
              "      fill: #D2E3FC;\n",
              "    }\n",
              "\n",
              "    [theme=dark] .colab-df-convert:hover {\n",
              "      background-color: #434B5C;\n",
              "      box-shadow: 0px 1px 3px 1px rgba(0, 0, 0, 0.15);\n",
              "      filter: drop-shadow(0px 1px 2px rgba(0, 0, 0, 0.3));\n",
              "      fill: #FFFFFF;\n",
              "    }\n",
              "  </style>\n",
              "\n",
              "      <script>\n",
              "        const buttonEl =\n",
              "          document.querySelector('#df-02086ae9-7201-41c3-9b6a-29482f03c61b button.colab-df-convert');\n",
              "        buttonEl.style.display =\n",
              "          google.colab.kernel.accessAllowed ? 'block' : 'none';\n",
              "\n",
              "        async function convertToInteractive(key) {\n",
              "          const element = document.querySelector('#df-02086ae9-7201-41c3-9b6a-29482f03c61b');\n",
              "          const dataTable =\n",
              "            await google.colab.kernel.invokeFunction('convertToInteractive',\n",
              "                                                     [key], {});\n",
              "          if (!dataTable) return;\n",
              "\n",
              "          const docLinkHtml = 'Like what you see? Visit the ' +\n",
              "            '<a target=\"_blank\" href=https://colab.research.google.com/notebooks/data_table.ipynb>data table notebook</a>'\n",
              "            + ' to learn more about interactive tables.';\n",
              "          element.innerHTML = '';\n",
              "          dataTable['output_type'] = 'display_data';\n",
              "          await google.colab.output.renderOutput(dataTable, element);\n",
              "          const docLink = document.createElement('div');\n",
              "          docLink.innerHTML = docLinkHtml;\n",
              "          element.appendChild(docLink);\n",
              "        }\n",
              "      </script>\n",
              "    </div>\n",
              "  </div>\n",
              "  "
            ]
          },
          "metadata": {},
          "execution_count": 12
        }
      ]
    },
    {
      "cell_type": "code",
      "source": [
        "worldwide.category.value_counts()"
      ],
      "metadata": {
        "colab": {
          "base_uri": "https://localhost:8080/"
        },
        "id": "nuk2f4_QZa3_",
        "outputId": "5892145b-b85f-423d-94be-d88c62cdc51e"
      },
      "execution_count": null,
      "outputs": [
        {
          "output_type": "execute_result",
          "data": {
            "text/plain": [
              "عرب وعالم                                         32041\n",
              "الحرب الروسية - الأوكرانية .. تغطية خاصة           2849\n",
              "الطريق الى قمة المناخ COP27 شرم الشيخ 2022          108\n",
              "عين على الشرق                                         8\n",
              "رمضان 1444 هــ .. تغطية خاصة                          2\n",
              "44 عامًا على النصر والعبور للمستقبل .. ملف خاص        1\n",
              "المؤتمر الاقتصادي مصر 2022                            1\n",
              "Name: category, dtype: int64"
            ]
          },
          "metadata": {},
          "execution_count": 74
        }
      ]
    },
    {
      "cell_type": "code",
      "source": [
        "worldwide.category = 'عرب وعالم'"
      ],
      "metadata": {
        "id": "gxvdM8E1Zlb4"
      },
      "execution_count": null,
      "outputs": []
    },
    {
      "cell_type": "code",
      "source": [
        "worldwide.category.value_counts()"
      ],
      "metadata": {
        "colab": {
          "base_uri": "https://localhost:8080/"
        },
        "id": "jJIhY1T0aLi2",
        "outputId": "ff3d53c2-7052-45a2-90f9-5c8402c59dbd"
      },
      "execution_count": null,
      "outputs": [
        {
          "output_type": "execute_result",
          "data": {
            "text/plain": [
              "عرب وعالم    35010\n",
              "Name: category, dtype: int64"
            ]
          },
          "metadata": {},
          "execution_count": 77
        }
      ]
    },
    {
      "cell_type": "code",
      "source": [
        "worldwide.drop_duplicates(inplace=True)"
      ],
      "metadata": {
        "id": "n0U1QlAfjGUF"
      },
      "execution_count": null,
      "outputs": []
    },
    {
      "cell_type": "code",
      "source": [
        "worldwide.duplicated().sum()"
      ],
      "metadata": {
        "colab": {
          "base_uri": "https://localhost:8080/"
        },
        "id": "ihcZ8yiojLJL",
        "outputId": "2c047fc8-c82b-41e9-9ebf-25a2d107edba"
      },
      "execution_count": null,
      "outputs": [
        {
          "output_type": "execute_result",
          "data": {
            "text/plain": [
              "0"
            ]
          },
          "metadata": {},
          "execution_count": 147
        }
      ]
    },
    {
      "cell_type": "code",
      "source": [
        "worldwide.dropna(inplace=True)"
      ],
      "metadata": {
        "id": "VRddcMb9jRuF"
      },
      "execution_count": null,
      "outputs": []
    },
    {
      "cell_type": "code",
      "source": [
        "worldwide.isna().sum()"
      ],
      "metadata": {
        "colab": {
          "base_uri": "https://localhost:8080/"
        },
        "id": "P1iCjWZ-jWLL",
        "outputId": "c130db70-d07c-4ea6-8fa9-d90ba350eedc"
      },
      "execution_count": null,
      "outputs": [
        {
          "output_type": "execute_result",
          "data": {
            "text/plain": [
              "hrefs       0\n",
              "headline    0\n",
              "briefing    0\n",
              "body        0\n",
              "category    0\n",
              "dtype: int64"
            ]
          },
          "metadata": {},
          "execution_count": 149
        }
      ]
    },
    {
      "cell_type": "code",
      "source": [
        "worldwide1 = worldwide[0:10000]\n",
        "worldwide1.shape"
      ],
      "metadata": {
        "colab": {
          "base_uri": "https://localhost:8080/"
        },
        "id": "q8Q0WmfwCdx_",
        "outputId": "32669b74-c959-4a0d-8c6e-e3560a8fb3bb"
      },
      "execution_count": null,
      "outputs": [
        {
          "output_type": "execute_result",
          "data": {
            "text/plain": [
              "(10000, 5)"
            ]
          },
          "metadata": {},
          "execution_count": 211
        }
      ]
    },
    {
      "cell_type": "code",
      "source": [
        "worldwide.to_csv('worldwide_N.csv')"
      ],
      "metadata": {
        "id": "OH4N-mMlPvA-"
      },
      "execution_count": null,
      "outputs": []
    },
    {
      "cell_type": "code",
      "source": [
        "worldwide1.to_csv('worldwide1_N.csv')"
      ],
      "metadata": {
        "id": "hRM3uzOnEPME"
      },
      "execution_count": null,
      "outputs": []
    },
    {
      "cell_type": "code",
      "source": [
        "sports = pd.read_csv('/content/sports.csv', names = ['hrefs', 'headline', 'briefing', 'body', 'category'])\n",
        "print(sports.shape)\n",
        "sports.head()"
      ],
      "metadata": {
        "colab": {
          "base_uri": "https://localhost:8080/",
          "height": 337
        },
        "id": "kPqEK7dQAlAM",
        "outputId": "140c00b7-e9f4-45f2-a507-4d10251d0a45"
      },
      "execution_count": null,
      "outputs": [
        {
          "output_type": "stream",
          "name": "stdout",
          "text": [
            "(48599, 5)\n"
          ]
        },
        {
          "output_type": "execute_result",
          "data": {
            "text/plain": [
              "                                         hrefs  \\\n",
              "0  https://gate.ahram.org.eg/News/4272487.aspx   \n",
              "1  https://gate.ahram.org.eg/News/4272483.aspx   \n",
              "2  https://gate.ahram.org.eg/News/4272470.aspx   \n",
              "3  https://gate.ahram.org.eg/News/4272469.aspx   \n",
              "4  https://gate.ahram.org.eg/News/4272460.aspx   \n",
              "\n",
              "                                            headline  \\\n",
              "0  علي زين: سعيدٌ بالمشاركة في بطولتي السوبر وكأس...   \n",
              "1  التعادل مع أودينيزي يمنح نابولي لقبه الأول في ...   \n",
              "2  عقب قرار الراحة.. موعد عودة الزمالك للتدريبات ...   \n",
              "3         معسكر مغلق لفريق يونيون برلين لكسر الروتين   \n",
              "4  عضو اللجنة الأكاديمية بمنحة ناصر للقيادة الدول...   \n",
              "\n",
              "                                            briefing  \\\n",
              "0  أبدي علي زين، لاعب فريق دينامو بوخاريست الروما...   \n",
              "1  توج نابولي بلقب الدوري الإيطالي لكرة القدم، لل...   \n",
              "2  قرر الجهاز الفني للفريق الأول لكرة القدم بنادي...   \n",
              "3  قرر نادي يونيون برلين إقامة معسكر تدريبي قصير ...   \n",
              "4  أعلن الاتحاد الدولي للصحفيين الاستقصائيين عن ا...   \n",
              "\n",
              "                                                body category  \n",
              "0  أبدي علي زين، لاعب فريق دينامو بوخاريست الروما...    رياضة  \n",
              "1  توج نابولي بلقب الدوري الإيطالي لكرة القدم، لل...    رياضة  \n",
              "2  قرر الجهاز الفني للفريق الأول لكرة القدم بنادي...    رياضة  \n",
              "3  قرر نادي يونيون برلين إقامة معسكر تدريبي قصير ...    رياضة  \n",
              "4  أعلن الاتحاد الدولي للصحفيين الاستقصائيين عن ا...    رياضة  "
            ],
            "text/html": [
              "\n",
              "  <div id=\"df-6636bc97-065d-4c8a-96e7-40d46ee05798\">\n",
              "    <div class=\"colab-df-container\">\n",
              "      <div>\n",
              "<style scoped>\n",
              "    .dataframe tbody tr th:only-of-type {\n",
              "        vertical-align: middle;\n",
              "    }\n",
              "\n",
              "    .dataframe tbody tr th {\n",
              "        vertical-align: top;\n",
              "    }\n",
              "\n",
              "    .dataframe thead th {\n",
              "        text-align: right;\n",
              "    }\n",
              "</style>\n",
              "<table border=\"1\" class=\"dataframe\">\n",
              "  <thead>\n",
              "    <tr style=\"text-align: right;\">\n",
              "      <th></th>\n",
              "      <th>hrefs</th>\n",
              "      <th>headline</th>\n",
              "      <th>briefing</th>\n",
              "      <th>body</th>\n",
              "      <th>category</th>\n",
              "    </tr>\n",
              "  </thead>\n",
              "  <tbody>\n",
              "    <tr>\n",
              "      <th>0</th>\n",
              "      <td>https://gate.ahram.org.eg/News/4272487.aspx</td>\n",
              "      <td>علي زين: سعيدٌ بالمشاركة في بطولتي السوبر وكأس...</td>\n",
              "      <td>أبدي علي زين، لاعب فريق دينامو بوخاريست الروما...</td>\n",
              "      <td>أبدي علي زين، لاعب فريق دينامو بوخاريست الروما...</td>\n",
              "      <td>رياضة</td>\n",
              "    </tr>\n",
              "    <tr>\n",
              "      <th>1</th>\n",
              "      <td>https://gate.ahram.org.eg/News/4272483.aspx</td>\n",
              "      <td>التعادل مع أودينيزي يمنح نابولي لقبه الأول في ...</td>\n",
              "      <td>توج نابولي بلقب الدوري الإيطالي لكرة القدم، لل...</td>\n",
              "      <td>توج نابولي بلقب الدوري الإيطالي لكرة القدم، لل...</td>\n",
              "      <td>رياضة</td>\n",
              "    </tr>\n",
              "    <tr>\n",
              "      <th>2</th>\n",
              "      <td>https://gate.ahram.org.eg/News/4272470.aspx</td>\n",
              "      <td>عقب قرار الراحة.. موعد عودة الزمالك للتدريبات ...</td>\n",
              "      <td>قرر الجهاز الفني للفريق الأول لكرة القدم بنادي...</td>\n",
              "      <td>قرر الجهاز الفني للفريق الأول لكرة القدم بنادي...</td>\n",
              "      <td>رياضة</td>\n",
              "    </tr>\n",
              "    <tr>\n",
              "      <th>3</th>\n",
              "      <td>https://gate.ahram.org.eg/News/4272469.aspx</td>\n",
              "      <td>معسكر مغلق لفريق يونيون برلين لكسر الروتين</td>\n",
              "      <td>قرر نادي يونيون برلين إقامة معسكر تدريبي قصير ...</td>\n",
              "      <td>قرر نادي يونيون برلين إقامة معسكر تدريبي قصير ...</td>\n",
              "      <td>رياضة</td>\n",
              "    </tr>\n",
              "    <tr>\n",
              "      <th>4</th>\n",
              "      <td>https://gate.ahram.org.eg/News/4272460.aspx</td>\n",
              "      <td>عضو اللجنة الأكاديمية بمنحة ناصر للقيادة الدول...</td>\n",
              "      <td>أعلن الاتحاد الدولي للصحفيين الاستقصائيين عن ا...</td>\n",
              "      <td>أعلن الاتحاد الدولي للصحفيين الاستقصائيين عن ا...</td>\n",
              "      <td>رياضة</td>\n",
              "    </tr>\n",
              "  </tbody>\n",
              "</table>\n",
              "</div>\n",
              "      <button class=\"colab-df-convert\" onclick=\"convertToInteractive('df-6636bc97-065d-4c8a-96e7-40d46ee05798')\"\n",
              "              title=\"Convert this dataframe to an interactive table.\"\n",
              "              style=\"display:none;\">\n",
              "        \n",
              "  <svg xmlns=\"http://www.w3.org/2000/svg\" height=\"24px\"viewBox=\"0 0 24 24\"\n",
              "       width=\"24px\">\n",
              "    <path d=\"M0 0h24v24H0V0z\" fill=\"none\"/>\n",
              "    <path d=\"M18.56 5.44l.94 2.06.94-2.06 2.06-.94-2.06-.94-.94-2.06-.94 2.06-2.06.94zm-11 1L8.5 8.5l.94-2.06 2.06-.94-2.06-.94L8.5 2.5l-.94 2.06-2.06.94zm10 10l.94 2.06.94-2.06 2.06-.94-2.06-.94-.94-2.06-.94 2.06-2.06.94z\"/><path d=\"M17.41 7.96l-1.37-1.37c-.4-.4-.92-.59-1.43-.59-.52 0-1.04.2-1.43.59L10.3 9.45l-7.72 7.72c-.78.78-.78 2.05 0 2.83L4 21.41c.39.39.9.59 1.41.59.51 0 1.02-.2 1.41-.59l7.78-7.78 2.81-2.81c.8-.78.8-2.07 0-2.86zM5.41 20L4 18.59l7.72-7.72 1.47 1.35L5.41 20z\"/>\n",
              "  </svg>\n",
              "      </button>\n",
              "      \n",
              "  <style>\n",
              "    .colab-df-container {\n",
              "      display:flex;\n",
              "      flex-wrap:wrap;\n",
              "      gap: 12px;\n",
              "    }\n",
              "\n",
              "    .colab-df-convert {\n",
              "      background-color: #E8F0FE;\n",
              "      border: none;\n",
              "      border-radius: 50%;\n",
              "      cursor: pointer;\n",
              "      display: none;\n",
              "      fill: #1967D2;\n",
              "      height: 32px;\n",
              "      padding: 0 0 0 0;\n",
              "      width: 32px;\n",
              "    }\n",
              "\n",
              "    .colab-df-convert:hover {\n",
              "      background-color: #E2EBFA;\n",
              "      box-shadow: 0px 1px 2px rgba(60, 64, 67, 0.3), 0px 1px 3px 1px rgba(60, 64, 67, 0.15);\n",
              "      fill: #174EA6;\n",
              "    }\n",
              "\n",
              "    [theme=dark] .colab-df-convert {\n",
              "      background-color: #3B4455;\n",
              "      fill: #D2E3FC;\n",
              "    }\n",
              "\n",
              "    [theme=dark] .colab-df-convert:hover {\n",
              "      background-color: #434B5C;\n",
              "      box-shadow: 0px 1px 3px 1px rgba(0, 0, 0, 0.15);\n",
              "      filter: drop-shadow(0px 1px 2px rgba(0, 0, 0, 0.3));\n",
              "      fill: #FFFFFF;\n",
              "    }\n",
              "  </style>\n",
              "\n",
              "      <script>\n",
              "        const buttonEl =\n",
              "          document.querySelector('#df-6636bc97-065d-4c8a-96e7-40d46ee05798 button.colab-df-convert');\n",
              "        buttonEl.style.display =\n",
              "          google.colab.kernel.accessAllowed ? 'block' : 'none';\n",
              "\n",
              "        async function convertToInteractive(key) {\n",
              "          const element = document.querySelector('#df-6636bc97-065d-4c8a-96e7-40d46ee05798');\n",
              "          const dataTable =\n",
              "            await google.colab.kernel.invokeFunction('convertToInteractive',\n",
              "                                                     [key], {});\n",
              "          if (!dataTable) return;\n",
              "\n",
              "          const docLinkHtml = 'Like what you see? Visit the ' +\n",
              "            '<a target=\"_blank\" href=https://colab.research.google.com/notebooks/data_table.ipynb>data table notebook</a>'\n",
              "            + ' to learn more about interactive tables.';\n",
              "          element.innerHTML = '';\n",
              "          dataTable['output_type'] = 'display_data';\n",
              "          await google.colab.output.renderOutput(dataTable, element);\n",
              "          const docLink = document.createElement('div');\n",
              "          docLink.innerHTML = docLinkHtml;\n",
              "          element.appendChild(docLink);\n",
              "        }\n",
              "      </script>\n",
              "    </div>\n",
              "  </div>\n",
              "  "
            ]
          },
          "metadata": {},
          "execution_count": 22
        }
      ]
    },
    {
      "cell_type": "code",
      "source": [
        "sports.duplicated().sum()"
      ],
      "metadata": {
        "colab": {
          "base_uri": "https://localhost:8080/"
        },
        "id": "exl7XWamRk6E",
        "outputId": "0bd9c063-c301-4751-9fb3-bb30a3d50cf0"
      },
      "execution_count": null,
      "outputs": [
        {
          "output_type": "execute_result",
          "data": {
            "text/plain": [
              "13332"
            ]
          },
          "metadata": {},
          "execution_count": 42
        }
      ]
    },
    {
      "cell_type": "code",
      "source": [
        "sports.drop_duplicates(inplace=True)"
      ],
      "metadata": {
        "id": "1AFxbngNSSST"
      },
      "execution_count": null,
      "outputs": []
    },
    {
      "cell_type": "code",
      "source": [
        "sports.shape"
      ],
      "metadata": {
        "colab": {
          "base_uri": "https://localhost:8080/"
        },
        "id": "R7062PnbTCVS",
        "outputId": "0f7b87d6-cc00-4ee4-b104-ab47c351d337"
      },
      "execution_count": null,
      "outputs": [
        {
          "output_type": "execute_result",
          "data": {
            "text/plain": [
              "(35267, 5)"
            ]
          },
          "metadata": {},
          "execution_count": 46
        }
      ]
    },
    {
      "cell_type": "code",
      "source": [
        "sports.duplicated().sum()"
      ],
      "metadata": {
        "colab": {
          "base_uri": "https://localhost:8080/"
        },
        "id": "QHeKQErHSon1",
        "outputId": "22d1c0c6-ebab-45fb-9e9b-e5a6c2c238d5"
      },
      "execution_count": null,
      "outputs": [
        {
          "output_type": "execute_result",
          "data": {
            "text/plain": [
              "0"
            ]
          },
          "metadata": {},
          "execution_count": 47
        }
      ]
    },
    {
      "cell_type": "code",
      "source": [
        "sports.isna().sum()"
      ],
      "metadata": {
        "colab": {
          "base_uri": "https://localhost:8080/"
        },
        "id": "S7x3j9UtTSks",
        "outputId": "b4ec74aa-5202-4453-e1b2-4bd7a4cd5b2c"
      },
      "execution_count": null,
      "outputs": [
        {
          "output_type": "execute_result",
          "data": {
            "text/plain": [
              "hrefs        0\n",
              "headline     0\n",
              "briefing    31\n",
              "body        30\n",
              "category     0\n",
              "dtype: int64"
            ]
          },
          "metadata": {},
          "execution_count": 48
        }
      ]
    },
    {
      "cell_type": "code",
      "source": [
        "sports.dropna(inplace=True)"
      ],
      "metadata": {
        "id": "tu60B_dvTb_b"
      },
      "execution_count": null,
      "outputs": []
    },
    {
      "cell_type": "code",
      "source": [
        "sports.shape"
      ],
      "metadata": {
        "colab": {
          "base_uri": "https://localhost:8080/"
        },
        "id": "E0gljZCxTpEg",
        "outputId": "596892bc-3d29-4304-adc4-6c2e3dc5dbdb"
      },
      "execution_count": null,
      "outputs": [
        {
          "output_type": "execute_result",
          "data": {
            "text/plain": [
              "(35206, 5)"
            ]
          },
          "metadata": {},
          "execution_count": 51
        }
      ]
    },
    {
      "cell_type": "code",
      "source": [
        "sports.isna().sum()"
      ],
      "metadata": {
        "colab": {
          "base_uri": "https://localhost:8080/"
        },
        "id": "zc2wZJqJT892",
        "outputId": "1c659852-a0a5-45a8-bbe1-98d0b8f9515d"
      },
      "execution_count": null,
      "outputs": [
        {
          "output_type": "execute_result",
          "data": {
            "text/plain": [
              "hrefs       0\n",
              "headline    0\n",
              "briefing    0\n",
              "body        0\n",
              "category    0\n",
              "dtype: int64"
            ]
          },
          "metadata": {},
          "execution_count": 52
        }
      ]
    },
    {
      "cell_type": "code",
      "source": [
        "sports.category.value_counts()"
      ],
      "metadata": {
        "colab": {
          "base_uri": "https://localhost:8080/"
        },
        "id": "ncSv7fWXY0d9",
        "outputId": "0f2287f3-17bf-48c9-f678-92628c796393"
      },
      "execution_count": null,
      "outputs": [
        {
          "output_type": "execute_result",
          "data": {
            "text/plain": [
              "رياضة    35206\n",
              "Name: category, dtype: int64"
            ]
          },
          "metadata": {},
          "execution_count": 73
        }
      ]
    },
    {
      "cell_type": "code",
      "source": [
        "sports.category = 'رياضة'"
      ],
      "metadata": {
        "id": "6Io7pGgrZIF9"
      },
      "execution_count": null,
      "outputs": []
    },
    {
      "cell_type": "code",
      "source": [
        "sports.drop_duplicates(inplace=True)"
      ],
      "metadata": {
        "id": "o5UAehQQjmbG"
      },
      "execution_count": null,
      "outputs": []
    },
    {
      "cell_type": "code",
      "source": [
        "sports.duplicated().sum()"
      ],
      "metadata": {
        "colab": {
          "base_uri": "https://localhost:8080/"
        },
        "id": "ki0hPX8kjrGh",
        "outputId": "399335aa-8106-4941-ff55-9df039770e20"
      },
      "execution_count": null,
      "outputs": [
        {
          "output_type": "execute_result",
          "data": {
            "text/plain": [
              "0"
            ]
          },
          "metadata": {},
          "execution_count": 152
        }
      ]
    },
    {
      "cell_type": "code",
      "source": [
        "sports.dropna(inplace=True)"
      ],
      "metadata": {
        "id": "8Bs0Pc-Pjzi7"
      },
      "execution_count": null,
      "outputs": []
    },
    {
      "cell_type": "code",
      "source": [
        "sports.isna().sum()"
      ],
      "metadata": {
        "colab": {
          "base_uri": "https://localhost:8080/"
        },
        "id": "azRLycLVj4B6",
        "outputId": "f82385db-5a4c-4c46-b0d5-d4a5cc57d433"
      },
      "execution_count": null,
      "outputs": [
        {
          "output_type": "execute_result",
          "data": {
            "text/plain": [
              "hrefs       0\n",
              "headline    0\n",
              "briefing    0\n",
              "body        0\n",
              "category    0\n",
              "dtype: int64"
            ]
          },
          "metadata": {},
          "execution_count": 154
        }
      ]
    },
    {
      "cell_type": "code",
      "source": [
        "sports1 = sports[0:10000]\n",
        "sports1.shape"
      ],
      "metadata": {
        "colab": {
          "base_uri": "https://localhost:8080/"
        },
        "id": "i1GxZJnPB2RC",
        "outputId": "aa9e5ee4-ac68-4726-d2fe-d2487bfaee9f"
      },
      "execution_count": null,
      "outputs": [
        {
          "output_type": "execute_result",
          "data": {
            "text/plain": [
              "(10000, 5)"
            ]
          },
          "metadata": {},
          "execution_count": 209
        }
      ]
    },
    {
      "cell_type": "code",
      "source": [
        "sports.to_csv('sports_N.csv')"
      ],
      "metadata": {
        "id": "UCDqfrLfPQ7q"
      },
      "execution_count": null,
      "outputs": []
    },
    {
      "cell_type": "code",
      "source": [
        "sports1.to_csv('sports1_N.csv')"
      ],
      "metadata": {
        "id": "7Q-NmB19D1Yh"
      },
      "execution_count": null,
      "outputs": []
    },
    {
      "cell_type": "code",
      "source": [
        "news = pd.read_csv('/content/News.csv')\n",
        "#, names = ['hrefs', 'headline', 'briefing', 'body', 'category'])\n",
        "print(news.shape)\n",
        "news.head()"
      ],
      "metadata": {
        "colab": {
          "base_uri": "https://localhost:8080/",
          "height": 355
        },
        "id": "ihdco99dM7wQ",
        "outputId": "9d5e4cdd-e189-455d-d25b-973310ad0344"
      },
      "execution_count": null,
      "outputs": [
        {
          "output_type": "stream",
          "name": "stdout",
          "text": [
            "(23981, 5)\n"
          ]
        },
        {
          "output_type": "execute_result",
          "data": {
            "text/plain": [
              "                                         hrefs  \\\n",
              "0  https://gate.ahram.org.eg/News/4274377.aspx   \n",
              "1  https://gate.ahram.org.eg/News/4274342.aspx   \n",
              "2  https://gate.ahram.org.eg/News/4274368.aspx   \n",
              "3  https://gate.ahram.org.eg/News/4274364.aspx   \n",
              "4  https://gate.ahram.org.eg/News/4274355.aspx   \n",
              "\n",
              "                                            headline  \\\n",
              "0  انطلاق امتحانات النقل للصفين الأول والثاني الث...   \n",
              "1  وزير الري يبحث مع السفير الأسترالي تعزيز التعا...   \n",
              "2  الإنتاج الحربي تعلن الدخول في شراكات جديدة مع ...   \n",
              "3  اليوم.. انطلاق فعاليات «لقاءات المعرفة» لمناقش...   \n",
              "4  لرفع جودة الخدمة المقدمة للمواطنين.. وزير الصح...   \n",
              "\n",
              "                                            briefing  \\\n",
              "0  انطلقت اليوم الأحد، امتحانات النقل للفصل الدرا...   \n",
              "1  ناقش الدكتور هاني سويلم، وزير الموارد المائية ...   \n",
              "2  عقد المهندس محمد صلاح الدين مصطفى وزير الدولة ...   \n",
              "3  تنطلق، اليوم الأحد، فعاليات اللقاء الخامس من س...   \n",
              "4  وجه الدكتور خالد عبدالغفار، وزير الصحة والسكان...   \n",
              "\n",
              "                                                body category  \n",
              "0  انطلقت اليوم الأحد، امتحانات النقل للفصل الدرا...    أخبار  \n",
              "1  ناقش الدكتور هاني سويلم، وزير الموارد المائية ...    أخبار  \n",
              "2  عقد المهندس محمد صلاح الدين مصطفى وزير الدولة ...    أخبار  \n",
              "3  تنطلق، اليوم الأحد، فعاليات اللقاء الخامس من س...    أخبار  \n",
              "4  وجه الدكتور خالد عبدالغفار، وزير الصحة والسكان...    أخبار  "
            ],
            "text/html": [
              "\n",
              "  <div id=\"df-2aced40b-7a7e-4139-ba41-977b08df191e\">\n",
              "    <div class=\"colab-df-container\">\n",
              "      <div>\n",
              "<style scoped>\n",
              "    .dataframe tbody tr th:only-of-type {\n",
              "        vertical-align: middle;\n",
              "    }\n",
              "\n",
              "    .dataframe tbody tr th {\n",
              "        vertical-align: top;\n",
              "    }\n",
              "\n",
              "    .dataframe thead th {\n",
              "        text-align: right;\n",
              "    }\n",
              "</style>\n",
              "<table border=\"1\" class=\"dataframe\">\n",
              "  <thead>\n",
              "    <tr style=\"text-align: right;\">\n",
              "      <th></th>\n",
              "      <th>hrefs</th>\n",
              "      <th>headline</th>\n",
              "      <th>briefing</th>\n",
              "      <th>body</th>\n",
              "      <th>category</th>\n",
              "    </tr>\n",
              "  </thead>\n",
              "  <tbody>\n",
              "    <tr>\n",
              "      <th>0</th>\n",
              "      <td>https://gate.ahram.org.eg/News/4274377.aspx</td>\n",
              "      <td>انطلاق امتحانات النقل للصفين الأول والثاني الث...</td>\n",
              "      <td>انطلقت اليوم الأحد، امتحانات النقل للفصل الدرا...</td>\n",
              "      <td>انطلقت اليوم الأحد، امتحانات النقل للفصل الدرا...</td>\n",
              "      <td>أخبار</td>\n",
              "    </tr>\n",
              "    <tr>\n",
              "      <th>1</th>\n",
              "      <td>https://gate.ahram.org.eg/News/4274342.aspx</td>\n",
              "      <td>وزير الري يبحث مع السفير الأسترالي تعزيز التعا...</td>\n",
              "      <td>ناقش الدكتور هاني سويلم، وزير الموارد المائية ...</td>\n",
              "      <td>ناقش الدكتور هاني سويلم، وزير الموارد المائية ...</td>\n",
              "      <td>أخبار</td>\n",
              "    </tr>\n",
              "    <tr>\n",
              "      <th>2</th>\n",
              "      <td>https://gate.ahram.org.eg/News/4274368.aspx</td>\n",
              "      <td>الإنتاج الحربي تعلن الدخول في شراكات جديدة مع ...</td>\n",
              "      <td>عقد المهندس محمد صلاح الدين مصطفى وزير الدولة ...</td>\n",
              "      <td>عقد المهندس محمد صلاح الدين مصطفى وزير الدولة ...</td>\n",
              "      <td>أخبار</td>\n",
              "    </tr>\n",
              "    <tr>\n",
              "      <th>3</th>\n",
              "      <td>https://gate.ahram.org.eg/News/4274364.aspx</td>\n",
              "      <td>اليوم.. انطلاق فعاليات «لقاءات المعرفة» لمناقش...</td>\n",
              "      <td>تنطلق، اليوم الأحد، فعاليات اللقاء الخامس من س...</td>\n",
              "      <td>تنطلق، اليوم الأحد، فعاليات اللقاء الخامس من س...</td>\n",
              "      <td>أخبار</td>\n",
              "    </tr>\n",
              "    <tr>\n",
              "      <th>4</th>\n",
              "      <td>https://gate.ahram.org.eg/News/4274355.aspx</td>\n",
              "      <td>لرفع جودة الخدمة المقدمة للمواطنين.. وزير الصح...</td>\n",
              "      <td>وجه الدكتور خالد عبدالغفار، وزير الصحة والسكان...</td>\n",
              "      <td>وجه الدكتور خالد عبدالغفار، وزير الصحة والسكان...</td>\n",
              "      <td>أخبار</td>\n",
              "    </tr>\n",
              "  </tbody>\n",
              "</table>\n",
              "</div>\n",
              "      <button class=\"colab-df-convert\" onclick=\"convertToInteractive('df-2aced40b-7a7e-4139-ba41-977b08df191e')\"\n",
              "              title=\"Convert this dataframe to an interactive table.\"\n",
              "              style=\"display:none;\">\n",
              "        \n",
              "  <svg xmlns=\"http://www.w3.org/2000/svg\" height=\"24px\"viewBox=\"0 0 24 24\"\n",
              "       width=\"24px\">\n",
              "    <path d=\"M0 0h24v24H0V0z\" fill=\"none\"/>\n",
              "    <path d=\"M18.56 5.44l.94 2.06.94-2.06 2.06-.94-2.06-.94-.94-2.06-.94 2.06-2.06.94zm-11 1L8.5 8.5l.94-2.06 2.06-.94-2.06-.94L8.5 2.5l-.94 2.06-2.06.94zm10 10l.94 2.06.94-2.06 2.06-.94-2.06-.94-.94-2.06-.94 2.06-2.06.94z\"/><path d=\"M17.41 7.96l-1.37-1.37c-.4-.4-.92-.59-1.43-.59-.52 0-1.04.2-1.43.59L10.3 9.45l-7.72 7.72c-.78.78-.78 2.05 0 2.83L4 21.41c.39.39.9.59 1.41.59.51 0 1.02-.2 1.41-.59l7.78-7.78 2.81-2.81c.8-.78.8-2.07 0-2.86zM5.41 20L4 18.59l7.72-7.72 1.47 1.35L5.41 20z\"/>\n",
              "  </svg>\n",
              "      </button>\n",
              "      \n",
              "  <style>\n",
              "    .colab-df-container {\n",
              "      display:flex;\n",
              "      flex-wrap:wrap;\n",
              "      gap: 12px;\n",
              "    }\n",
              "\n",
              "    .colab-df-convert {\n",
              "      background-color: #E8F0FE;\n",
              "      border: none;\n",
              "      border-radius: 50%;\n",
              "      cursor: pointer;\n",
              "      display: none;\n",
              "      fill: #1967D2;\n",
              "      height: 32px;\n",
              "      padding: 0 0 0 0;\n",
              "      width: 32px;\n",
              "    }\n",
              "\n",
              "    .colab-df-convert:hover {\n",
              "      background-color: #E2EBFA;\n",
              "      box-shadow: 0px 1px 2px rgba(60, 64, 67, 0.3), 0px 1px 3px 1px rgba(60, 64, 67, 0.15);\n",
              "      fill: #174EA6;\n",
              "    }\n",
              "\n",
              "    [theme=dark] .colab-df-convert {\n",
              "      background-color: #3B4455;\n",
              "      fill: #D2E3FC;\n",
              "    }\n",
              "\n",
              "    [theme=dark] .colab-df-convert:hover {\n",
              "      background-color: #434B5C;\n",
              "      box-shadow: 0px 1px 3px 1px rgba(0, 0, 0, 0.15);\n",
              "      filter: drop-shadow(0px 1px 2px rgba(0, 0, 0, 0.3));\n",
              "      fill: #FFFFFF;\n",
              "    }\n",
              "  </style>\n",
              "\n",
              "      <script>\n",
              "        const buttonEl =\n",
              "          document.querySelector('#df-2aced40b-7a7e-4139-ba41-977b08df191e button.colab-df-convert');\n",
              "        buttonEl.style.display =\n",
              "          google.colab.kernel.accessAllowed ? 'block' : 'none';\n",
              "\n",
              "        async function convertToInteractive(key) {\n",
              "          const element = document.querySelector('#df-2aced40b-7a7e-4139-ba41-977b08df191e');\n",
              "          const dataTable =\n",
              "            await google.colab.kernel.invokeFunction('convertToInteractive',\n",
              "                                                     [key], {});\n",
              "          if (!dataTable) return;\n",
              "\n",
              "          const docLinkHtml = 'Like what you see? Visit the ' +\n",
              "            '<a target=\"_blank\" href=https://colab.research.google.com/notebooks/data_table.ipynb>data table notebook</a>'\n",
              "            + ' to learn more about interactive tables.';\n",
              "          element.innerHTML = '';\n",
              "          dataTable['output_type'] = 'display_data';\n",
              "          await google.colab.output.renderOutput(dataTable, element);\n",
              "          const docLink = document.createElement('div');\n",
              "          docLink.innerHTML = docLinkHtml;\n",
              "          element.appendChild(docLink);\n",
              "        }\n",
              "      </script>\n",
              "    </div>\n",
              "  </div>\n",
              "  "
            ]
          },
          "metadata": {},
          "execution_count": 237
        }
      ]
    },
    {
      "cell_type": "code",
      "source": [
        "news.category.value_counts()"
      ],
      "metadata": {
        "colab": {
          "base_uri": "https://localhost:8080/"
        },
        "id": "sdvBtgKaSCUB",
        "outputId": "f1edcf46-b9b8-4de6-e596-919b31c8a577"
      },
      "execution_count": null,
      "outputs": [
        {
          "output_type": "execute_result",
          "data": {
            "text/plain": [
              "أخبار                                                   23483\n",
              "الطريق الي الحوار الوطني                                  220\n",
              "معرض الكتاب                                               108\n",
              "رمضان 1444 هــ .. تغطية خاصة                               79\n",
              "حصاد عام .. في عهد الإنجازات                               78\n",
              "معرض القاهرة الدولى للكتاب .. تغطية خاصة                    4\n",
              "الطريق الى قمة المناخ COP27 شرم الشيخ 2022                  3\n",
              "كأس العالم 2022 .. تغطية خاصة                               3\n",
              "حياة كريمة.. في قرى مصر                                     2\n",
              "معرض القاهرة الدولي للكتاب .. خمسون عاماً من الثقافة        1\n",
              "Name: category, dtype: int64"
            ]
          },
          "metadata": {},
          "execution_count": 238
        }
      ]
    },
    {
      "cell_type": "code",
      "source": [
        "news.category = 'أخبار'"
      ],
      "metadata": {
        "id": "N8xNETzAR7oh"
      },
      "execution_count": null,
      "outputs": []
    },
    {
      "cell_type": "code",
      "source": [
        "news.drop_duplicates(inplace=True)"
      ],
      "metadata": {
        "id": "THbpFiNWQcaN"
      },
      "execution_count": null,
      "outputs": []
    },
    {
      "cell_type": "code",
      "source": [
        "news.duplicated().sum()"
      ],
      "metadata": {
        "colab": {
          "base_uri": "https://localhost:8080/"
        },
        "id": "6Rd7v8ZRPxFL",
        "outputId": "c7f10b3f-e408-4e50-c705-ab93dc4db3c2"
      },
      "execution_count": null,
      "outputs": [
        {
          "output_type": "execute_result",
          "data": {
            "text/plain": [
              "0"
            ]
          },
          "metadata": {},
          "execution_count": 241
        }
      ]
    },
    {
      "cell_type": "code",
      "source": [
        "news.dropna(inplace=True)"
      ],
      "metadata": {
        "id": "HZUBu_aKQfP8"
      },
      "execution_count": null,
      "outputs": []
    },
    {
      "cell_type": "code",
      "source": [
        "news.isna().sum()"
      ],
      "metadata": {
        "colab": {
          "base_uri": "https://localhost:8080/"
        },
        "id": "gZbOQe62P7g_",
        "outputId": "20342fee-8a4f-4849-ccb5-9e7c6aa88565"
      },
      "execution_count": null,
      "outputs": [
        {
          "output_type": "execute_result",
          "data": {
            "text/plain": [
              "hrefs       0\n",
              "headline    0\n",
              "briefing    0\n",
              "body        0\n",
              "category    0\n",
              "dtype: int64"
            ]
          },
          "metadata": {},
          "execution_count": 243
        }
      ]
    },
    {
      "cell_type": "code",
      "source": [
        "news.category.value_counts()"
      ],
      "metadata": {
        "colab": {
          "base_uri": "https://localhost:8080/"
        },
        "id": "tjyUjJsgQC7j",
        "outputId": "38b0d6b8-3e16-4594-b5cc-2cf368d22179"
      },
      "execution_count": null,
      "outputs": [
        {
          "output_type": "execute_result",
          "data": {
            "text/plain": [
              "أخبار    23740\n",
              "Name: category, dtype: int64"
            ]
          },
          "metadata": {},
          "execution_count": 244
        }
      ]
    },
    {
      "cell_type": "code",
      "source": [
        "news1 = news[0:10000]\n",
        "news1.shape"
      ],
      "metadata": {
        "colab": {
          "base_uri": "https://localhost:8080/"
        },
        "id": "7vkAl7RcSIP3",
        "outputId": "8973204b-29de-4a91-ef93-f70c09d336b1"
      },
      "execution_count": null,
      "outputs": [
        {
          "output_type": "execute_result",
          "data": {
            "text/plain": [
              "(10000, 5)"
            ]
          },
          "metadata": {},
          "execution_count": 245
        }
      ]
    },
    {
      "cell_type": "code",
      "source": [
        "news.to_csv('news_N.csv')\n",
        "news1.to_csv('news1_N.csv')"
      ],
      "metadata": {
        "id": "lxfjFgsmSPn5"
      },
      "execution_count": null,
      "outputs": []
    },
    {
      "cell_type": "code",
      "source": [
        "files = ['/content/arts1_N.csv', '/content/crime1_N.csv', '/content/economics1_N.csv', '/content/local1_N.csv', '/content/sports1_N.csv', '/content/worldwide1_N.csv']\n",
        "df = pd.DataFrame()\n",
        "\n",
        "for file in files:\n",
        "  data = pd.read_csv(file)\n",
        "  df = pd.concat([df, data], axis=0)\n",
        "\n",
        "df.to_csv('completeDS1.csv', index=False)"
      ],
      "metadata": {
        "id": "wbxM0oYVI1Ya"
      },
      "execution_count": null,
      "outputs": []
    },
    {
      "cell_type": "code",
      "source": [
        "df"
      ],
      "metadata": {
        "colab": {
          "base_uri": "https://localhost:8080/",
          "height": 658
        },
        "id": "_nrwcWJON3Bi",
        "outputId": "3eebad75-3026-4581-b556-079a1db510c0"
      },
      "execution_count": null,
      "outputs": [
        {
          "output_type": "execute_result",
          "data": {
            "text/plain": [
              "      Unnamed: 0                                        hrefs  \\\n",
              "0              0  https://gate.ahram.org.eg/News/4273094.aspx   \n",
              "1              1  https://gate.ahram.org.eg/News/4273085.aspx   \n",
              "2              2  https://gate.ahram.org.eg/News/4273066.aspx   \n",
              "3              3  https://gate.ahram.org.eg/News/4273075.aspx   \n",
              "4              4  https://gate.ahram.org.eg/News/4273023.aspx   \n",
              "...          ...                                          ...   \n",
              "9995       10015  https://gate.ahram.org.eg/News/4162610.aspx   \n",
              "9996       10016  https://gate.ahram.org.eg/News/4162598.aspx   \n",
              "9997       10017  https://gate.ahram.org.eg/News/4162596.aspx   \n",
              "9998       10018  https://gate.ahram.org.eg/News/4162607.aspx   \n",
              "9999       10019  https://gate.ahram.org.eg/News/4162549.aspx   \n",
              "\n",
              "                                               headline  \\\n",
              "0     مهرجان المركز الكاثوليكي يمنح الفنان يحيى الفخ...   \n",
              "1     تكريم الفنان محمود حميدة عن مشواره الفني في اف...   \n",
              "2     فعاليات ناجحة وعروض استثنائية في النسخة الرابع...   \n",
              "3     يحيى الفخراني ومحمود حميدة أبرز الحاضرين.. انط...   \n",
              "4     موعد عرض الفيلم الوثائقي \"يوسف إدريس\" على شاشة...   \n",
              "...                                                 ...   \n",
              "9995  أوكرانيا تنفي مسئوليتها عن تحطم طائرات مسيرة ف...   \n",
              "9996  بريطانيا تقدم دعما لمساعدة مواطني هونج كونج لل...   \n",
              "9997  السعودية وبريطانيا توقعان إعلان نوايا بشأن مشا...   \n",
              "9998  الإمارات وماليزيا تبحثان سبل تعزيز التعاون الع...   \n",
              "9999  البحرين وبلغاريا تبحثان سبل تعزيز التعاون الثنائي   \n",
              "\n",
              "                                               briefing  \\\n",
              "0     منح مهرجان المركز الكاثوليكى الفنان الكبير يحي...   \n",
              "1     كرم مهرجان المركز الكاثوليكى للسينما في دورته ...   \n",
              "2     طوال أسبوع كامل وبحضور رفيع المستوى لنخبة صناع...   \n",
              "3     انطلق منذ قليل حفل افتتاح مهرجان المركز الكاثو...   \n",
              "4     تعرض قناة \"الوثائقية\" يوم الأحد المقبل 7 مايو ...   \n",
              "...                                                 ...   \n",
              "9995  نفت أوكرانيا مسؤوليتها عن تحطم العديد من الطائ...   \n",
              "9996  أعلنت الحكومة البريطانية اليوم الأربعاء، عن تق...   \n",
              "9997  بحث وزير الدفاع السعودي الأمير خالد بن سلمان ب...   \n",
              "9998  بحث وزير الدولة لشئون الدفاع الإماراتي محمد بن...   \n",
              "9999  بحث وزير الخارجية البحريني الدكتور عبداللطيف ب...   \n",
              "\n",
              "                                                   body     category  \n",
              "0     منح مهرجان المركز الكاثوليكى الفنان الكبير يحي...  ثقافة وفنون  \n",
              "1     كرم مهرجان المركز الكاثوليكى للسينما في دورته ...  ثقافة وفنون  \n",
              "2     طوال أسبوع كامل وبحضور رفيع المستوى لنخبة صناع...  ثقافة وفنون  \n",
              "3     انطلق منذ قليل حفل افتتاح مهرجان المركز الكاثو...  ثقافة وفنون  \n",
              "4     تعرض قناة \"الوثائقية\" يوم الأحد المقبل 7 مايو ...  ثقافة وفنون  \n",
              "...                                                 ...          ...  \n",
              "9995  نفت أوكرانيا مسؤوليتها عن تحطم العديد من الطائ...    عرب وعالم  \n",
              "9996  أعلنت الحكومة البريطانية اليوم الأربعاء، عن تق...    عرب وعالم  \n",
              "9997  بحث وزير الدفاع السعودي الأمير خالد بن سلمان ب...    عرب وعالم  \n",
              "9998  بحث وزير الدولة لشئون الدفاع الإماراتي محمد بن...    عرب وعالم  \n",
              "9999  بحث وزير الخارجية البحريني الدكتور عبداللطيف ب...    عرب وعالم  \n",
              "\n",
              "[60000 rows x 6 columns]"
            ],
            "text/html": [
              "\n",
              "  <div id=\"df-3d201d48-9446-4741-ac6a-6cc22a5f04d7\">\n",
              "    <div class=\"colab-df-container\">\n",
              "      <div>\n",
              "<style scoped>\n",
              "    .dataframe tbody tr th:only-of-type {\n",
              "        vertical-align: middle;\n",
              "    }\n",
              "\n",
              "    .dataframe tbody tr th {\n",
              "        vertical-align: top;\n",
              "    }\n",
              "\n",
              "    .dataframe thead th {\n",
              "        text-align: right;\n",
              "    }\n",
              "</style>\n",
              "<table border=\"1\" class=\"dataframe\">\n",
              "  <thead>\n",
              "    <tr style=\"text-align: right;\">\n",
              "      <th></th>\n",
              "      <th>Unnamed: 0</th>\n",
              "      <th>hrefs</th>\n",
              "      <th>headline</th>\n",
              "      <th>briefing</th>\n",
              "      <th>body</th>\n",
              "      <th>category</th>\n",
              "    </tr>\n",
              "  </thead>\n",
              "  <tbody>\n",
              "    <tr>\n",
              "      <th>0</th>\n",
              "      <td>0</td>\n",
              "      <td>https://gate.ahram.org.eg/News/4273094.aspx</td>\n",
              "      <td>مهرجان المركز الكاثوليكي يمنح الفنان يحيى الفخ...</td>\n",
              "      <td>منح مهرجان المركز الكاثوليكى الفنان الكبير يحي...</td>\n",
              "      <td>منح مهرجان المركز الكاثوليكى الفنان الكبير يحي...</td>\n",
              "      <td>ثقافة وفنون</td>\n",
              "    </tr>\n",
              "    <tr>\n",
              "      <th>1</th>\n",
              "      <td>1</td>\n",
              "      <td>https://gate.ahram.org.eg/News/4273085.aspx</td>\n",
              "      <td>تكريم الفنان محمود حميدة عن مشواره الفني في اف...</td>\n",
              "      <td>كرم مهرجان المركز الكاثوليكى للسينما في دورته ...</td>\n",
              "      <td>كرم مهرجان المركز الكاثوليكى للسينما في دورته ...</td>\n",
              "      <td>ثقافة وفنون</td>\n",
              "    </tr>\n",
              "    <tr>\n",
              "      <th>2</th>\n",
              "      <td>2</td>\n",
              "      <td>https://gate.ahram.org.eg/News/4273066.aspx</td>\n",
              "      <td>فعاليات ناجحة وعروض استثنائية في النسخة الرابع...</td>\n",
              "      <td>طوال أسبوع كامل وبحضور رفيع المستوى لنخبة صناع...</td>\n",
              "      <td>طوال أسبوع كامل وبحضور رفيع المستوى لنخبة صناع...</td>\n",
              "      <td>ثقافة وفنون</td>\n",
              "    </tr>\n",
              "    <tr>\n",
              "      <th>3</th>\n",
              "      <td>3</td>\n",
              "      <td>https://gate.ahram.org.eg/News/4273075.aspx</td>\n",
              "      <td>يحيى الفخراني ومحمود حميدة أبرز الحاضرين.. انط...</td>\n",
              "      <td>انطلق منذ قليل حفل افتتاح مهرجان المركز الكاثو...</td>\n",
              "      <td>انطلق منذ قليل حفل افتتاح مهرجان المركز الكاثو...</td>\n",
              "      <td>ثقافة وفنون</td>\n",
              "    </tr>\n",
              "    <tr>\n",
              "      <th>4</th>\n",
              "      <td>4</td>\n",
              "      <td>https://gate.ahram.org.eg/News/4273023.aspx</td>\n",
              "      <td>موعد عرض الفيلم الوثائقي \"يوسف إدريس\" على شاشة...</td>\n",
              "      <td>تعرض قناة \"الوثائقية\" يوم الأحد المقبل 7 مايو ...</td>\n",
              "      <td>تعرض قناة \"الوثائقية\" يوم الأحد المقبل 7 مايو ...</td>\n",
              "      <td>ثقافة وفنون</td>\n",
              "    </tr>\n",
              "    <tr>\n",
              "      <th>...</th>\n",
              "      <td>...</td>\n",
              "      <td>...</td>\n",
              "      <td>...</td>\n",
              "      <td>...</td>\n",
              "      <td>...</td>\n",
              "      <td>...</td>\n",
              "    </tr>\n",
              "    <tr>\n",
              "      <th>9995</th>\n",
              "      <td>10015</td>\n",
              "      <td>https://gate.ahram.org.eg/News/4162610.aspx</td>\n",
              "      <td>أوكرانيا تنفي مسئوليتها عن تحطم طائرات مسيرة ف...</td>\n",
              "      <td>نفت أوكرانيا مسؤوليتها عن تحطم العديد من الطائ...</td>\n",
              "      <td>نفت أوكرانيا مسؤوليتها عن تحطم العديد من الطائ...</td>\n",
              "      <td>عرب وعالم</td>\n",
              "    </tr>\n",
              "    <tr>\n",
              "      <th>9996</th>\n",
              "      <td>10016</td>\n",
              "      <td>https://gate.ahram.org.eg/News/4162598.aspx</td>\n",
              "      <td>بريطانيا تقدم دعما لمساعدة مواطني هونج كونج لل...</td>\n",
              "      <td>أعلنت الحكومة البريطانية اليوم الأربعاء، عن تق...</td>\n",
              "      <td>أعلنت الحكومة البريطانية اليوم الأربعاء، عن تق...</td>\n",
              "      <td>عرب وعالم</td>\n",
              "    </tr>\n",
              "    <tr>\n",
              "      <th>9997</th>\n",
              "      <td>10017</td>\n",
              "      <td>https://gate.ahram.org.eg/News/4162596.aspx</td>\n",
              "      <td>السعودية وبريطانيا توقعان إعلان نوايا بشأن مشا...</td>\n",
              "      <td>بحث وزير الدفاع السعودي الأمير خالد بن سلمان ب...</td>\n",
              "      <td>بحث وزير الدفاع السعودي الأمير خالد بن سلمان ب...</td>\n",
              "      <td>عرب وعالم</td>\n",
              "    </tr>\n",
              "    <tr>\n",
              "      <th>9998</th>\n",
              "      <td>10018</td>\n",
              "      <td>https://gate.ahram.org.eg/News/4162607.aspx</td>\n",
              "      <td>الإمارات وماليزيا تبحثان سبل تعزيز التعاون الع...</td>\n",
              "      <td>بحث وزير الدولة لشئون الدفاع الإماراتي محمد بن...</td>\n",
              "      <td>بحث وزير الدولة لشئون الدفاع الإماراتي محمد بن...</td>\n",
              "      <td>عرب وعالم</td>\n",
              "    </tr>\n",
              "    <tr>\n",
              "      <th>9999</th>\n",
              "      <td>10019</td>\n",
              "      <td>https://gate.ahram.org.eg/News/4162549.aspx</td>\n",
              "      <td>البحرين وبلغاريا تبحثان سبل تعزيز التعاون الثنائي</td>\n",
              "      <td>بحث وزير الخارجية البحريني الدكتور عبداللطيف ب...</td>\n",
              "      <td>بحث وزير الخارجية البحريني الدكتور عبداللطيف ب...</td>\n",
              "      <td>عرب وعالم</td>\n",
              "    </tr>\n",
              "  </tbody>\n",
              "</table>\n",
              "<p>60000 rows × 6 columns</p>\n",
              "</div>\n",
              "      <button class=\"colab-df-convert\" onclick=\"convertToInteractive('df-3d201d48-9446-4741-ac6a-6cc22a5f04d7')\"\n",
              "              title=\"Convert this dataframe to an interactive table.\"\n",
              "              style=\"display:none;\">\n",
              "        \n",
              "  <svg xmlns=\"http://www.w3.org/2000/svg\" height=\"24px\"viewBox=\"0 0 24 24\"\n",
              "       width=\"24px\">\n",
              "    <path d=\"M0 0h24v24H0V0z\" fill=\"none\"/>\n",
              "    <path d=\"M18.56 5.44l.94 2.06.94-2.06 2.06-.94-2.06-.94-.94-2.06-.94 2.06-2.06.94zm-11 1L8.5 8.5l.94-2.06 2.06-.94-2.06-.94L8.5 2.5l-.94 2.06-2.06.94zm10 10l.94 2.06.94-2.06 2.06-.94-2.06-.94-.94-2.06-.94 2.06-2.06.94z\"/><path d=\"M17.41 7.96l-1.37-1.37c-.4-.4-.92-.59-1.43-.59-.52 0-1.04.2-1.43.59L10.3 9.45l-7.72 7.72c-.78.78-.78 2.05 0 2.83L4 21.41c.39.39.9.59 1.41.59.51 0 1.02-.2 1.41-.59l7.78-7.78 2.81-2.81c.8-.78.8-2.07 0-2.86zM5.41 20L4 18.59l7.72-7.72 1.47 1.35L5.41 20z\"/>\n",
              "  </svg>\n",
              "      </button>\n",
              "      \n",
              "  <style>\n",
              "    .colab-df-container {\n",
              "      display:flex;\n",
              "      flex-wrap:wrap;\n",
              "      gap: 12px;\n",
              "    }\n",
              "\n",
              "    .colab-df-convert {\n",
              "      background-color: #E8F0FE;\n",
              "      border: none;\n",
              "      border-radius: 50%;\n",
              "      cursor: pointer;\n",
              "      display: none;\n",
              "      fill: #1967D2;\n",
              "      height: 32px;\n",
              "      padding: 0 0 0 0;\n",
              "      width: 32px;\n",
              "    }\n",
              "\n",
              "    .colab-df-convert:hover {\n",
              "      background-color: #E2EBFA;\n",
              "      box-shadow: 0px 1px 2px rgba(60, 64, 67, 0.3), 0px 1px 3px 1px rgba(60, 64, 67, 0.15);\n",
              "      fill: #174EA6;\n",
              "    }\n",
              "\n",
              "    [theme=dark] .colab-df-convert {\n",
              "      background-color: #3B4455;\n",
              "      fill: #D2E3FC;\n",
              "    }\n",
              "\n",
              "    [theme=dark] .colab-df-convert:hover {\n",
              "      background-color: #434B5C;\n",
              "      box-shadow: 0px 1px 3px 1px rgba(0, 0, 0, 0.15);\n",
              "      filter: drop-shadow(0px 1px 2px rgba(0, 0, 0, 0.3));\n",
              "      fill: #FFFFFF;\n",
              "    }\n",
              "  </style>\n",
              "\n",
              "      <script>\n",
              "        const buttonEl =\n",
              "          document.querySelector('#df-3d201d48-9446-4741-ac6a-6cc22a5f04d7 button.colab-df-convert');\n",
              "        buttonEl.style.display =\n",
              "          google.colab.kernel.accessAllowed ? 'block' : 'none';\n",
              "\n",
              "        async function convertToInteractive(key) {\n",
              "          const element = document.querySelector('#df-3d201d48-9446-4741-ac6a-6cc22a5f04d7');\n",
              "          const dataTable =\n",
              "            await google.colab.kernel.invokeFunction('convertToInteractive',\n",
              "                                                     [key], {});\n",
              "          if (!dataTable) return;\n",
              "\n",
              "          const docLinkHtml = 'Like what you see? Visit the ' +\n",
              "            '<a target=\"_blank\" href=https://colab.research.google.com/notebooks/data_table.ipynb>data table notebook</a>'\n",
              "            + ' to learn more about interactive tables.';\n",
              "          element.innerHTML = '';\n",
              "          dataTable['output_type'] = 'display_data';\n",
              "          await google.colab.output.renderOutput(dataTable, element);\n",
              "          const docLink = document.createElement('div');\n",
              "          docLink.innerHTML = docLinkHtml;\n",
              "          element.appendChild(docLink);\n",
              "        }\n",
              "      </script>\n",
              "    </div>\n",
              "  </div>\n",
              "  "
            ]
          },
          "metadata": {},
          "execution_count": 223
        }
      ]
    },
    {
      "cell_type": "code",
      "source": [
        "df.isna().sum()"
      ],
      "metadata": {
        "colab": {
          "base_uri": "https://localhost:8080/"
        },
        "id": "X-5ROWfamzMH",
        "outputId": "64747ac9-b45a-4573-c834-14fe5297fed4"
      },
      "execution_count": null,
      "outputs": [
        {
          "output_type": "execute_result",
          "data": {
            "text/plain": [
              "Unnamed: 0    0\n",
              "hrefs         0\n",
              "headline      0\n",
              "briefing      0\n",
              "body          0\n",
              "category      0\n",
              "dtype: int64"
            ]
          },
          "metadata": {},
          "execution_count": 224
        }
      ]
    },
    {
      "cell_type": "code",
      "source": [
        "df1 = df.drop(columns=['Unnamed: 0'])\n",
        "df1"
      ],
      "metadata": {
        "colab": {
          "base_uri": "https://localhost:8080/",
          "height": 641
        },
        "id": "ucQIEEQdVO5I",
        "outputId": "b22683e5-9298-4ab5-90c4-68533326c2ba"
      },
      "execution_count": null,
      "outputs": [
        {
          "output_type": "execute_result",
          "data": {
            "text/plain": [
              "                                            hrefs  \\\n",
              "0     https://gate.ahram.org.eg/News/4273094.aspx   \n",
              "1     https://gate.ahram.org.eg/News/4273085.aspx   \n",
              "2     https://gate.ahram.org.eg/News/4273066.aspx   \n",
              "3     https://gate.ahram.org.eg/News/4273075.aspx   \n",
              "4     https://gate.ahram.org.eg/News/4273023.aspx   \n",
              "...                                           ...   \n",
              "9995  https://gate.ahram.org.eg/News/4162610.aspx   \n",
              "9996  https://gate.ahram.org.eg/News/4162598.aspx   \n",
              "9997  https://gate.ahram.org.eg/News/4162596.aspx   \n",
              "9998  https://gate.ahram.org.eg/News/4162607.aspx   \n",
              "9999  https://gate.ahram.org.eg/News/4162549.aspx   \n",
              "\n",
              "                                               headline  \\\n",
              "0     مهرجان المركز الكاثوليكي يمنح الفنان يحيى الفخ...   \n",
              "1     تكريم الفنان محمود حميدة عن مشواره الفني في اف...   \n",
              "2     فعاليات ناجحة وعروض استثنائية في النسخة الرابع...   \n",
              "3     يحيى الفخراني ومحمود حميدة أبرز الحاضرين.. انط...   \n",
              "4     موعد عرض الفيلم الوثائقي \"يوسف إدريس\" على شاشة...   \n",
              "...                                                 ...   \n",
              "9995  أوكرانيا تنفي مسئوليتها عن تحطم طائرات مسيرة ف...   \n",
              "9996  بريطانيا تقدم دعما لمساعدة مواطني هونج كونج لل...   \n",
              "9997  السعودية وبريطانيا توقعان إعلان نوايا بشأن مشا...   \n",
              "9998  الإمارات وماليزيا تبحثان سبل تعزيز التعاون الع...   \n",
              "9999  البحرين وبلغاريا تبحثان سبل تعزيز التعاون الثنائي   \n",
              "\n",
              "                                               briefing  \\\n",
              "0     منح مهرجان المركز الكاثوليكى الفنان الكبير يحي...   \n",
              "1     كرم مهرجان المركز الكاثوليكى للسينما في دورته ...   \n",
              "2     طوال أسبوع كامل وبحضور رفيع المستوى لنخبة صناع...   \n",
              "3     انطلق منذ قليل حفل افتتاح مهرجان المركز الكاثو...   \n",
              "4     تعرض قناة \"الوثائقية\" يوم الأحد المقبل 7 مايو ...   \n",
              "...                                                 ...   \n",
              "9995  نفت أوكرانيا مسؤوليتها عن تحطم العديد من الطائ...   \n",
              "9996  أعلنت الحكومة البريطانية اليوم الأربعاء، عن تق...   \n",
              "9997  بحث وزير الدفاع السعودي الأمير خالد بن سلمان ب...   \n",
              "9998  بحث وزير الدولة لشئون الدفاع الإماراتي محمد بن...   \n",
              "9999  بحث وزير الخارجية البحريني الدكتور عبداللطيف ب...   \n",
              "\n",
              "                                                   body     category  \n",
              "0     منح مهرجان المركز الكاثوليكى الفنان الكبير يحي...  ثقافة وفنون  \n",
              "1     كرم مهرجان المركز الكاثوليكى للسينما في دورته ...  ثقافة وفنون  \n",
              "2     طوال أسبوع كامل وبحضور رفيع المستوى لنخبة صناع...  ثقافة وفنون  \n",
              "3     انطلق منذ قليل حفل افتتاح مهرجان المركز الكاثو...  ثقافة وفنون  \n",
              "4     تعرض قناة \"الوثائقية\" يوم الأحد المقبل 7 مايو ...  ثقافة وفنون  \n",
              "...                                                 ...          ...  \n",
              "9995  نفت أوكرانيا مسؤوليتها عن تحطم العديد من الطائ...    عرب وعالم  \n",
              "9996  أعلنت الحكومة البريطانية اليوم الأربعاء، عن تق...    عرب وعالم  \n",
              "9997  بحث وزير الدفاع السعودي الأمير خالد بن سلمان ب...    عرب وعالم  \n",
              "9998  بحث وزير الدولة لشئون الدفاع الإماراتي محمد بن...    عرب وعالم  \n",
              "9999  بحث وزير الخارجية البحريني الدكتور عبداللطيف ب...    عرب وعالم  \n",
              "\n",
              "[60000 rows x 5 columns]"
            ],
            "text/html": [
              "\n",
              "  <div id=\"df-d707a288-a126-4e3d-a866-c7fec2213cba\">\n",
              "    <div class=\"colab-df-container\">\n",
              "      <div>\n",
              "<style scoped>\n",
              "    .dataframe tbody tr th:only-of-type {\n",
              "        vertical-align: middle;\n",
              "    }\n",
              "\n",
              "    .dataframe tbody tr th {\n",
              "        vertical-align: top;\n",
              "    }\n",
              "\n",
              "    .dataframe thead th {\n",
              "        text-align: right;\n",
              "    }\n",
              "</style>\n",
              "<table border=\"1\" class=\"dataframe\">\n",
              "  <thead>\n",
              "    <tr style=\"text-align: right;\">\n",
              "      <th></th>\n",
              "      <th>hrefs</th>\n",
              "      <th>headline</th>\n",
              "      <th>briefing</th>\n",
              "      <th>body</th>\n",
              "      <th>category</th>\n",
              "    </tr>\n",
              "  </thead>\n",
              "  <tbody>\n",
              "    <tr>\n",
              "      <th>0</th>\n",
              "      <td>https://gate.ahram.org.eg/News/4273094.aspx</td>\n",
              "      <td>مهرجان المركز الكاثوليكي يمنح الفنان يحيى الفخ...</td>\n",
              "      <td>منح مهرجان المركز الكاثوليكى الفنان الكبير يحي...</td>\n",
              "      <td>منح مهرجان المركز الكاثوليكى الفنان الكبير يحي...</td>\n",
              "      <td>ثقافة وفنون</td>\n",
              "    </tr>\n",
              "    <tr>\n",
              "      <th>1</th>\n",
              "      <td>https://gate.ahram.org.eg/News/4273085.aspx</td>\n",
              "      <td>تكريم الفنان محمود حميدة عن مشواره الفني في اف...</td>\n",
              "      <td>كرم مهرجان المركز الكاثوليكى للسينما في دورته ...</td>\n",
              "      <td>كرم مهرجان المركز الكاثوليكى للسينما في دورته ...</td>\n",
              "      <td>ثقافة وفنون</td>\n",
              "    </tr>\n",
              "    <tr>\n",
              "      <th>2</th>\n",
              "      <td>https://gate.ahram.org.eg/News/4273066.aspx</td>\n",
              "      <td>فعاليات ناجحة وعروض استثنائية في النسخة الرابع...</td>\n",
              "      <td>طوال أسبوع كامل وبحضور رفيع المستوى لنخبة صناع...</td>\n",
              "      <td>طوال أسبوع كامل وبحضور رفيع المستوى لنخبة صناع...</td>\n",
              "      <td>ثقافة وفنون</td>\n",
              "    </tr>\n",
              "    <tr>\n",
              "      <th>3</th>\n",
              "      <td>https://gate.ahram.org.eg/News/4273075.aspx</td>\n",
              "      <td>يحيى الفخراني ومحمود حميدة أبرز الحاضرين.. انط...</td>\n",
              "      <td>انطلق منذ قليل حفل افتتاح مهرجان المركز الكاثو...</td>\n",
              "      <td>انطلق منذ قليل حفل افتتاح مهرجان المركز الكاثو...</td>\n",
              "      <td>ثقافة وفنون</td>\n",
              "    </tr>\n",
              "    <tr>\n",
              "      <th>4</th>\n",
              "      <td>https://gate.ahram.org.eg/News/4273023.aspx</td>\n",
              "      <td>موعد عرض الفيلم الوثائقي \"يوسف إدريس\" على شاشة...</td>\n",
              "      <td>تعرض قناة \"الوثائقية\" يوم الأحد المقبل 7 مايو ...</td>\n",
              "      <td>تعرض قناة \"الوثائقية\" يوم الأحد المقبل 7 مايو ...</td>\n",
              "      <td>ثقافة وفنون</td>\n",
              "    </tr>\n",
              "    <tr>\n",
              "      <th>...</th>\n",
              "      <td>...</td>\n",
              "      <td>...</td>\n",
              "      <td>...</td>\n",
              "      <td>...</td>\n",
              "      <td>...</td>\n",
              "    </tr>\n",
              "    <tr>\n",
              "      <th>9995</th>\n",
              "      <td>https://gate.ahram.org.eg/News/4162610.aspx</td>\n",
              "      <td>أوكرانيا تنفي مسئوليتها عن تحطم طائرات مسيرة ف...</td>\n",
              "      <td>نفت أوكرانيا مسؤوليتها عن تحطم العديد من الطائ...</td>\n",
              "      <td>نفت أوكرانيا مسؤوليتها عن تحطم العديد من الطائ...</td>\n",
              "      <td>عرب وعالم</td>\n",
              "    </tr>\n",
              "    <tr>\n",
              "      <th>9996</th>\n",
              "      <td>https://gate.ahram.org.eg/News/4162598.aspx</td>\n",
              "      <td>بريطانيا تقدم دعما لمساعدة مواطني هونج كونج لل...</td>\n",
              "      <td>أعلنت الحكومة البريطانية اليوم الأربعاء، عن تق...</td>\n",
              "      <td>أعلنت الحكومة البريطانية اليوم الأربعاء، عن تق...</td>\n",
              "      <td>عرب وعالم</td>\n",
              "    </tr>\n",
              "    <tr>\n",
              "      <th>9997</th>\n",
              "      <td>https://gate.ahram.org.eg/News/4162596.aspx</td>\n",
              "      <td>السعودية وبريطانيا توقعان إعلان نوايا بشأن مشا...</td>\n",
              "      <td>بحث وزير الدفاع السعودي الأمير خالد بن سلمان ب...</td>\n",
              "      <td>بحث وزير الدفاع السعودي الأمير خالد بن سلمان ب...</td>\n",
              "      <td>عرب وعالم</td>\n",
              "    </tr>\n",
              "    <tr>\n",
              "      <th>9998</th>\n",
              "      <td>https://gate.ahram.org.eg/News/4162607.aspx</td>\n",
              "      <td>الإمارات وماليزيا تبحثان سبل تعزيز التعاون الع...</td>\n",
              "      <td>بحث وزير الدولة لشئون الدفاع الإماراتي محمد بن...</td>\n",
              "      <td>بحث وزير الدولة لشئون الدفاع الإماراتي محمد بن...</td>\n",
              "      <td>عرب وعالم</td>\n",
              "    </tr>\n",
              "    <tr>\n",
              "      <th>9999</th>\n",
              "      <td>https://gate.ahram.org.eg/News/4162549.aspx</td>\n",
              "      <td>البحرين وبلغاريا تبحثان سبل تعزيز التعاون الثنائي</td>\n",
              "      <td>بحث وزير الخارجية البحريني الدكتور عبداللطيف ب...</td>\n",
              "      <td>بحث وزير الخارجية البحريني الدكتور عبداللطيف ب...</td>\n",
              "      <td>عرب وعالم</td>\n",
              "    </tr>\n",
              "  </tbody>\n",
              "</table>\n",
              "<p>60000 rows × 5 columns</p>\n",
              "</div>\n",
              "      <button class=\"colab-df-convert\" onclick=\"convertToInteractive('df-d707a288-a126-4e3d-a866-c7fec2213cba')\"\n",
              "              title=\"Convert this dataframe to an interactive table.\"\n",
              "              style=\"display:none;\">\n",
              "        \n",
              "  <svg xmlns=\"http://www.w3.org/2000/svg\" height=\"24px\"viewBox=\"0 0 24 24\"\n",
              "       width=\"24px\">\n",
              "    <path d=\"M0 0h24v24H0V0z\" fill=\"none\"/>\n",
              "    <path d=\"M18.56 5.44l.94 2.06.94-2.06 2.06-.94-2.06-.94-.94-2.06-.94 2.06-2.06.94zm-11 1L8.5 8.5l.94-2.06 2.06-.94-2.06-.94L8.5 2.5l-.94 2.06-2.06.94zm10 10l.94 2.06.94-2.06 2.06-.94-2.06-.94-.94-2.06-.94 2.06-2.06.94z\"/><path d=\"M17.41 7.96l-1.37-1.37c-.4-.4-.92-.59-1.43-.59-.52 0-1.04.2-1.43.59L10.3 9.45l-7.72 7.72c-.78.78-.78 2.05 0 2.83L4 21.41c.39.39.9.59 1.41.59.51 0 1.02-.2 1.41-.59l7.78-7.78 2.81-2.81c.8-.78.8-2.07 0-2.86zM5.41 20L4 18.59l7.72-7.72 1.47 1.35L5.41 20z\"/>\n",
              "  </svg>\n",
              "      </button>\n",
              "      \n",
              "  <style>\n",
              "    .colab-df-container {\n",
              "      display:flex;\n",
              "      flex-wrap:wrap;\n",
              "      gap: 12px;\n",
              "    }\n",
              "\n",
              "    .colab-df-convert {\n",
              "      background-color: #E8F0FE;\n",
              "      border: none;\n",
              "      border-radius: 50%;\n",
              "      cursor: pointer;\n",
              "      display: none;\n",
              "      fill: #1967D2;\n",
              "      height: 32px;\n",
              "      padding: 0 0 0 0;\n",
              "      width: 32px;\n",
              "    }\n",
              "\n",
              "    .colab-df-convert:hover {\n",
              "      background-color: #E2EBFA;\n",
              "      box-shadow: 0px 1px 2px rgba(60, 64, 67, 0.3), 0px 1px 3px 1px rgba(60, 64, 67, 0.15);\n",
              "      fill: #174EA6;\n",
              "    }\n",
              "\n",
              "    [theme=dark] .colab-df-convert {\n",
              "      background-color: #3B4455;\n",
              "      fill: #D2E3FC;\n",
              "    }\n",
              "\n",
              "    [theme=dark] .colab-df-convert:hover {\n",
              "      background-color: #434B5C;\n",
              "      box-shadow: 0px 1px 3px 1px rgba(0, 0, 0, 0.15);\n",
              "      filter: drop-shadow(0px 1px 2px rgba(0, 0, 0, 0.3));\n",
              "      fill: #FFFFFF;\n",
              "    }\n",
              "  </style>\n",
              "\n",
              "      <script>\n",
              "        const buttonEl =\n",
              "          document.querySelector('#df-d707a288-a126-4e3d-a866-c7fec2213cba button.colab-df-convert');\n",
              "        buttonEl.style.display =\n",
              "          google.colab.kernel.accessAllowed ? 'block' : 'none';\n",
              "\n",
              "        async function convertToInteractive(key) {\n",
              "          const element = document.querySelector('#df-d707a288-a126-4e3d-a866-c7fec2213cba');\n",
              "          const dataTable =\n",
              "            await google.colab.kernel.invokeFunction('convertToInteractive',\n",
              "                                                     [key], {});\n",
              "          if (!dataTable) return;\n",
              "\n",
              "          const docLinkHtml = 'Like what you see? Visit the ' +\n",
              "            '<a target=\"_blank\" href=https://colab.research.google.com/notebooks/data_table.ipynb>data table notebook</a>'\n",
              "            + ' to learn more about interactive tables.';\n",
              "          element.innerHTML = '';\n",
              "          dataTable['output_type'] = 'display_data';\n",
              "          await google.colab.output.renderOutput(dataTable, element);\n",
              "          const docLink = document.createElement('div');\n",
              "          docLink.innerHTML = docLinkHtml;\n",
              "          element.appendChild(docLink);\n",
              "        }\n",
              "      </script>\n",
              "    </div>\n",
              "  </div>\n",
              "  "
            ]
          },
          "metadata": {},
          "execution_count": 225
        }
      ]
    },
    {
      "cell_type": "code",
      "source": [
        "df1.duplicated().sum()"
      ],
      "metadata": {
        "colab": {
          "base_uri": "https://localhost:8080/"
        },
        "id": "T5wcTwMkVuUR",
        "outputId": "58b4645c-b931-4fe2-96a6-cf3bff9d693d"
      },
      "execution_count": null,
      "outputs": [
        {
          "output_type": "execute_result",
          "data": {
            "text/plain": [
              "0"
            ]
          },
          "metadata": {},
          "execution_count": 226
        }
      ]
    },
    {
      "cell_type": "code",
      "source": [
        "df1.shape"
      ],
      "metadata": {
        "colab": {
          "base_uri": "https://localhost:8080/"
        },
        "id": "5CTUxzaVW1vv",
        "outputId": "582b7174-0040-41e5-fac0-239008216e41"
      },
      "execution_count": null,
      "outputs": [
        {
          "output_type": "execute_result",
          "data": {
            "text/plain": [
              "(60000, 5)"
            ]
          },
          "metadata": {},
          "execution_count": 227
        }
      ]
    },
    {
      "cell_type": "code",
      "source": [
        "df1.category.value_counts()"
      ],
      "metadata": {
        "colab": {
          "base_uri": "https://localhost:8080/"
        },
        "id": "auEnq6XQXGC3",
        "outputId": "de9d7164-162e-417a-c872-bb68a0689b3f"
      },
      "execution_count": null,
      "outputs": [
        {
          "output_type": "execute_result",
          "data": {
            "text/plain": [
              "ثقافة وفنون    10000\n",
              "حـوادث         10000\n",
              "اقتصاد         10000\n",
              "محافظات        10000\n",
              "رياضة          10000\n",
              "عرب وعالم      10000\n",
              "Name: category, dtype: int64"
            ]
          },
          "metadata": {},
          "execution_count": 228
        }
      ]
    },
    {
      "cell_type": "code",
      "source": [],
      "metadata": {
        "id": "pPBVSgtrXPDO"
      },
      "execution_count": null,
      "outputs": []
    }
  ]
}