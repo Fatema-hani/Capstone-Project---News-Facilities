{
  "nbformat": 4,
  "nbformat_minor": 0,
  "metadata": {
    "colab": {
      "provenance": []
    },
    "kernelspec": {
      "name": "python3",
      "display_name": "Python 3"
    },
    "language_info": {
      "name": "python"
    }
  },
  "cells": [
    {
      "cell_type": "code",
      "execution_count": null,
      "metadata": {
        "id": "W3lwNel1tBwg"
      },
      "outputs": [],
      "source": [
        "import pandas as pd"
      ]
    },
    {
      "cell_type": "code",
      "source": [
        "df = pd.read_csv('/content/drive/MyDrive/NTI4M_FP/final_data_yarab_b2a')\n",
        "df.head(10)"
      ],
      "metadata": {
        "colab": {
          "base_uri": "https://localhost:8080/",
          "height": 363
        },
        "id": "I-mU7lh4tEUQ",
        "outputId": "0897792e-9cf6-4ae2-8a1c-e4f261394e80"
      },
      "execution_count": null,
      "outputs": [
        {
          "output_type": "execute_result",
          "data": {
            "text/plain": [
              "                                         hrefs  \\\n",
              "0  https://gate.ahram.org.eg/News/4272955.aspx   \n",
              "1  https://gate.ahram.org.eg/News/4272956.aspx   \n",
              "2  https://gate.ahram.org.eg/News/4272936.aspx   \n",
              "3  https://gate.ahram.org.eg/News/4272934.aspx   \n",
              "4  https://gate.ahram.org.eg/News/4272941.aspx   \n",
              "5  https://gate.ahram.org.eg/News/4272940.aspx   \n",
              "6  https://gate.ahram.org.eg/News/4272939.aspx   \n",
              "7  https://gate.ahram.org.eg/News/4272933.aspx   \n",
              "8  https://gate.ahram.org.eg/News/4272938.aspx   \n",
              "9  https://gate.ahram.org.eg/News/4272937.aspx   \n",
              "\n",
              "                                            headline  \\\n",
              "0  محافظ الغربية يتابع الاستعدادات النهائية لامتح...   \n",
              "1  \"الشباب والرياضة\" بالأقصر تنفذ ندوات عن التوعي...   \n",
              "2  متابعة عمل الوحدات الصحية والمراكز الطبية في 7...   \n",
              "3  اعتماد ملعب مركز شباب الصلعا كأول ملعب لـ«المي...   \n",
              "4  إخماد حريق فى أرض مزروعة بالقمح في مركز الحامو...   \n",
              "5  الكشف على 1445 مريضًا فى قافلة طبية بقرية النا...   \n",
              "6  إقامة صلاة الغائب على أرواح الأبرياء ضحايا حاد...   \n",
              "7  تنظيم قافلة سكانية في قرية البسلقون في محافظة ...   \n",
              "8           إزالة حالتي بناء مخالف في مركز طما | صور   \n",
              "9  محافظ الشرقية يتابع الالتزام بالتعريفة في مواق...   \n",
              "\n",
              "                                            briefing  \\\n",
              "0  التقى الدكتور طارق رحمي محافظ الغربية، بالمهند...   \n",
              "1  نفذت إدارة تنمية الشباب بمديرية الشباب والرياض...   \n",
              "2  قامت إدارة المتابعة بمديرية الشئون الصحية بمحا...   \n",
              "3  قام أحمد سمير، رئيس الاتحاد المصرى للميني فوتب...   \n",
              "4  تمكنت قوات الحماية المدنية بمركز الحامول فى كف...   \n",
              "5  نظمت مديرية الصحة فى البحيرة، قافلة طبية بقرية...   \n",
              "6  أدى جموع المصليين في الوادى الجديد عقب أداء صل...   \n",
              "7  نظمت وحدة السكان فى محافظة البحيرة، قافلة سكان...   \n",
              "8  نفذت الوحدة المحلية لمركز ومدينة طما بسوهاج ، ...   \n",
              "9  تابع الدكتور ممدوح غراب محافظ الشرقية، سير الع...   \n",
              "\n",
              "                                                body category  \n",
              "0  Dr. Tariq Rahmi, Governor of Gharbia, met with...  محافظات  \n",
              "1  The Department of Youth Development at the Dir...  محافظات  \n",
              "2  Today, Friday, the Follow-up Department of the...  محافظات  \n",
              "3  Ahmed Samir, President of the Egyptian Federat...  محافظات  \n",
              "4  The Civil Protection Forces at Al-Hamoul Cente...  محافظات  \n",
              "5  The Directorate of Health in Buhaira organized...  محافظات  \n",
              "6  The crowds of worshipers in the New Valley, af...  محافظات  \n",
              "7  The Population Unit in Al-Buhaira Governorate ...  محافظات  \n",
              "8  The local unit of the center and city of Tama ...  محافظات  \n",
              "9  Dr. Mamdouh Ghorab, Governor of Sharkia, follo...  محافظات  "
            ],
            "text/html": [
              "\n",
              "  <div id=\"df-218a619a-c1ac-4d07-bc16-33ea72b6ddf9\">\n",
              "    <div class=\"colab-df-container\">\n",
              "      <div>\n",
              "<style scoped>\n",
              "    .dataframe tbody tr th:only-of-type {\n",
              "        vertical-align: middle;\n",
              "    }\n",
              "\n",
              "    .dataframe tbody tr th {\n",
              "        vertical-align: top;\n",
              "    }\n",
              "\n",
              "    .dataframe thead th {\n",
              "        text-align: right;\n",
              "    }\n",
              "</style>\n",
              "<table border=\"1\" class=\"dataframe\">\n",
              "  <thead>\n",
              "    <tr style=\"text-align: right;\">\n",
              "      <th></th>\n",
              "      <th>hrefs</th>\n",
              "      <th>headline</th>\n",
              "      <th>briefing</th>\n",
              "      <th>body</th>\n",
              "      <th>category</th>\n",
              "    </tr>\n",
              "  </thead>\n",
              "  <tbody>\n",
              "    <tr>\n",
              "      <th>0</th>\n",
              "      <td>https://gate.ahram.org.eg/News/4272955.aspx</td>\n",
              "      <td>محافظ الغربية يتابع الاستعدادات النهائية لامتح...</td>\n",
              "      <td>التقى الدكتور طارق رحمي محافظ الغربية، بالمهند...</td>\n",
              "      <td>Dr. Tariq Rahmi, Governor of Gharbia, met with...</td>\n",
              "      <td>محافظات</td>\n",
              "    </tr>\n",
              "    <tr>\n",
              "      <th>1</th>\n",
              "      <td>https://gate.ahram.org.eg/News/4272956.aspx</td>\n",
              "      <td>\"الشباب والرياضة\" بالأقصر تنفذ ندوات عن التوعي...</td>\n",
              "      <td>نفذت إدارة تنمية الشباب بمديرية الشباب والرياض...</td>\n",
              "      <td>The Department of Youth Development at the Dir...</td>\n",
              "      <td>محافظات</td>\n",
              "    </tr>\n",
              "    <tr>\n",
              "      <th>2</th>\n",
              "      <td>https://gate.ahram.org.eg/News/4272936.aspx</td>\n",
              "      <td>متابعة عمل الوحدات الصحية والمراكز الطبية في 7...</td>\n",
              "      <td>قامت إدارة المتابعة بمديرية الشئون الصحية بمحا...</td>\n",
              "      <td>Today, Friday, the Follow-up Department of the...</td>\n",
              "      <td>محافظات</td>\n",
              "    </tr>\n",
              "    <tr>\n",
              "      <th>3</th>\n",
              "      <td>https://gate.ahram.org.eg/News/4272934.aspx</td>\n",
              "      <td>اعتماد ملعب مركز شباب الصلعا كأول ملعب لـ«المي...</td>\n",
              "      <td>قام أحمد سمير، رئيس الاتحاد المصرى للميني فوتب...</td>\n",
              "      <td>Ahmed Samir, President of the Egyptian Federat...</td>\n",
              "      <td>محافظات</td>\n",
              "    </tr>\n",
              "    <tr>\n",
              "      <th>4</th>\n",
              "      <td>https://gate.ahram.org.eg/News/4272941.aspx</td>\n",
              "      <td>إخماد حريق فى أرض مزروعة بالقمح في مركز الحامو...</td>\n",
              "      <td>تمكنت قوات الحماية المدنية بمركز الحامول فى كف...</td>\n",
              "      <td>The Civil Protection Forces at Al-Hamoul Cente...</td>\n",
              "      <td>محافظات</td>\n",
              "    </tr>\n",
              "    <tr>\n",
              "      <th>5</th>\n",
              "      <td>https://gate.ahram.org.eg/News/4272940.aspx</td>\n",
              "      <td>الكشف على 1445 مريضًا فى قافلة طبية بقرية النا...</td>\n",
              "      <td>نظمت مديرية الصحة فى البحيرة، قافلة طبية بقرية...</td>\n",
              "      <td>The Directorate of Health in Buhaira organized...</td>\n",
              "      <td>محافظات</td>\n",
              "    </tr>\n",
              "    <tr>\n",
              "      <th>6</th>\n",
              "      <td>https://gate.ahram.org.eg/News/4272939.aspx</td>\n",
              "      <td>إقامة صلاة الغائب على أرواح الأبرياء ضحايا حاد...</td>\n",
              "      <td>أدى جموع المصليين في الوادى الجديد عقب أداء صل...</td>\n",
              "      <td>The crowds of worshipers in the New Valley, af...</td>\n",
              "      <td>محافظات</td>\n",
              "    </tr>\n",
              "    <tr>\n",
              "      <th>7</th>\n",
              "      <td>https://gate.ahram.org.eg/News/4272933.aspx</td>\n",
              "      <td>تنظيم قافلة سكانية في قرية البسلقون في محافظة ...</td>\n",
              "      <td>نظمت وحدة السكان فى محافظة البحيرة، قافلة سكان...</td>\n",
              "      <td>The Population Unit in Al-Buhaira Governorate ...</td>\n",
              "      <td>محافظات</td>\n",
              "    </tr>\n",
              "    <tr>\n",
              "      <th>8</th>\n",
              "      <td>https://gate.ahram.org.eg/News/4272938.aspx</td>\n",
              "      <td>إزالة حالتي بناء مخالف في مركز طما | صور</td>\n",
              "      <td>نفذت الوحدة المحلية لمركز ومدينة طما بسوهاج ، ...</td>\n",
              "      <td>The local unit of the center and city of Tama ...</td>\n",
              "      <td>محافظات</td>\n",
              "    </tr>\n",
              "    <tr>\n",
              "      <th>9</th>\n",
              "      <td>https://gate.ahram.org.eg/News/4272937.aspx</td>\n",
              "      <td>محافظ الشرقية يتابع الالتزام بالتعريفة في مواق...</td>\n",
              "      <td>تابع الدكتور ممدوح غراب محافظ الشرقية، سير الع...</td>\n",
              "      <td>Dr. Mamdouh Ghorab, Governor of Sharkia, follo...</td>\n",
              "      <td>محافظات</td>\n",
              "    </tr>\n",
              "  </tbody>\n",
              "</table>\n",
              "</div>\n",
              "      <button class=\"colab-df-convert\" onclick=\"convertToInteractive('df-218a619a-c1ac-4d07-bc16-33ea72b6ddf9')\"\n",
              "              title=\"Convert this dataframe to an interactive table.\"\n",
              "              style=\"display:none;\">\n",
              "        \n",
              "  <svg xmlns=\"http://www.w3.org/2000/svg\" height=\"24px\"viewBox=\"0 0 24 24\"\n",
              "       width=\"24px\">\n",
              "    <path d=\"M0 0h24v24H0V0z\" fill=\"none\"/>\n",
              "    <path d=\"M18.56 5.44l.94 2.06.94-2.06 2.06-.94-2.06-.94-.94-2.06-.94 2.06-2.06.94zm-11 1L8.5 8.5l.94-2.06 2.06-.94-2.06-.94L8.5 2.5l-.94 2.06-2.06.94zm10 10l.94 2.06.94-2.06 2.06-.94-2.06-.94-.94-2.06-.94 2.06-2.06.94z\"/><path d=\"M17.41 7.96l-1.37-1.37c-.4-.4-.92-.59-1.43-.59-.52 0-1.04.2-1.43.59L10.3 9.45l-7.72 7.72c-.78.78-.78 2.05 0 2.83L4 21.41c.39.39.9.59 1.41.59.51 0 1.02-.2 1.41-.59l7.78-7.78 2.81-2.81c.8-.78.8-2.07 0-2.86zM5.41 20L4 18.59l7.72-7.72 1.47 1.35L5.41 20z\"/>\n",
              "  </svg>\n",
              "      </button>\n",
              "      \n",
              "  <style>\n",
              "    .colab-df-container {\n",
              "      display:flex;\n",
              "      flex-wrap:wrap;\n",
              "      gap: 12px;\n",
              "    }\n",
              "\n",
              "    .colab-df-convert {\n",
              "      background-color: #E8F0FE;\n",
              "      border: none;\n",
              "      border-radius: 50%;\n",
              "      cursor: pointer;\n",
              "      display: none;\n",
              "      fill: #1967D2;\n",
              "      height: 32px;\n",
              "      padding: 0 0 0 0;\n",
              "      width: 32px;\n",
              "    }\n",
              "\n",
              "    .colab-df-convert:hover {\n",
              "      background-color: #E2EBFA;\n",
              "      box-shadow: 0px 1px 2px rgba(60, 64, 67, 0.3), 0px 1px 3px 1px rgba(60, 64, 67, 0.15);\n",
              "      fill: #174EA6;\n",
              "    }\n",
              "\n",
              "    [theme=dark] .colab-df-convert {\n",
              "      background-color: #3B4455;\n",
              "      fill: #D2E3FC;\n",
              "    }\n",
              "\n",
              "    [theme=dark] .colab-df-convert:hover {\n",
              "      background-color: #434B5C;\n",
              "      box-shadow: 0px 1px 3px 1px rgba(0, 0, 0, 0.15);\n",
              "      filter: drop-shadow(0px 1px 2px rgba(0, 0, 0, 0.3));\n",
              "      fill: #FFFFFF;\n",
              "    }\n",
              "  </style>\n",
              "\n",
              "      <script>\n",
              "        const buttonEl =\n",
              "          document.querySelector('#df-218a619a-c1ac-4d07-bc16-33ea72b6ddf9 button.colab-df-convert');\n",
              "        buttonEl.style.display =\n",
              "          google.colab.kernel.accessAllowed ? 'block' : 'none';\n",
              "\n",
              "        async function convertToInteractive(key) {\n",
              "          const element = document.querySelector('#df-218a619a-c1ac-4d07-bc16-33ea72b6ddf9');\n",
              "          const dataTable =\n",
              "            await google.colab.kernel.invokeFunction('convertToInteractive',\n",
              "                                                     [key], {});\n",
              "          if (!dataTable) return;\n",
              "\n",
              "          const docLinkHtml = 'Like what you see? Visit the ' +\n",
              "            '<a target=\"_blank\" href=https://colab.research.google.com/notebooks/data_table.ipynb>data table notebook</a>'\n",
              "            + ' to learn more about interactive tables.';\n",
              "          element.innerHTML = '';\n",
              "          dataTable['output_type'] = 'display_data';\n",
              "          await google.colab.output.renderOutput(dataTable, element);\n",
              "          const docLink = document.createElement('div');\n",
              "          docLink.innerHTML = docLinkHtml;\n",
              "          element.appendChild(docLink);\n",
              "        }\n",
              "      </script>\n",
              "    </div>\n",
              "  </div>\n",
              "  "
            ]
          },
          "metadata": {},
          "execution_count": 2
        }
      ]
    },
    {
      "cell_type": "code",
      "source": [
        "from sklearn.feature_extraction.text import CountVectorizer\n",
        "# cv = CountVectorizer()\n",
        "cv = CountVectorizer(max_df=0.95, min_df=2, stop_words='english')\n",
        "dtm1 = cv.fit_transform(df['body'])"
      ],
      "metadata": {
        "id": "TT9GjeBgv1t9"
      },
      "execution_count": null,
      "outputs": []
    },
    {
      "cell_type": "code",
      "source": [
        "len(cv.get_feature_names_out())"
      ],
      "metadata": {
        "colab": {
          "base_uri": "https://localhost:8080/"
        },
        "id": "Ww-QmZtMZNrC",
        "outputId": "49c532ef-4bf3-4798-be76-e490bfcaa639"
      },
      "execution_count": null,
      "outputs": [
        {
          "output_type": "execute_result",
          "data": {
            "text/plain": [
              "27131"
            ]
          },
          "metadata": {},
          "execution_count": 13
        }
      ]
    },
    {
      "cell_type": "code",
      "source": [
        "import random\n",
        "for i in range(10):\n",
        "    random_word_id = random.randint(0,27131)\n",
        "    print(cv.get_feature_names_out()[random_word_id])"
      ],
      "metadata": {
        "colab": {
          "base_uri": "https://localhost:8080/"
        },
        "id": "VyDsbV5xcjGw",
        "outputId": "5d240588-031d-4024-cdfd-78457c7549c1"
      },
      "execution_count": null,
      "outputs": [
        {
          "output_type": "stream",
          "name": "stdout",
          "text": [
            "storming\n",
            "smashed\n",
            "315\n",
            "musafir\n",
            "maxillofacial\n",
            "shamelessly\n",
            "affiliation\n",
            "baalbek\n",
            "availability\n",
            "tuta\n"
          ]
        }
      ]
    },
    {
      "cell_type": "code",
      "source": [
        "from sklearn.decomposition import LatentDirichletAllocation\n",
        "LDA = LatentDirichletAllocation(random_state=42)\n",
        "LDA.fit(dtm1)"
      ],
      "metadata": {
        "colab": {
          "base_uri": "https://localhost:8080/",
          "height": 74
        },
        "id": "kWupkw35vyyM",
        "outputId": "e9b48607-3668-4b37-9fbb-22b271f3dde7"
      },
      "execution_count": null,
      "outputs": [
        {
          "output_type": "execute_result",
          "data": {
            "text/plain": [
              "LatentDirichletAllocation(random_state=42)"
            ],
            "text/html": [
              "<style>#sk-container-id-1 {color: black;background-color: white;}#sk-container-id-1 pre{padding: 0;}#sk-container-id-1 div.sk-toggleable {background-color: white;}#sk-container-id-1 label.sk-toggleable__label {cursor: pointer;display: block;width: 100%;margin-bottom: 0;padding: 0.3em;box-sizing: border-box;text-align: center;}#sk-container-id-1 label.sk-toggleable__label-arrow:before {content: \"▸\";float: left;margin-right: 0.25em;color: #696969;}#sk-container-id-1 label.sk-toggleable__label-arrow:hover:before {color: black;}#sk-container-id-1 div.sk-estimator:hover label.sk-toggleable__label-arrow:before {color: black;}#sk-container-id-1 div.sk-toggleable__content {max-height: 0;max-width: 0;overflow: hidden;text-align: left;background-color: #f0f8ff;}#sk-container-id-1 div.sk-toggleable__content pre {margin: 0.2em;color: black;border-radius: 0.25em;background-color: #f0f8ff;}#sk-container-id-1 input.sk-toggleable__control:checked~div.sk-toggleable__content {max-height: 200px;max-width: 100%;overflow: auto;}#sk-container-id-1 input.sk-toggleable__control:checked~label.sk-toggleable__label-arrow:before {content: \"▾\";}#sk-container-id-1 div.sk-estimator input.sk-toggleable__control:checked~label.sk-toggleable__label {background-color: #d4ebff;}#sk-container-id-1 div.sk-label input.sk-toggleable__control:checked~label.sk-toggleable__label {background-color: #d4ebff;}#sk-container-id-1 input.sk-hidden--visually {border: 0;clip: rect(1px 1px 1px 1px);clip: rect(1px, 1px, 1px, 1px);height: 1px;margin: -1px;overflow: hidden;padding: 0;position: absolute;width: 1px;}#sk-container-id-1 div.sk-estimator {font-family: monospace;background-color: #f0f8ff;border: 1px dotted black;border-radius: 0.25em;box-sizing: border-box;margin-bottom: 0.5em;}#sk-container-id-1 div.sk-estimator:hover {background-color: #d4ebff;}#sk-container-id-1 div.sk-parallel-item::after {content: \"\";width: 100%;border-bottom: 1px solid gray;flex-grow: 1;}#sk-container-id-1 div.sk-label:hover label.sk-toggleable__label {background-color: #d4ebff;}#sk-container-id-1 div.sk-serial::before {content: \"\";position: absolute;border-left: 1px solid gray;box-sizing: border-box;top: 0;bottom: 0;left: 50%;z-index: 0;}#sk-container-id-1 div.sk-serial {display: flex;flex-direction: column;align-items: center;background-color: white;padding-right: 0.2em;padding-left: 0.2em;position: relative;}#sk-container-id-1 div.sk-item {position: relative;z-index: 1;}#sk-container-id-1 div.sk-parallel {display: flex;align-items: stretch;justify-content: center;background-color: white;position: relative;}#sk-container-id-1 div.sk-item::before, #sk-container-id-1 div.sk-parallel-item::before {content: \"\";position: absolute;border-left: 1px solid gray;box-sizing: border-box;top: 0;bottom: 0;left: 50%;z-index: -1;}#sk-container-id-1 div.sk-parallel-item {display: flex;flex-direction: column;z-index: 1;position: relative;background-color: white;}#sk-container-id-1 div.sk-parallel-item:first-child::after {align-self: flex-end;width: 50%;}#sk-container-id-1 div.sk-parallel-item:last-child::after {align-self: flex-start;width: 50%;}#sk-container-id-1 div.sk-parallel-item:only-child::after {width: 0;}#sk-container-id-1 div.sk-dashed-wrapped {border: 1px dashed gray;margin: 0 0.4em 0.5em 0.4em;box-sizing: border-box;padding-bottom: 0.4em;background-color: white;}#sk-container-id-1 div.sk-label label {font-family: monospace;font-weight: bold;display: inline-block;line-height: 1.2em;}#sk-container-id-1 div.sk-label-container {text-align: center;}#sk-container-id-1 div.sk-container {/* jupyter's `normalize.less` sets `[hidden] { display: none; }` but bootstrap.min.css set `[hidden] { display: none !important; }` so we also need the `!important` here to be able to override the default hidden behavior on the sphinx rendered scikit-learn.org. See: https://github.com/scikit-learn/scikit-learn/issues/21755 */display: inline-block !important;position: relative;}#sk-container-id-1 div.sk-text-repr-fallback {display: none;}</style><div id=\"sk-container-id-1\" class=\"sk-top-container\"><div class=\"sk-text-repr-fallback\"><pre>LatentDirichletAllocation(random_state=42)</pre><b>In a Jupyter environment, please rerun this cell to show the HTML representation or trust the notebook. <br />On GitHub, the HTML representation is unable to render, please try loading this page with nbviewer.org.</b></div><div class=\"sk-container\" hidden><div class=\"sk-item\"><div class=\"sk-estimator sk-toggleable\"><input class=\"sk-toggleable__control sk-hidden--visually\" id=\"sk-estimator-id-1\" type=\"checkbox\" checked><label for=\"sk-estimator-id-1\" class=\"sk-toggleable__label sk-toggleable__label-arrow\">LatentDirichletAllocation</label><div class=\"sk-toggleable__content\"><pre>LatentDirichletAllocation(random_state=42)</pre></div></div></div></div></div>"
            ]
          },
          "metadata": {},
          "execution_count": 17
        }
      ]
    },
    {
      "cell_type": "code",
      "source": [
        "len(LDA.components_)"
      ],
      "metadata": {
        "colab": {
          "base_uri": "https://localhost:8080/"
        },
        "id": "hqXn7kkRwVTl",
        "outputId": "9c715aaf-3610-4dbf-9689-d6bfc97fdc68"
      },
      "execution_count": null,
      "outputs": [
        {
          "output_type": "execute_result",
          "data": {
            "text/plain": [
              "10"
            ]
          },
          "metadata": {},
          "execution_count": 18
        }
      ]
    },
    {
      "cell_type": "code",
      "source": [
        "LDA.components_"
      ],
      "metadata": {
        "colab": {
          "base_uri": "https://localhost:8080/"
        },
        "id": "RHxZuMwKwcjD",
        "outputId": "75d6fedf-4773-44df-9d17-3666b0e7649f"
      },
      "execution_count": null,
      "outputs": [
        {
          "output_type": "execute_result",
          "data": {
            "text/plain": [
              "array([[7.36080413e+01, 1.88808260e+00, 1.00691154e-01, ...,\n",
              "        2.70999585e+01, 1.00000001e-01, 1.00089853e-01],\n",
              "       [1.00491409e+03, 6.42346171e+00, 1.00000000e-01, ...,\n",
              "        1.00000000e-01, 1.00000000e-01, 1.00000000e-01],\n",
              "       [1.00004907e-01, 1.44823408e+00, 1.00000000e-01, ...,\n",
              "        1.00028957e-01, 1.00000001e-01, 1.00002494e-01],\n",
              "       ...,\n",
              "       [1.00009190e-01, 1.03999136e+02, 1.00000000e-01, ...,\n",
              "        1.00000000e-01, 2.09917594e+00, 1.00000000e-01],\n",
              "       [1.01183195e-01, 2.58825148e+02, 1.00000000e-01, ...,\n",
              "        1.00000029e-01, 1.00000001e-01, 1.00000000e-01],\n",
              "       [1.25764363e+01, 5.60702767e+02, 1.00000000e-01, ...,\n",
              "        1.00012506e-01, 1.00000001e-01, 2.09990765e+00]])"
            ]
          },
          "metadata": {},
          "execution_count": 19
        }
      ]
    },
    {
      "cell_type": "code",
      "source": [
        "len(LDA.components_) , len(LDA.components_[0])"
      ],
      "metadata": {
        "colab": {
          "base_uri": "https://localhost:8080/"
        },
        "id": "e5NX0JKjwggE",
        "outputId": "4beaf4b5-341f-4b1e-fe95-f2ce6dd8b138"
      },
      "execution_count": null,
      "outputs": [
        {
          "output_type": "execute_result",
          "data": {
            "text/plain": [
              "(10, 27131)"
            ]
          },
          "metadata": {},
          "execution_count": 20
        }
      ]
    },
    {
      "cell_type": "code",
      "source": [
        "for index,topic in enumerate(LDA.components_):\n",
        "    print(f'THE TOP 15 WORDS FOR TOPIC #{index}')\n",
        "    print([cv.get_feature_names_out()[i] for i in topic.argsort()[-15:]])\n",
        "    print('\\n')"
      ],
      "metadata": {
        "colab": {
          "base_uri": "https://localhost:8080/"
        },
        "id": "R7LLNOygdFBW",
        "outputId": "1823ea57-9afd-4f75-a80c-9d3c960c79f6"
      },
      "execution_count": null,
      "outputs": [
        {
          "output_type": "stream",
          "name": "stdout",
          "text": [
            "THE TOP 15 WORDS FOR TOPIC #0\n",
            "['stadium', 'matches', 'minute', 'goals', 'scored', 'goal', 'round', 'ahly', 'place', 'second', 'team', 'league', 'match', 'points', 'al']\n",
            "\n",
            "\n",
            "THE TOP 15 WORDS FOR TOPIC #1\n",
            "['el', 'god', 'air', 'work', 'departure', 'train', 'cairo', 'muhammad', 'ramadan', 'abdel', 'artist', 'time', 'ahmed', 'series', 'al']\n",
            "\n",
            "\n",
            "THE TOP 15 WORDS FOR TOPIC #2\n",
            "['contract', 'added', 'football', 'match', 'players', 'barcelona', 'madrid', 'real', 'coach', 'player', 'said', 'league', 'season', 'club', 'team']\n",
            "\n",
            "\n",
            "THE TOP 15 WORDS FOR TOPIC #3\n",
            "['abdel', 'eid', 'university', 'work', 'city', 'head', 'governor', 'youth', 'director', 'el', 'center', 'governorate', 'general', 'dr', 'al']\n",
            "\n",
            "\n",
            "THE TOP 15 WORDS FOR TOPIC #4\n",
            "['states', 'security', 'ukrainian', 'statement', 'united', 'military', 'people', 'president', 'russia', 'according', 'ukraine', 'today', 'forces', 'said', 'russian']\n",
            "\n",
            "\n",
            "THE TOP 15 WORDS FOR TOPIC #5\n",
            "['meeting', 'al', 'state', 'support', 'dr', 'ministry', 'countries', 'cooperation', 'national', 'international', 'president', 'development', 'egypt', 'minister', 'egyptian']\n",
            "\n",
            "\n",
            "THE TOP 15 WORDS FOR TOPIC #6\n",
            "['firearms', 'republic', 'ministry', 'hours', 'continuing', 'directorates', 'taken', 'cases', 'measures', 'legal', 'ton', 'control', 'campaigns', 'various', 'security']\n",
            "\n",
            "\n",
            "THE TOP 15 WORDS FOR TOPIC #7\n",
            "['karat', 'investigations', 'citizens', 'directorate', 'campaigns', 'legal', 'measures', 'prosecution', 'police', 'al', 'public', 'security', 'department', 'traffic', 'gold']\n",
            "\n",
            "\n",
            "THE TOP 15 WORDS FOR TOPIC #8\n",
            "['wheat', 'sudan', 'medical', 'egypt', 'prices', 'recorded', '30', 'health', 'purchase', 'sale', 'reached', 'bank', 'today', 'price', 'pounds']\n",
            "\n",
            "\n",
            "THE TOP 15 WORDS FOR TOPIC #9\n",
            "['thousand', 'month', 'meat', 'compared', 'prices', 'said', 'market', 'oil', 'according', 'rate', 'bank', 'increase', 'billion', 'million', 'year']\n",
            "\n",
            "\n"
          ]
        }
      ]
    },
    {
      "cell_type": "code",
      "source": [
        "topic_results = LDA.transform(dtm1)"
      ],
      "metadata": {
        "id": "7Sy2Lq9cw0vT"
      },
      "execution_count": null,
      "outputs": []
    },
    {
      "cell_type": "code",
      "source": [
        "topic_results.shape"
      ],
      "metadata": {
        "colab": {
          "base_uri": "https://localhost:8080/"
        },
        "id": "ezA4AVrSw3JP",
        "outputId": "d0202938-f141-4afc-df79-9f8e3ee3a31a"
      },
      "execution_count": null,
      "outputs": [
        {
          "output_type": "execute_result",
          "data": {
            "text/plain": [
              "(20230, 10)"
            ]
          },
          "metadata": {},
          "execution_count": 23
        }
      ]
    },
    {
      "cell_type": "code",
      "source": [
        "topic_results[0].round(2)"
      ],
      "metadata": {
        "colab": {
          "base_uri": "https://localhost:8080/"
        },
        "id": "g4y8AGtNd86o",
        "outputId": "fb63f5ce-e3e2-43b9-ac8e-52222b1585f9"
      },
      "execution_count": null,
      "outputs": [
        {
          "output_type": "execute_result",
          "data": {
            "text/plain": [
              "array([0.02, 0.01, 0.  , 0.62, 0.  , 0.19, 0.03, 0.04, 0.05, 0.04])"
            ]
          },
          "metadata": {},
          "execution_count": 24
        }
      ]
    },
    {
      "cell_type": "code",
      "source": [
        "topic_results[0].argmax()"
      ],
      "metadata": {
        "colab": {
          "base_uri": "https://localhost:8080/"
        },
        "id": "D03PpsTyeKVV",
        "outputId": "bb4cc3bb-45f2-48dd-960f-c40c22a0a02e"
      },
      "execution_count": null,
      "outputs": [
        {
          "output_type": "execute_result",
          "data": {
            "text/plain": [
              "3"
            ]
          },
          "metadata": {},
          "execution_count": 25
        }
      ]
    },
    {
      "cell_type": "code",
      "source": [
        "topic_results.argmax(axis=1)"
      ],
      "metadata": {
        "colab": {
          "base_uri": "https://localhost:8080/"
        },
        "id": "TV51o6ttEvhz",
        "outputId": "dfb3de0d-1195-4c20-a4be-330631648cc1"
      },
      "execution_count": null,
      "outputs": [
        {
          "output_type": "execute_result",
          "data": {
            "text/plain": [
              "array([3, 3, 3, ..., 5, 5, 8])"
            ]
          },
          "metadata": {},
          "execution_count": 27
        }
      ]
    },
    {
      "cell_type": "code",
      "source": [
        "ex = df['body'][11]"
      ],
      "metadata": {
        "id": "IA_-EQWKFC2s"
      },
      "execution_count": null,
      "outputs": []
    },
    {
      "cell_type": "code",
      "source": [
        "ex = cv.transform([ex])\n",
        "ex = LDA.transform(ex)"
      ],
      "metadata": {
        "id": "_6Jf4xaWFfy4"
      },
      "execution_count": null,
      "outputs": []
    },
    {
      "cell_type": "code",
      "source": [
        "ex.round(2)"
      ],
      "metadata": {
        "colab": {
          "base_uri": "https://localhost:8080/"
        },
        "id": "GC9zxs-ffXJi",
        "outputId": "986f3404-c9d9-41bb-e5a8-61951254b99f"
      },
      "execution_count": null,
      "outputs": [
        {
          "output_type": "execute_result",
          "data": {
            "text/plain": [
              "array([[0.  , 0.  , 0.  , 0.15, 0.  , 0.14, 0.  , 0.06, 0.64, 0.  ]])"
            ]
          },
          "metadata": {},
          "execution_count": 33
        }
      ]
    },
    {
      "cell_type": "code",
      "source": [
        "ex.argmax()"
      ],
      "metadata": {
        "colab": {
          "base_uri": "https://localhost:8080/"
        },
        "id": "un9g5ys1f3rT",
        "outputId": "b8c85273-6f95-4990-dd40-d9b8401e82b7"
      },
      "execution_count": null,
      "outputs": [
        {
          "output_type": "execute_result",
          "data": {
            "text/plain": [
              "8"
            ]
          },
          "metadata": {},
          "execution_count": 35
        }
      ]
    },
    {
      "cell_type": "code",
      "source": [
        "random.choices(df[ df.Topic == ex.argmax() ].index.tolist(),k = 10)"
      ],
      "metadata": {
        "colab": {
          "base_uri": "https://localhost:8080/"
        },
        "id": "NEuRajR2jaPw",
        "outputId": "7c36bd12-5407-4f68-b719-ca96553282ec"
      },
      "execution_count": null,
      "outputs": [
        {
          "output_type": "execute_result",
          "data": {
            "text/plain": [
              "[17880, 20088, 945, 19450, 10109, 19299, 19654, 19300, 17826, 85]"
            ]
          },
          "metadata": {},
          "execution_count": 45
        }
      ]
    },
    {
      "cell_type": "code",
      "source": [
        "df['Topic'] = topic_results.argmax(axis=1)\n",
        "df.head(30)"
      ],
      "metadata": {
        "colab": {
          "base_uri": "https://localhost:8080/",
          "height": 990
        },
        "id": "PiqtLNesw5_7",
        "outputId": "871d53e9-a3f6-4b81-e5c9-1485effa578e"
      },
      "execution_count": null,
      "outputs": [
        {
          "output_type": "execute_result",
          "data": {
            "text/plain": [
              "                                          hrefs  \\\n",
              "0   https://gate.ahram.org.eg/News/4272955.aspx   \n",
              "1   https://gate.ahram.org.eg/News/4272956.aspx   \n",
              "2   https://gate.ahram.org.eg/News/4272936.aspx   \n",
              "3   https://gate.ahram.org.eg/News/4272934.aspx   \n",
              "4   https://gate.ahram.org.eg/News/4272941.aspx   \n",
              "5   https://gate.ahram.org.eg/News/4272940.aspx   \n",
              "6   https://gate.ahram.org.eg/News/4272939.aspx   \n",
              "7   https://gate.ahram.org.eg/News/4272933.aspx   \n",
              "8   https://gate.ahram.org.eg/News/4272938.aspx   \n",
              "9   https://gate.ahram.org.eg/News/4272937.aspx   \n",
              "10  https://gate.ahram.org.eg/News/4272914.aspx   \n",
              "11  https://gate.ahram.org.eg/News/4272924.aspx   \n",
              "12  https://gate.ahram.org.eg/News/4272927.aspx   \n",
              "13  https://gate.ahram.org.eg/News/4272932.aspx   \n",
              "14  https://gate.ahram.org.eg/News/4272912.aspx   \n",
              "15  https://gate.ahram.org.eg/News/4272900.aspx   \n",
              "16  https://gate.ahram.org.eg/News/4272921.aspx   \n",
              "17  https://gate.ahram.org.eg/News/4272906.aspx   \n",
              "18  https://gate.ahram.org.eg/News/4272909.aspx   \n",
              "19  https://gate.ahram.org.eg/News/4272908.aspx   \n",
              "20  https://gate.ahram.org.eg/News/4272895.aspx   \n",
              "21  https://gate.ahram.org.eg/News/4272884.aspx   \n",
              "22  https://gate.ahram.org.eg/News/4272901.aspx   \n",
              "23  https://gate.ahram.org.eg/News/4272892.aspx   \n",
              "24  https://gate.ahram.org.eg/News/4272896.aspx   \n",
              "25  https://gate.ahram.org.eg/News/4272889.aspx   \n",
              "26  https://gate.ahram.org.eg/News/4272887.aspx   \n",
              "27  https://gate.ahram.org.eg/News/4272817.aspx   \n",
              "28  https://gate.ahram.org.eg/News/4272823.aspx   \n",
              "29  https://gate.ahram.org.eg/News/4272828.aspx   \n",
              "\n",
              "                                             headline  \\\n",
              "0   محافظ الغربية يتابع الاستعدادات النهائية لامتح...   \n",
              "1   \"الشباب والرياضة\" بالأقصر تنفذ ندوات عن التوعي...   \n",
              "2   متابعة عمل الوحدات الصحية والمراكز الطبية في 7...   \n",
              "3   اعتماد ملعب مركز شباب الصلعا كأول ملعب لـ«المي...   \n",
              "4   إخماد حريق فى أرض مزروعة بالقمح في مركز الحامو...   \n",
              "5   الكشف على 1445 مريضًا فى قافلة طبية بقرية النا...   \n",
              "6   إقامة صلاة الغائب على أرواح الأبرياء ضحايا حاد...   \n",
              "7   تنظيم قافلة سكانية في قرية البسلقون في محافظة ...   \n",
              "8            إزالة حالتي بناء مخالف في مركز طما | صور   \n",
              "9   محافظ الشرقية يتابع الالتزام بالتعريفة في مواق...   \n",
              "10  جولات تموينية على محطات الوقود والصوامع في مرك...   \n",
              "11  توريد 11088 طنا و454 كليو قمح إلى شون وصوامع أ...   \n",
              "12  صيانة 49 كشاف إنارة فى مركز الدلنجات بمحافظة ا...   \n",
              "13     ضبط 410 أطنان قمح خلال حملة في العاشر من رمضان   \n",
              "14  محافظ القاهرة يشدد على تكثيف الحملات الرقابية ...   \n",
              "15  «تعليم الغربية»: عقوبات رادعة للطلاب حائزي الم...   \n",
              "16  170 ألفا و913 طالبا بصفوف النقل يؤدون امتحانات...   \n",
              "17  متابعات للالتزام بالأجرة المقررة في مواقف السي...   \n",
              "18  محافظ الشرقية يوجه برفع تراكمات القمامة ومخلفا...   \n",
              "19  رفع 125 طن مخلفات من شوارع مركز الرحمانية في م...   \n",
              "20  محافظ شمال سيناء يفتتح المسجد الكبير بقرية الج...   \n",
              "21  محافظ الوادي الجديد يشهد حصاد مزرعة بحثية لتقي...   \n",
              "22                       إصابة 3 أشخاص في حادث بأسوان   \n",
              "23             حملة لرفع الإشغالات من شوارع حي عابدين   \n",
              "24      توريد 30 طن قمح إلى شون وصوامع مركز طهطا| صور   \n",
              "25  إزالة 122 إشغال طريق في مركز إيتاى البارود بمح...   \n",
              "26  تداول 13 ألف طن بضائع عامة ومتنوعة في مواني ال...   \n",
              "27  حملات رقابية لضبط الأسواق والمخالفين في سوهاج ...   \n",
              "28  محافظ بني سويف يُنيب رئيس مركز ناصر لافتتاح مس...   \n",
              "29  قافلة طبية ضمن حياة كريمة في قرية الشرقي سمهود...   \n",
              "\n",
              "                                             briefing  \\\n",
              "0   التقى الدكتور طارق رحمي محافظ الغربية، بالمهند...   \n",
              "1   نفذت إدارة تنمية الشباب بمديرية الشباب والرياض...   \n",
              "2   قامت إدارة المتابعة بمديرية الشئون الصحية بمحا...   \n",
              "3   قام أحمد سمير، رئيس الاتحاد المصرى للميني فوتب...   \n",
              "4   تمكنت قوات الحماية المدنية بمركز الحامول فى كف...   \n",
              "5   نظمت مديرية الصحة فى البحيرة، قافلة طبية بقرية...   \n",
              "6   أدى جموع المصليين في الوادى الجديد عقب أداء صل...   \n",
              "7   نظمت وحدة السكان فى محافظة البحيرة، قافلة سكان...   \n",
              "8   نفذت الوحدة المحلية لمركز ومدينة طما بسوهاج ، ...   \n",
              "9   تابع الدكتور ممدوح غراب محافظ الشرقية، سير الع...   \n",
              "10  تفقد السيد دايرة المشرف العام على مديرية التمو...   \n",
              "11  قال اللواء عصام سعد محافظ أسيوط، إنه تم توريد ...   \n",
              "12  أعلن وائل زغلول رئيس الوحدة المحلية لمركز ومدي...   \n",
              "13  أكدت فايزة عبد الرحمن، وكيلة وزارة التموين بال...   \n",
              "14  شدد اللواء خالد عبد العال، محافظ القاهرة، على ...   \n",
              "15  أكد ناصر حسن وكيل وزارة التربية والتعليم بالغر...   \n",
              "16  أكد عبدالكريم لطفي، وكيل الوزارة التعليم بأسوا...   \n",
              "17  واصل السكرتير العام المساعد لبني سويف اللواء س...   \n",
              "18  وجه الدكتور ممدوح غراب محافظ الشرقية، رئيس مرك...   \n",
              "19  أعلن الحسينى أبو عيانة رئيس الوحدة المحلية لمر...   \n",
              "20  افتتح اللواء دكتور محمد عبد الفضيل شوشة، محافظ...   \n",
              "21  تفقد اللواء محمد الزملوط محافظ الوادي الجديد، ...   \n",
              "22  شهد طريق (إدفو - مرسي علم) حادث انقلاب سيارة ف...   \n",
              "23  نظمت الأجهزة التنفيذية لحي عابدين، حملة مسائية...   \n",
              "24  أعلن المحاسب عامر عوض رئيس الوحدة المحلية لمرك...   \n",
              "25  أعلن شعبان بصيص رئيس الوحدة المحلية لمركز ايتا...   \n",
              "26  أعلن المركز الإعلامي لهيئة مواني البحر الأحمر،...   \n",
              "27  شنت مديرية التموين والتجارة الداخلية بسوهاج، ب...   \n",
              "28  أناب الدكتور محمد هاني غنيم محافظ بني سويف، رئ...   \n",
              "29  قال أشرف الداودى محافظ قنا، إن مديرية الصحة وا...   \n",
              "\n",
              "                                                 body category  Topic  \n",
              "0   Dr. Tariq Rahmi, Governor of Gharbia, met with...  محافظات      3  \n",
              "1   The Department of Youth Development at the Dir...  محافظات      3  \n",
              "2   Today, Friday, the Follow-up Department of the...  محافظات      3  \n",
              "3   Ahmed Samir, President of the Egyptian Federat...  محافظات      3  \n",
              "4   The Civil Protection Forces at Al-Hamoul Cente...  محافظات      7  \n",
              "5   The Directorate of Health in Buhaira organized...  محافظات      3  \n",
              "6   The crowds of worshipers in the New Valley, af...  محافظات      1  \n",
              "7   The Population Unit in Al-Buhaira Governorate ...  محافظات      3  \n",
              "8   The local unit of the center and city of Tama ...  محافظات      7  \n",
              "9   Dr. Mamdouh Ghorab, Governor of Sharkia, follo...  محافظات      7  \n",
              "10  Today, Friday, Mr. Dayra, the general supervis...  محافظات      3  \n",
              "11  Major General Essam Saad, Governor of Assiut, ...  محافظات      8  \n",
              "12  Wael Zaghloul, head of the local unit of the c...  محافظات      7  \n",
              "13  Fayza Abdel Rahman, Undersecretary of the Mini...  محافظات      7  \n",
              "14  Major General Khaled Abdel-Al, Governor of Cai...  محافظات      7  \n",
              "15  Nasser Hassan, Undersecretary of the Ministry ...  محافظات      5  \n",
              "16  Abdul Karim Lutfi, Undersecretary of the Minis...  محافظات      3  \n",
              "17  The Assistant Secretary-General of Beni Suef, ...  محافظات      7  \n",
              "18  Dr. Mamdouh Ghorab, Governor of Sharkia, direc...  محافظات      3  \n",
              "19  Al-Husseini Abu Ayana, head of the local unit ...  محافظات      7  \n",
              "20  Major General Dr. Mohamed Abdel-Fadil Shousha,...  محافظات      3  \n",
              "21  Today, Friday, Major General Muhammad Al-Zamlo...  محافظات      3  \n",
              "22  (Edfu - Marsa Alam) road witnessed a car rollo...  محافظات      7  \n",
              "23  The executive bodies of the Abdeen neighborhoo...  محافظات      7  \n",
              "24  Accountant Amer Awad, head of the local unit o...  محافظات      3  \n",
              "25  Shaaban Basais, head of the local unit of the ...  محافظات      7  \n",
              "26  The media center of the Red Sea Ports Authorit...  محافظات      4  \n",
              "27  The Directorate of Supply and Internal Trade i...  محافظات      7  \n",
              "28  Dr. Muhammad Hani Ghoneim, the governor of Ben...  محافظات      3  \n",
              "29  Ashraf El-Dawdy, Governor of Qena, said that t...  محافظات      8  "
            ],
            "text/html": [
              "\n",
              "  <div id=\"df-2459d047-47a9-4af0-83e2-2dbeefd7a991\">\n",
              "    <div class=\"colab-df-container\">\n",
              "      <div>\n",
              "<style scoped>\n",
              "    .dataframe tbody tr th:only-of-type {\n",
              "        vertical-align: middle;\n",
              "    }\n",
              "\n",
              "    .dataframe tbody tr th {\n",
              "        vertical-align: top;\n",
              "    }\n",
              "\n",
              "    .dataframe thead th {\n",
              "        text-align: right;\n",
              "    }\n",
              "</style>\n",
              "<table border=\"1\" class=\"dataframe\">\n",
              "  <thead>\n",
              "    <tr style=\"text-align: right;\">\n",
              "      <th></th>\n",
              "      <th>hrefs</th>\n",
              "      <th>headline</th>\n",
              "      <th>briefing</th>\n",
              "      <th>body</th>\n",
              "      <th>category</th>\n",
              "      <th>Topic</th>\n",
              "    </tr>\n",
              "  </thead>\n",
              "  <tbody>\n",
              "    <tr>\n",
              "      <th>0</th>\n",
              "      <td>https://gate.ahram.org.eg/News/4272955.aspx</td>\n",
              "      <td>محافظ الغربية يتابع الاستعدادات النهائية لامتح...</td>\n",
              "      <td>التقى الدكتور طارق رحمي محافظ الغربية، بالمهند...</td>\n",
              "      <td>Dr. Tariq Rahmi, Governor of Gharbia, met with...</td>\n",
              "      <td>محافظات</td>\n",
              "      <td>3</td>\n",
              "    </tr>\n",
              "    <tr>\n",
              "      <th>1</th>\n",
              "      <td>https://gate.ahram.org.eg/News/4272956.aspx</td>\n",
              "      <td>\"الشباب والرياضة\" بالأقصر تنفذ ندوات عن التوعي...</td>\n",
              "      <td>نفذت إدارة تنمية الشباب بمديرية الشباب والرياض...</td>\n",
              "      <td>The Department of Youth Development at the Dir...</td>\n",
              "      <td>محافظات</td>\n",
              "      <td>3</td>\n",
              "    </tr>\n",
              "    <tr>\n",
              "      <th>2</th>\n",
              "      <td>https://gate.ahram.org.eg/News/4272936.aspx</td>\n",
              "      <td>متابعة عمل الوحدات الصحية والمراكز الطبية في 7...</td>\n",
              "      <td>قامت إدارة المتابعة بمديرية الشئون الصحية بمحا...</td>\n",
              "      <td>Today, Friday, the Follow-up Department of the...</td>\n",
              "      <td>محافظات</td>\n",
              "      <td>3</td>\n",
              "    </tr>\n",
              "    <tr>\n",
              "      <th>3</th>\n",
              "      <td>https://gate.ahram.org.eg/News/4272934.aspx</td>\n",
              "      <td>اعتماد ملعب مركز شباب الصلعا كأول ملعب لـ«المي...</td>\n",
              "      <td>قام أحمد سمير، رئيس الاتحاد المصرى للميني فوتب...</td>\n",
              "      <td>Ahmed Samir, President of the Egyptian Federat...</td>\n",
              "      <td>محافظات</td>\n",
              "      <td>3</td>\n",
              "    </tr>\n",
              "    <tr>\n",
              "      <th>4</th>\n",
              "      <td>https://gate.ahram.org.eg/News/4272941.aspx</td>\n",
              "      <td>إخماد حريق فى أرض مزروعة بالقمح في مركز الحامو...</td>\n",
              "      <td>تمكنت قوات الحماية المدنية بمركز الحامول فى كف...</td>\n",
              "      <td>The Civil Protection Forces at Al-Hamoul Cente...</td>\n",
              "      <td>محافظات</td>\n",
              "      <td>7</td>\n",
              "    </tr>\n",
              "    <tr>\n",
              "      <th>5</th>\n",
              "      <td>https://gate.ahram.org.eg/News/4272940.aspx</td>\n",
              "      <td>الكشف على 1445 مريضًا فى قافلة طبية بقرية النا...</td>\n",
              "      <td>نظمت مديرية الصحة فى البحيرة، قافلة طبية بقرية...</td>\n",
              "      <td>The Directorate of Health in Buhaira organized...</td>\n",
              "      <td>محافظات</td>\n",
              "      <td>3</td>\n",
              "    </tr>\n",
              "    <tr>\n",
              "      <th>6</th>\n",
              "      <td>https://gate.ahram.org.eg/News/4272939.aspx</td>\n",
              "      <td>إقامة صلاة الغائب على أرواح الأبرياء ضحايا حاد...</td>\n",
              "      <td>أدى جموع المصليين في الوادى الجديد عقب أداء صل...</td>\n",
              "      <td>The crowds of worshipers in the New Valley, af...</td>\n",
              "      <td>محافظات</td>\n",
              "      <td>1</td>\n",
              "    </tr>\n",
              "    <tr>\n",
              "      <th>7</th>\n",
              "      <td>https://gate.ahram.org.eg/News/4272933.aspx</td>\n",
              "      <td>تنظيم قافلة سكانية في قرية البسلقون في محافظة ...</td>\n",
              "      <td>نظمت وحدة السكان فى محافظة البحيرة، قافلة سكان...</td>\n",
              "      <td>The Population Unit in Al-Buhaira Governorate ...</td>\n",
              "      <td>محافظات</td>\n",
              "      <td>3</td>\n",
              "    </tr>\n",
              "    <tr>\n",
              "      <th>8</th>\n",
              "      <td>https://gate.ahram.org.eg/News/4272938.aspx</td>\n",
              "      <td>إزالة حالتي بناء مخالف في مركز طما | صور</td>\n",
              "      <td>نفذت الوحدة المحلية لمركز ومدينة طما بسوهاج ، ...</td>\n",
              "      <td>The local unit of the center and city of Tama ...</td>\n",
              "      <td>محافظات</td>\n",
              "      <td>7</td>\n",
              "    </tr>\n",
              "    <tr>\n",
              "      <th>9</th>\n",
              "      <td>https://gate.ahram.org.eg/News/4272937.aspx</td>\n",
              "      <td>محافظ الشرقية يتابع الالتزام بالتعريفة في مواق...</td>\n",
              "      <td>تابع الدكتور ممدوح غراب محافظ الشرقية، سير الع...</td>\n",
              "      <td>Dr. Mamdouh Ghorab, Governor of Sharkia, follo...</td>\n",
              "      <td>محافظات</td>\n",
              "      <td>7</td>\n",
              "    </tr>\n",
              "    <tr>\n",
              "      <th>10</th>\n",
              "      <td>https://gate.ahram.org.eg/News/4272914.aspx</td>\n",
              "      <td>جولات تموينية على محطات الوقود والصوامع في مرك...</td>\n",
              "      <td>تفقد السيد دايرة المشرف العام على مديرية التمو...</td>\n",
              "      <td>Today, Friday, Mr. Dayra, the general supervis...</td>\n",
              "      <td>محافظات</td>\n",
              "      <td>3</td>\n",
              "    </tr>\n",
              "    <tr>\n",
              "      <th>11</th>\n",
              "      <td>https://gate.ahram.org.eg/News/4272924.aspx</td>\n",
              "      <td>توريد 11088 طنا و454 كليو قمح إلى شون وصوامع أ...</td>\n",
              "      <td>قال اللواء عصام سعد محافظ أسيوط، إنه تم توريد ...</td>\n",
              "      <td>Major General Essam Saad, Governor of Assiut, ...</td>\n",
              "      <td>محافظات</td>\n",
              "      <td>8</td>\n",
              "    </tr>\n",
              "    <tr>\n",
              "      <th>12</th>\n",
              "      <td>https://gate.ahram.org.eg/News/4272927.aspx</td>\n",
              "      <td>صيانة 49 كشاف إنارة فى مركز الدلنجات بمحافظة ا...</td>\n",
              "      <td>أعلن وائل زغلول رئيس الوحدة المحلية لمركز ومدي...</td>\n",
              "      <td>Wael Zaghloul, head of the local unit of the c...</td>\n",
              "      <td>محافظات</td>\n",
              "      <td>7</td>\n",
              "    </tr>\n",
              "    <tr>\n",
              "      <th>13</th>\n",
              "      <td>https://gate.ahram.org.eg/News/4272932.aspx</td>\n",
              "      <td>ضبط 410 أطنان قمح خلال حملة في العاشر من رمضان</td>\n",
              "      <td>أكدت فايزة عبد الرحمن، وكيلة وزارة التموين بال...</td>\n",
              "      <td>Fayza Abdel Rahman, Undersecretary of the Mini...</td>\n",
              "      <td>محافظات</td>\n",
              "      <td>7</td>\n",
              "    </tr>\n",
              "    <tr>\n",
              "      <th>14</th>\n",
              "      <td>https://gate.ahram.org.eg/News/4272912.aspx</td>\n",
              "      <td>محافظ القاهرة يشدد على تكثيف الحملات الرقابية ...</td>\n",
              "      <td>شدد اللواء خالد عبد العال، محافظ القاهرة، على ...</td>\n",
              "      <td>Major General Khaled Abdel-Al, Governor of Cai...</td>\n",
              "      <td>محافظات</td>\n",
              "      <td>7</td>\n",
              "    </tr>\n",
              "    <tr>\n",
              "      <th>15</th>\n",
              "      <td>https://gate.ahram.org.eg/News/4272900.aspx</td>\n",
              "      <td>«تعليم الغربية»: عقوبات رادعة للطلاب حائزي الم...</td>\n",
              "      <td>أكد ناصر حسن وكيل وزارة التربية والتعليم بالغر...</td>\n",
              "      <td>Nasser Hassan, Undersecretary of the Ministry ...</td>\n",
              "      <td>محافظات</td>\n",
              "      <td>5</td>\n",
              "    </tr>\n",
              "    <tr>\n",
              "      <th>16</th>\n",
              "      <td>https://gate.ahram.org.eg/News/4272921.aspx</td>\n",
              "      <td>170 ألفا و913 طالبا بصفوف النقل يؤدون امتحانات...</td>\n",
              "      <td>أكد عبدالكريم لطفي، وكيل الوزارة التعليم بأسوا...</td>\n",
              "      <td>Abdul Karim Lutfi, Undersecretary of the Minis...</td>\n",
              "      <td>محافظات</td>\n",
              "      <td>3</td>\n",
              "    </tr>\n",
              "    <tr>\n",
              "      <th>17</th>\n",
              "      <td>https://gate.ahram.org.eg/News/4272906.aspx</td>\n",
              "      <td>متابعات للالتزام بالأجرة المقررة في مواقف السي...</td>\n",
              "      <td>واصل السكرتير العام المساعد لبني سويف اللواء س...</td>\n",
              "      <td>The Assistant Secretary-General of Beni Suef, ...</td>\n",
              "      <td>محافظات</td>\n",
              "      <td>7</td>\n",
              "    </tr>\n",
              "    <tr>\n",
              "      <th>18</th>\n",
              "      <td>https://gate.ahram.org.eg/News/4272909.aspx</td>\n",
              "      <td>محافظ الشرقية يوجه برفع تراكمات القمامة ومخلفا...</td>\n",
              "      <td>وجه الدكتور ممدوح غراب محافظ الشرقية، رئيس مرك...</td>\n",
              "      <td>Dr. Mamdouh Ghorab, Governor of Sharkia, direc...</td>\n",
              "      <td>محافظات</td>\n",
              "      <td>3</td>\n",
              "    </tr>\n",
              "    <tr>\n",
              "      <th>19</th>\n",
              "      <td>https://gate.ahram.org.eg/News/4272908.aspx</td>\n",
              "      <td>رفع 125 طن مخلفات من شوارع مركز الرحمانية في م...</td>\n",
              "      <td>أعلن الحسينى أبو عيانة رئيس الوحدة المحلية لمر...</td>\n",
              "      <td>Al-Husseini Abu Ayana, head of the local unit ...</td>\n",
              "      <td>محافظات</td>\n",
              "      <td>7</td>\n",
              "    </tr>\n",
              "    <tr>\n",
              "      <th>20</th>\n",
              "      <td>https://gate.ahram.org.eg/News/4272895.aspx</td>\n",
              "      <td>محافظ شمال سيناء يفتتح المسجد الكبير بقرية الج...</td>\n",
              "      <td>افتتح اللواء دكتور محمد عبد الفضيل شوشة، محافظ...</td>\n",
              "      <td>Major General Dr. Mohamed Abdel-Fadil Shousha,...</td>\n",
              "      <td>محافظات</td>\n",
              "      <td>3</td>\n",
              "    </tr>\n",
              "    <tr>\n",
              "      <th>21</th>\n",
              "      <td>https://gate.ahram.org.eg/News/4272884.aspx</td>\n",
              "      <td>محافظ الوادي الجديد يشهد حصاد مزرعة بحثية لتقي...</td>\n",
              "      <td>تفقد اللواء محمد الزملوط محافظ الوادي الجديد، ...</td>\n",
              "      <td>Today, Friday, Major General Muhammad Al-Zamlo...</td>\n",
              "      <td>محافظات</td>\n",
              "      <td>3</td>\n",
              "    </tr>\n",
              "    <tr>\n",
              "      <th>22</th>\n",
              "      <td>https://gate.ahram.org.eg/News/4272901.aspx</td>\n",
              "      <td>إصابة 3 أشخاص في حادث بأسوان</td>\n",
              "      <td>شهد طريق (إدفو - مرسي علم) حادث انقلاب سيارة ف...</td>\n",
              "      <td>(Edfu - Marsa Alam) road witnessed a car rollo...</td>\n",
              "      <td>محافظات</td>\n",
              "      <td>7</td>\n",
              "    </tr>\n",
              "    <tr>\n",
              "      <th>23</th>\n",
              "      <td>https://gate.ahram.org.eg/News/4272892.aspx</td>\n",
              "      <td>حملة لرفع الإشغالات من شوارع حي عابدين</td>\n",
              "      <td>نظمت الأجهزة التنفيذية لحي عابدين، حملة مسائية...</td>\n",
              "      <td>The executive bodies of the Abdeen neighborhoo...</td>\n",
              "      <td>محافظات</td>\n",
              "      <td>7</td>\n",
              "    </tr>\n",
              "    <tr>\n",
              "      <th>24</th>\n",
              "      <td>https://gate.ahram.org.eg/News/4272896.aspx</td>\n",
              "      <td>توريد 30 طن قمح إلى شون وصوامع مركز طهطا| صور</td>\n",
              "      <td>أعلن المحاسب عامر عوض رئيس الوحدة المحلية لمرك...</td>\n",
              "      <td>Accountant Amer Awad, head of the local unit o...</td>\n",
              "      <td>محافظات</td>\n",
              "      <td>3</td>\n",
              "    </tr>\n",
              "    <tr>\n",
              "      <th>25</th>\n",
              "      <td>https://gate.ahram.org.eg/News/4272889.aspx</td>\n",
              "      <td>إزالة 122 إشغال طريق في مركز إيتاى البارود بمح...</td>\n",
              "      <td>أعلن شعبان بصيص رئيس الوحدة المحلية لمركز ايتا...</td>\n",
              "      <td>Shaaban Basais, head of the local unit of the ...</td>\n",
              "      <td>محافظات</td>\n",
              "      <td>7</td>\n",
              "    </tr>\n",
              "    <tr>\n",
              "      <th>26</th>\n",
              "      <td>https://gate.ahram.org.eg/News/4272887.aspx</td>\n",
              "      <td>تداول 13 ألف طن بضائع عامة ومتنوعة في مواني ال...</td>\n",
              "      <td>أعلن المركز الإعلامي لهيئة مواني البحر الأحمر،...</td>\n",
              "      <td>The media center of the Red Sea Ports Authorit...</td>\n",
              "      <td>محافظات</td>\n",
              "      <td>4</td>\n",
              "    </tr>\n",
              "    <tr>\n",
              "      <th>27</th>\n",
              "      <td>https://gate.ahram.org.eg/News/4272817.aspx</td>\n",
              "      <td>حملات رقابية لضبط الأسواق والمخالفين في سوهاج ...</td>\n",
              "      <td>شنت مديرية التموين والتجارة الداخلية بسوهاج، ب...</td>\n",
              "      <td>The Directorate of Supply and Internal Trade i...</td>\n",
              "      <td>محافظات</td>\n",
              "      <td>7</td>\n",
              "    </tr>\n",
              "    <tr>\n",
              "      <th>28</th>\n",
              "      <td>https://gate.ahram.org.eg/News/4272823.aspx</td>\n",
              "      <td>محافظ بني سويف يُنيب رئيس مركز ناصر لافتتاح مس...</td>\n",
              "      <td>أناب الدكتور محمد هاني غنيم محافظ بني سويف، رئ...</td>\n",
              "      <td>Dr. Muhammad Hani Ghoneim, the governor of Ben...</td>\n",
              "      <td>محافظات</td>\n",
              "      <td>3</td>\n",
              "    </tr>\n",
              "    <tr>\n",
              "      <th>29</th>\n",
              "      <td>https://gate.ahram.org.eg/News/4272828.aspx</td>\n",
              "      <td>قافلة طبية ضمن حياة كريمة في قرية الشرقي سمهود...</td>\n",
              "      <td>قال أشرف الداودى محافظ قنا، إن مديرية الصحة وا...</td>\n",
              "      <td>Ashraf El-Dawdy, Governor of Qena, said that t...</td>\n",
              "      <td>محافظات</td>\n",
              "      <td>8</td>\n",
              "    </tr>\n",
              "  </tbody>\n",
              "</table>\n",
              "</div>\n",
              "      <button class=\"colab-df-convert\" onclick=\"convertToInteractive('df-2459d047-47a9-4af0-83e2-2dbeefd7a991')\"\n",
              "              title=\"Convert this dataframe to an interactive table.\"\n",
              "              style=\"display:none;\">\n",
              "        \n",
              "  <svg xmlns=\"http://www.w3.org/2000/svg\" height=\"24px\"viewBox=\"0 0 24 24\"\n",
              "       width=\"24px\">\n",
              "    <path d=\"M0 0h24v24H0V0z\" fill=\"none\"/>\n",
              "    <path d=\"M18.56 5.44l.94 2.06.94-2.06 2.06-.94-2.06-.94-.94-2.06-.94 2.06-2.06.94zm-11 1L8.5 8.5l.94-2.06 2.06-.94-2.06-.94L8.5 2.5l-.94 2.06-2.06.94zm10 10l.94 2.06.94-2.06 2.06-.94-2.06-.94-.94-2.06-.94 2.06-2.06.94z\"/><path d=\"M17.41 7.96l-1.37-1.37c-.4-.4-.92-.59-1.43-.59-.52 0-1.04.2-1.43.59L10.3 9.45l-7.72 7.72c-.78.78-.78 2.05 0 2.83L4 21.41c.39.39.9.59 1.41.59.51 0 1.02-.2 1.41-.59l7.78-7.78 2.81-2.81c.8-.78.8-2.07 0-2.86zM5.41 20L4 18.59l7.72-7.72 1.47 1.35L5.41 20z\"/>\n",
              "  </svg>\n",
              "      </button>\n",
              "      \n",
              "  <style>\n",
              "    .colab-df-container {\n",
              "      display:flex;\n",
              "      flex-wrap:wrap;\n",
              "      gap: 12px;\n",
              "    }\n",
              "\n",
              "    .colab-df-convert {\n",
              "      background-color: #E8F0FE;\n",
              "      border: none;\n",
              "      border-radius: 50%;\n",
              "      cursor: pointer;\n",
              "      display: none;\n",
              "      fill: #1967D2;\n",
              "      height: 32px;\n",
              "      padding: 0 0 0 0;\n",
              "      width: 32px;\n",
              "    }\n",
              "\n",
              "    .colab-df-convert:hover {\n",
              "      background-color: #E2EBFA;\n",
              "      box-shadow: 0px 1px 2px rgba(60, 64, 67, 0.3), 0px 1px 3px 1px rgba(60, 64, 67, 0.15);\n",
              "      fill: #174EA6;\n",
              "    }\n",
              "\n",
              "    [theme=dark] .colab-df-convert {\n",
              "      background-color: #3B4455;\n",
              "      fill: #D2E3FC;\n",
              "    }\n",
              "\n",
              "    [theme=dark] .colab-df-convert:hover {\n",
              "      background-color: #434B5C;\n",
              "      box-shadow: 0px 1px 3px 1px rgba(0, 0, 0, 0.15);\n",
              "      filter: drop-shadow(0px 1px 2px rgba(0, 0, 0, 0.3));\n",
              "      fill: #FFFFFF;\n",
              "    }\n",
              "  </style>\n",
              "\n",
              "      <script>\n",
              "        const buttonEl =\n",
              "          document.querySelector('#df-2459d047-47a9-4af0-83e2-2dbeefd7a991 button.colab-df-convert');\n",
              "        buttonEl.style.display =\n",
              "          google.colab.kernel.accessAllowed ? 'block' : 'none';\n",
              "\n",
              "        async function convertToInteractive(key) {\n",
              "          const element = document.querySelector('#df-2459d047-47a9-4af0-83e2-2dbeefd7a991');\n",
              "          const dataTable =\n",
              "            await google.colab.kernel.invokeFunction('convertToInteractive',\n",
              "                                                     [key], {});\n",
              "          if (!dataTable) return;\n",
              "\n",
              "          const docLinkHtml = 'Like what you see? Visit the ' +\n",
              "            '<a target=\"_blank\" href=https://colab.research.google.com/notebooks/data_table.ipynb>data table notebook</a>'\n",
              "            + ' to learn more about interactive tables.';\n",
              "          element.innerHTML = '';\n",
              "          dataTable['output_type'] = 'display_data';\n",
              "          await google.colab.output.renderOutput(dataTable, element);\n",
              "          const docLink = document.createElement('div');\n",
              "          docLink.innerHTML = docLinkHtml;\n",
              "          element.appendChild(docLink);\n",
              "        }\n",
              "      </script>\n",
              "    </div>\n",
              "  </div>\n",
              "  "
            ]
          },
          "metadata": {},
          "execution_count": 31
        }
      ]
    }
  ]
}