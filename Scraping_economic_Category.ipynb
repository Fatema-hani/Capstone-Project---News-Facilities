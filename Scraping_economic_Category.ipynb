{
  "cells": [
    {
      "cell_type": "code",
      "execution_count": null,
      "metadata": {
        "id": "iZIWN1qrsO_N"
      },
      "outputs": [],
      "source": [
        "import requests\n",
        "from bs4 import BeautifulSoup\n",
        "import csv"
      ]
    },
    {
      "cell_type": "code",
      "execution_count": null,
      "metadata": {
        "id": "6U9EG_GSsO_P"
      },
      "outputs": [],
      "source": [
        "e_hrefs=[]\n",
        "\n",
        "for i in range(0,35001,30):\n",
        "    response = requests.get(f'https://gate.ahram.org.eg/Portal/14/%D8%A7%D9%82%D8%AA%D8%B5%D8%A7%D8%AF/{i}.aspx?esdarId=0')\n",
        "    soup = BeautifulSoup(response.content,'html.parser')           \n",
        "    divs =soup.find_all('div' , attrs={'class':\"col-lg-9 bg-White bg-White-outer pb-0 align-self-center\"})\n",
        "    for div in divs:\n",
        "        e_hrefs.append(div.find('a')['href'])"
      ]
    },
    {
      "cell_type": "code",
      "source": [
        "with open('Economic.csv','a', encoding='utf-8-sig',newline='') as myfile:\n",
        "        c_names=['hrefs','category']\n",
        "        writer = csv.DictWriter(myfile, fieldnames=c_names)\n",
        "        writer.writeheader()\n",
        "        try:\n",
        "            for c in w_hrefs:\n",
        "                writer.writerow({'hrefs':c , 'category':'Economic'})       \n",
        "        except:\n",
        "            pass"
      ],
      "metadata": {
        "id": "cIkgfXH2sxgo"
      },
      "execution_count": null,
      "outputs": []
    },
    {
      "cell_type": "code",
      "source": [
        "# note : this cell should be run just ONCE if you will srapce many times to the same file\n",
        "with open('economics.csv','w', encoding='utf-8-sig',newline='') as myfile:\n",
        "            c_names=['hrefs','headline','briefing','category']\n",
        "            writer = csv.DictWriter(myfile, fieldnames=c_names)\n",
        "            writer.writeheader()"
      ],
      "metadata": {
        "id": "jFKoPnIIs3-0"
      },
      "execution_count": null,
      "outputs": []
    },
    {
      "cell_type": "code",
      "execution_count": null,
      "metadata": {
        "id": "XWxRpuYasO_Q"
      },
      "outputs": [],
      "source": [
        "for ref in e_hrefs:\n",
        "        response = requests.get(ref)\n",
        "        soup = BeautifulSoup(response.content,'html.parser')\n",
        "        head = soup.find('h1').get_text().strip()\n",
        "        \n",
        "        try:\n",
        "            brief = soup.find_all('p')[2].get_text().strip()\n",
        "        except:\n",
        "            brief = soup.find_all('p')\n",
        "        category = soup.find_all('span',attrs={'class':'breadcrumb__title'})[-1].get_text().strip()\n",
        "        texts=[]\n",
        "        try:\n",
        "            for par in soup.find_all('p')[2:]:\n",
        "                texts.append(par.get_text().strip())\n",
        "\n",
        "            text = \"\".join(texts)\n",
        "        except:\n",
        "            text = brief\n",
        "            \n",
        "        with open('economics.csv','a', encoding='utf-8-sig',newline='') as myfile:\n",
        "            c_names=['hrefs','headline','briefing','body','category']\n",
        "            writer = csv.DictWriter(myfile, fieldnames=c_names)\n",
        "            try:\n",
        "                writer.writerow({'hrefs':ref ,'headline':head ,'briefing':brief ,'body':text,'category':category})       \n",
        "            except:\n",
        "                pass\n"
      ]
    },
    {
      "cell_type": "code",
      "source": [
        "import pandas as pd\n",
        "df = pd.read_csv('/content/economics.csv')\n",
        "df.shape"
      ],
      "metadata": {
        "id": "8g9nxLp0t3zS"
      },
      "execution_count": null,
      "outputs": []
    }
  ],
  "metadata": {
    "kernelspec": {
      "display_name": "base",
      "language": "python",
      "name": "python3"
    },
    "language_info": {
      "name": "python",
      "version": "3.9.13"
    },
    "orig_nbformat": 4,
    "colab": {
      "provenance": []
    }
  },
  "nbformat": 4,
  "nbformat_minor": 0
}