{
  "nbformat": 4,
  "nbformat_minor": 0,
  "metadata": {
    "colab": {
      "provenance": []
    },
    "kernelspec": {
      "name": "python3",
      "display_name": "Python 3"
    },
    "language_info": {
      "name": "python"
    },
    "widgets": {
      "application/vnd.jupyter.widget-state+json": {
        "ee1d7765609349e3bbba705da1820600": {
          "model_module": "@jupyter-widgets/controls",
          "model_name": "HBoxModel",
          "model_module_version": "1.5.0",
          "state": {
            "_dom_classes": [],
            "_model_module": "@jupyter-widgets/controls",
            "_model_module_version": "1.5.0",
            "_model_name": "HBoxModel",
            "_view_count": null,
            "_view_module": "@jupyter-widgets/controls",
            "_view_module_version": "1.5.0",
            "_view_name": "HBoxView",
            "box_style": "",
            "children": [
              "IPY_MODEL_ca9daab967194144bf6d1b428289eca9",
              "IPY_MODEL_633d1b0a518b414db2f70c3da291061c",
              "IPY_MODEL_a2bfd8ba5ac34e609f51ff4cff7dcc46"
            ],
            "layout": "IPY_MODEL_deedc74a7b39476097b0b5549d4b6338"
          }
        },
        "ca9daab967194144bf6d1b428289eca9": {
          "model_module": "@jupyter-widgets/controls",
          "model_name": "HTMLModel",
          "model_module_version": "1.5.0",
          "state": {
            "_dom_classes": [],
            "_model_module": "@jupyter-widgets/controls",
            "_model_module_version": "1.5.0",
            "_model_name": "HTMLModel",
            "_view_count": null,
            "_view_module": "@jupyter-widgets/controls",
            "_view_module_version": "1.5.0",
            "_view_name": "HTMLView",
            "description": "",
            "description_tooltip": null,
            "layout": "IPY_MODEL_88b1fd89ffb649308538d19fa8755609",
            "placeholder": "​",
            "style": "IPY_MODEL_8a14808df89f4c6381638af01d66f7ba",
            "value": "Downloading pytorch_model.bin: 100%"
          }
        },
        "633d1b0a518b414db2f70c3da291061c": {
          "model_module": "@jupyter-widgets/controls",
          "model_name": "FloatProgressModel",
          "model_module_version": "1.5.0",
          "state": {
            "_dom_classes": [],
            "_model_module": "@jupyter-widgets/controls",
            "_model_module_version": "1.5.0",
            "_model_name": "FloatProgressModel",
            "_view_count": null,
            "_view_module": "@jupyter-widgets/controls",
            "_view_module_version": "1.5.0",
            "_view_name": "ProgressView",
            "bar_style": "success",
            "description": "",
            "description_tooltip": null,
            "layout": "IPY_MODEL_a380f66b4fdf43929da2d12b80569d53",
            "max": 3156380325,
            "min": 0,
            "orientation": "horizontal",
            "style": "IPY_MODEL_6e58dd240f844150b6110954e7fab067",
            "value": 3156380325
          }
        },
        "a2bfd8ba5ac34e609f51ff4cff7dcc46": {
          "model_module": "@jupyter-widgets/controls",
          "model_name": "HTMLModel",
          "model_module_version": "1.5.0",
          "state": {
            "_dom_classes": [],
            "_model_module": "@jupyter-widgets/controls",
            "_model_module_version": "1.5.0",
            "_model_name": "HTMLModel",
            "_view_count": null,
            "_view_module": "@jupyter-widgets/controls",
            "_view_module_version": "1.5.0",
            "_view_name": "HTMLView",
            "description": "",
            "description_tooltip": null,
            "layout": "IPY_MODEL_03a93edc90514b0f8dfd6f7ddc2018dd",
            "placeholder": "​",
            "style": "IPY_MODEL_b383b3cb18f84c75893ead9dd064dec1",
            "value": " 3.16G/3.16G [00:52&lt;00:00, 61.5MB/s]"
          }
        },
        "deedc74a7b39476097b0b5549d4b6338": {
          "model_module": "@jupyter-widgets/base",
          "model_name": "LayoutModel",
          "model_module_version": "1.2.0",
          "state": {
            "_model_module": "@jupyter-widgets/base",
            "_model_module_version": "1.2.0",
            "_model_name": "LayoutModel",
            "_view_count": null,
            "_view_module": "@jupyter-widgets/base",
            "_view_module_version": "1.2.0",
            "_view_name": "LayoutView",
            "align_content": null,
            "align_items": null,
            "align_self": null,
            "border": null,
            "bottom": null,
            "display": null,
            "flex": null,
            "flex_flow": null,
            "grid_area": null,
            "grid_auto_columns": null,
            "grid_auto_flow": null,
            "grid_auto_rows": null,
            "grid_column": null,
            "grid_gap": null,
            "grid_row": null,
            "grid_template_areas": null,
            "grid_template_columns": null,
            "grid_template_rows": null,
            "height": null,
            "justify_content": null,
            "justify_items": null,
            "left": null,
            "margin": null,
            "max_height": null,
            "max_width": null,
            "min_height": null,
            "min_width": null,
            "object_fit": null,
            "object_position": null,
            "order": null,
            "overflow": null,
            "overflow_x": null,
            "overflow_y": null,
            "padding": null,
            "right": null,
            "top": null,
            "visibility": null,
            "width": null
          }
        },
        "88b1fd89ffb649308538d19fa8755609": {
          "model_module": "@jupyter-widgets/base",
          "model_name": "LayoutModel",
          "model_module_version": "1.2.0",
          "state": {
            "_model_module": "@jupyter-widgets/base",
            "_model_module_version": "1.2.0",
            "_model_name": "LayoutModel",
            "_view_count": null,
            "_view_module": "@jupyter-widgets/base",
            "_view_module_version": "1.2.0",
            "_view_name": "LayoutView",
            "align_content": null,
            "align_items": null,
            "align_self": null,
            "border": null,
            "bottom": null,
            "display": null,
            "flex": null,
            "flex_flow": null,
            "grid_area": null,
            "grid_auto_columns": null,
            "grid_auto_flow": null,
            "grid_auto_rows": null,
            "grid_column": null,
            "grid_gap": null,
            "grid_row": null,
            "grid_template_areas": null,
            "grid_template_columns": null,
            "grid_template_rows": null,
            "height": null,
            "justify_content": null,
            "justify_items": null,
            "left": null,
            "margin": null,
            "max_height": null,
            "max_width": null,
            "min_height": null,
            "min_width": null,
            "object_fit": null,
            "object_position": null,
            "order": null,
            "overflow": null,
            "overflow_x": null,
            "overflow_y": null,
            "padding": null,
            "right": null,
            "top": null,
            "visibility": null,
            "width": null
          }
        },
        "8a14808df89f4c6381638af01d66f7ba": {
          "model_module": "@jupyter-widgets/controls",
          "model_name": "DescriptionStyleModel",
          "model_module_version": "1.5.0",
          "state": {
            "_model_module": "@jupyter-widgets/controls",
            "_model_module_version": "1.5.0",
            "_model_name": "DescriptionStyleModel",
            "_view_count": null,
            "_view_module": "@jupyter-widgets/base",
            "_view_module_version": "1.2.0",
            "_view_name": "StyleView",
            "description_width": ""
          }
        },
        "a380f66b4fdf43929da2d12b80569d53": {
          "model_module": "@jupyter-widgets/base",
          "model_name": "LayoutModel",
          "model_module_version": "1.2.0",
          "state": {
            "_model_module": "@jupyter-widgets/base",
            "_model_module_version": "1.2.0",
            "_model_name": "LayoutModel",
            "_view_count": null,
            "_view_module": "@jupyter-widgets/base",
            "_view_module_version": "1.2.0",
            "_view_name": "LayoutView",
            "align_content": null,
            "align_items": null,
            "align_self": null,
            "border": null,
            "bottom": null,
            "display": null,
            "flex": null,
            "flex_flow": null,
            "grid_area": null,
            "grid_auto_columns": null,
            "grid_auto_flow": null,
            "grid_auto_rows": null,
            "grid_column": null,
            "grid_gap": null,
            "grid_row": null,
            "grid_template_areas": null,
            "grid_template_columns": null,
            "grid_template_rows": null,
            "height": null,
            "justify_content": null,
            "justify_items": null,
            "left": null,
            "margin": null,
            "max_height": null,
            "max_width": null,
            "min_height": null,
            "min_width": null,
            "object_fit": null,
            "object_position": null,
            "order": null,
            "overflow": null,
            "overflow_x": null,
            "overflow_y": null,
            "padding": null,
            "right": null,
            "top": null,
            "visibility": null,
            "width": null
          }
        },
        "6e58dd240f844150b6110954e7fab067": {
          "model_module": "@jupyter-widgets/controls",
          "model_name": "ProgressStyleModel",
          "model_module_version": "1.5.0",
          "state": {
            "_model_module": "@jupyter-widgets/controls",
            "_model_module_version": "1.5.0",
            "_model_name": "ProgressStyleModel",
            "_view_count": null,
            "_view_module": "@jupyter-widgets/base",
            "_view_module_version": "1.2.0",
            "_view_name": "StyleView",
            "bar_color": null,
            "description_width": ""
          }
        },
        "03a93edc90514b0f8dfd6f7ddc2018dd": {
          "model_module": "@jupyter-widgets/base",
          "model_name": "LayoutModel",
          "model_module_version": "1.2.0",
          "state": {
            "_model_module": "@jupyter-widgets/base",
            "_model_module_version": "1.2.0",
            "_model_name": "LayoutModel",
            "_view_count": null,
            "_view_module": "@jupyter-widgets/base",
            "_view_module_version": "1.2.0",
            "_view_name": "LayoutView",
            "align_content": null,
            "align_items": null,
            "align_self": null,
            "border": null,
            "bottom": null,
            "display": null,
            "flex": null,
            "flex_flow": null,
            "grid_area": null,
            "grid_auto_columns": null,
            "grid_auto_flow": null,
            "grid_auto_rows": null,
            "grid_column": null,
            "grid_gap": null,
            "grid_row": null,
            "grid_template_areas": null,
            "grid_template_columns": null,
            "grid_template_rows": null,
            "height": null,
            "justify_content": null,
            "justify_items": null,
            "left": null,
            "margin": null,
            "max_height": null,
            "max_width": null,
            "min_height": null,
            "min_width": null,
            "object_fit": null,
            "object_position": null,
            "order": null,
            "overflow": null,
            "overflow_x": null,
            "overflow_y": null,
            "padding": null,
            "right": null,
            "top": null,
            "visibility": null,
            "width": null
          }
        },
        "b383b3cb18f84c75893ead9dd064dec1": {
          "model_module": "@jupyter-widgets/controls",
          "model_name": "DescriptionStyleModel",
          "model_module_version": "1.5.0",
          "state": {
            "_model_module": "@jupyter-widgets/controls",
            "_model_module_version": "1.5.0",
            "_model_name": "DescriptionStyleModel",
            "_view_count": null,
            "_view_module": "@jupyter-widgets/base",
            "_view_module_version": "1.2.0",
            "_view_name": "StyleView",
            "description_width": ""
          }
        }
      }
    }
  },
  "cells": [
    {
      "cell_type": "code",
      "execution_count": 2,
      "metadata": {
        "colab": {
          "base_uri": "https://localhost:8080/"
        },
        "id": "odFeCVWhAAr1",
        "outputId": "47cc8fdb-3ced-4393-839f-8bd294e4a773"
      },
      "outputs": [
        {
          "output_type": "stream",
          "name": "stdout",
          "text": [
            "Mounted at /content/drive\n"
          ]
        }
      ],
      "source": [
        "from google.colab import drive\n",
        "drive.mount('/content/drive')"
      ]
    },
    {
      "cell_type": "code",
      "source": [
        "import pandas as pd\n",
        "import numpy as np\n"
      ],
      "metadata": {
        "id": "blvFDF6cKLl1"
      },
      "execution_count": 3,
      "outputs": []
    },
    {
      "cell_type": "code",
      "source": [
        "df_combined=pd.read_csv(\"/content/drive/MyDrive/final project_NTI/Data/final data/completeDS1.csv\")"
      ],
      "metadata": {
        "id": "6t92p6JhKHTT"
      },
      "execution_count": 4,
      "outputs": []
    },
    {
      "cell_type": "code",
      "source": [
        "np.array(df_combined['body'][0])"
      ],
      "metadata": {
        "colab": {
          "base_uri": "https://localhost:8080/"
        },
        "id": "rfmuoDx_KX14",
        "outputId": "81fb3030-66ba-4f7a-a6c5-cab19d1ec2e0"
      },
      "execution_count": 5,
      "outputs": [
        {
          "output_type": "execute_result",
          "data": {
            "text/plain": [
              "array('منح مهرجان المركز الكاثوليكى الفنان الكبير يحيى الفخراني، جائزة الريادة السينمائية عن مجمل أعماله الفنية، وذلك\\xa0 في دورته الـ 71.ويمنح المهرجان جائزة المركز الخاصة للفنان مدحت صالح، وتذهب جائزة الإبداع الفني لكل من، الكاتب مدحت العدل، الموسيقار هشام نزيه، الناقد الفني نادر عدلي، مدير التصوير أيمن أبو المكارم، وتذهب جائزة التميز الإعلامى لـ محمود سعد.أما بالنسبة للأعمال الدرامية التي قُدمت عام 2022 فقد قررت اللجنة العًليا للمهرجان منح جائزة أحسن ممثلة في عمل درامي، للنجمة نيللى كريم عن دورها في مسلسل فاتن أمل حربي، جائزة أفضل ممثل عن دوره في مسلسل جزيرة غمام، وتذهب جائزة المركز التشجيعية للفنانة تارا عماد.وتشكّلت لجنة تحكيم مهرجان المركز الكاثوليكي المصري للسينما في دورته الحادية والسبعين برئاسة المخرج هاني لاشين، وعضوية كل\\xa0من: الفنانة ماجدة زكي، الفنان مجدي كامل، الفنانة التونسية عائشة بن أحمد، رئيس أكاديمية الفنون المونتيرة غادة جُبارة، مدير التصوير سامح سليم، الكاتبة والناقدة الفنية ناهد صلاح، والموسيقار خالد الكمّار.وكشفت اللجنة العُليا لمهرجان المركز الكاثوليكي المصري للسينما برئاسة الأب بطرس دانيال وعضوية كلاً من الأستاذ مجدي سامي والأستاذ ميشيل ماهر عن الخمسة أفلام المشارك بالمسابقة الرسمية لهذا العام بين خمسة وعشرين فيلماً عُرضت عرضاً تجارياً بدور السينما إلى جانب فيلمين عُرِضا عبر المنصات، ولأول مرة تختار اللجنة العُليا للمهرجان فيلماً تم عرضه بمهرجان قبل أن يُعرض تجارياً، وجميعهم من إنتاج عام 2022.والأفلام الخمسة التي تم اختيارها هي، \"ليلة قمر 14\" للمخرج هادى الباجورى، فيلم \"11:11\" للمخرج كريم أبو زيد، فيلم \"حدث في 2 طلعت حرب\" للمخرج مجدى أحمد على، فيلم \"كاملة\" للمخرج جون إكرام، فيلم \"الباب الأخضر\" للمخرج رؤوف عبد العزيز.',\n",
              "      dtype='<U1555')"
            ]
          },
          "metadata": {},
          "execution_count": 5
        }
      ]
    },
    {
      "cell_type": "code",
      "source": [
        "df_combined['category'].value_counts()"
      ],
      "metadata": {
        "colab": {
          "base_uri": "https://localhost:8080/"
        },
        "id": "FqUdnFbHKdil",
        "outputId": "ff919bc7-3a2a-4c66-a569-596f2d087577"
      },
      "execution_count": 6,
      "outputs": [
        {
          "output_type": "execute_result",
          "data": {
            "text/plain": [
              "ثقافة وفنون    10000\n",
              "حـوادث         10000\n",
              "اقتصاد         10000\n",
              "محافظات        10000\n",
              "رياضة          10000\n",
              "عرب وعالم      10000\n",
              "أخبار          10000\n",
              "Name: category, dtype: int64"
            ]
          },
          "metadata": {},
          "execution_count": 6
        }
      ]
    },
    {
      "cell_type": "code",
      "source": [
        "!pip install transformers"
      ],
      "metadata": {
        "colab": {
          "base_uri": "https://localhost:8080/"
        },
        "id": "ImPWBm06MJmt",
        "outputId": "587e7e88-bf50-4661-c175-0f5d410015db"
      },
      "execution_count": 7,
      "outputs": [
        {
          "output_type": "stream",
          "name": "stdout",
          "text": [
            "Looking in indexes: https://pypi.org/simple, https://us-python.pkg.dev/colab-wheels/public/simple/\n",
            "Collecting transformers\n",
            "  Downloading transformers-4.29.2-py3-none-any.whl (7.1 MB)\n",
            "\u001b[2K     \u001b[90m━━━━━━━━━━━━━━━━━━━━━━━━━━━━━━━━━━━━━━━━\u001b[0m \u001b[32m7.1/7.1 MB\u001b[0m \u001b[31m45.1 MB/s\u001b[0m eta \u001b[36m0:00:00\u001b[0m\n",
            "\u001b[?25hRequirement already satisfied: filelock in /usr/local/lib/python3.10/dist-packages (from transformers) (3.12.0)\n",
            "Collecting huggingface-hub<1.0,>=0.14.1 (from transformers)\n",
            "  Downloading huggingface_hub-0.14.1-py3-none-any.whl (224 kB)\n",
            "\u001b[2K     \u001b[90m━━━━━━━━━━━━━━━━━━━━━━━━━━━━━━━━━━━━━━\u001b[0m \u001b[32m224.5/224.5 kB\u001b[0m \u001b[31m16.6 MB/s\u001b[0m eta \u001b[36m0:00:00\u001b[0m\n",
            "\u001b[?25hRequirement already satisfied: numpy>=1.17 in /usr/local/lib/python3.10/dist-packages (from transformers) (1.22.4)\n",
            "Requirement already satisfied: packaging>=20.0 in /usr/local/lib/python3.10/dist-packages (from transformers) (23.1)\n",
            "Requirement already satisfied: pyyaml>=5.1 in /usr/local/lib/python3.10/dist-packages (from transformers) (6.0)\n",
            "Requirement already satisfied: regex!=2019.12.17 in /usr/local/lib/python3.10/dist-packages (from transformers) (2022.10.31)\n",
            "Requirement already satisfied: requests in /usr/local/lib/python3.10/dist-packages (from transformers) (2.27.1)\n",
            "Collecting tokenizers!=0.11.3,<0.14,>=0.11.1 (from transformers)\n",
            "  Downloading tokenizers-0.13.3-cp310-cp310-manylinux_2_17_x86_64.manylinux2014_x86_64.whl (7.8 MB)\n",
            "\u001b[2K     \u001b[90m━━━━━━━━━━━━━━━━━━━━━━━━━━━━━━━━━━━━━━━━\u001b[0m \u001b[32m7.8/7.8 MB\u001b[0m \u001b[31m88.6 MB/s\u001b[0m eta \u001b[36m0:00:00\u001b[0m\n",
            "\u001b[?25hRequirement already satisfied: tqdm>=4.27 in /usr/local/lib/python3.10/dist-packages (from transformers) (4.65.0)\n",
            "Requirement already satisfied: fsspec in /usr/local/lib/python3.10/dist-packages (from huggingface-hub<1.0,>=0.14.1->transformers) (2023.4.0)\n",
            "Requirement already satisfied: typing-extensions>=3.7.4.3 in /usr/local/lib/python3.10/dist-packages (from huggingface-hub<1.0,>=0.14.1->transformers) (4.5.0)\n",
            "Requirement already satisfied: urllib3<1.27,>=1.21.1 in /usr/local/lib/python3.10/dist-packages (from requests->transformers) (1.26.15)\n",
            "Requirement already satisfied: certifi>=2017.4.17 in /usr/local/lib/python3.10/dist-packages (from requests->transformers) (2022.12.7)\n",
            "Requirement already satisfied: charset-normalizer~=2.0.0 in /usr/local/lib/python3.10/dist-packages (from requests->transformers) (2.0.12)\n",
            "Requirement already satisfied: idna<4,>=2.5 in /usr/local/lib/python3.10/dist-packages (from requests->transformers) (3.4)\n",
            "Installing collected packages: tokenizers, huggingface-hub, transformers\n",
            "Successfully installed huggingface-hub-0.14.1 tokenizers-0.13.3 transformers-4.29.2\n"
          ]
        }
      ]
    },
    {
      "cell_type": "code",
      "source": [
        "from transformers import AutoTokenizer, AutoModelWithLMHead\n",
        "import torch\n",
        "import nltk\n",
        "nltk.download('punkt')\n",
        "from nltk.tokenize import sent_tokenize\n"
      ],
      "metadata": {
        "colab": {
          "base_uri": "https://localhost:8080/"
        },
        "id": "IIlaLWoBZuWp",
        "outputId": "44a3848b-f1db-4ad2-ff73-5b74348e96fd"
      },
      "execution_count": 9,
      "outputs": [
        {
          "output_type": "stream",
          "name": "stderr",
          "text": [
            "[nltk_data] Downloading package punkt to /root/nltk_data...\n",
            "[nltk_data]   Unzipping tokenizers/punkt.zip.\n"
          ]
        }
      ]
    },
    {
      "cell_type": "code",
      "source": [
        "#device = torch.device(\"cuda:0\" if torch.cuda.is_available() else \"cpu\")\n",
        "m_name = \"marefa-nlp/summarization-arabic-english-news\""
      ],
      "metadata": {
        "id": "w02ip94MZ7yV"
      },
      "execution_count": 11,
      "outputs": []
    },
    {
      "cell_type": "code",
      "source": [
        "tokenizer = AutoTokenizer.from_pretrained(m_name)\n",
        "model = AutoModelWithLMHead.from_pretrained(m_name)"
      ],
      "metadata": {
        "colab": {
          "base_uri": "https://localhost:8080/",
          "height": 49,
          "referenced_widgets": [
            "ee1d7765609349e3bbba705da1820600",
            "ca9daab967194144bf6d1b428289eca9",
            "633d1b0a518b414db2f70c3da291061c",
            "a2bfd8ba5ac34e609f51ff4cff7dcc46",
            "deedc74a7b39476097b0b5549d4b6338",
            "88b1fd89ffb649308538d19fa8755609",
            "8a14808df89f4c6381638af01d66f7ba",
            "a380f66b4fdf43929da2d12b80569d53",
            "6e58dd240f844150b6110954e7fab067",
            "03a93edc90514b0f8dfd6f7ddc2018dd",
            "b383b3cb18f84c75893ead9dd064dec1"
          ]
        },
        "id": "ZdldHBmvaDQ6",
        "outputId": "c7618e17-30ee-45c9-e4ca-056e96f53bf6"
      },
      "execution_count": 13,
      "outputs": [
        {
          "output_type": "display_data",
          "data": {
            "text/plain": [
              "Downloading pytorch_model.bin:   0%|          | 0.00/3.16G [00:00<?, ?B/s]"
            ],
            "application/vnd.jupyter.widget-view+json": {
              "version_major": 2,
              "version_minor": 0,
              "model_id": "ee1d7765609349e3bbba705da1820600"
            }
          },
          "metadata": {}
        }
      ]
    },
    {
      "cell_type": "code",
      "source": [
        "def get_summary(text, tokenizer, model, device=\"cpu\", num_beams=2):\n",
        "    if len(text.strip()) < 50:\n",
        "        return [\"Please provide more longer text\"]\n",
        "    \n",
        "    text = \"summarize: <paragraph> \" + \" <paragraph> \".join([ s.strip() for s in sent_tokenize(text) if s.strip() != \"\"]) + \" </s>\"\n",
        "    text = text.strip().replace(\"\\n\",\"\")\n",
        "    \n",
        "    tokenized_text = tokenizer.encode(text, return_tensors=\"pt\").to(device)\n",
        "    \n",
        "    summary_ids = model.generate(\n",
        "            tokenized_text,\n",
        "            max_length=512,\n",
        "            num_beams=num_beams,\n",
        "            repetition_penalty=1.5, \n",
        "            length_penalty=1.0, \n",
        "            early_stopping=True\n",
        "    )\n",
        "    \n",
        "    output = tokenizer.decode(summary_ids[0], skip_special_tokens=True)\n",
        "    return [ s.strip() for s in output.split(\"<hl>\") if s.strip() != \"\" ]"
      ],
      "metadata": {
        "id": "pYfd_dmUabUV"
      },
      "execution_count": 14,
      "outputs": []
    },
    {
      "cell_type": "code",
      "source": [],
      "metadata": {
        "id": "HUWM-4NMdaAu"
      },
      "execution_count": null,
      "outputs": []
    },
    {
      "cell_type": "code",
      "source": [
        "## Prepare Samples\n",
        "\n",
        "Body =df_combined['body'].values.tolist()\n",
        "\n",
        "\n"
      ],
      "metadata": {
        "id": "j4YeP0TlbdeN"
      },
      "execution_count": 15,
      "outputs": []
    },
    {
      "cell_type": "code",
      "source": [
        "print(\n",
        "  \n",
        "    Body[3]\n",
        "\n",
        "  \n",
        "    )"
      ],
      "metadata": {
        "colab": {
          "base_uri": "https://localhost:8080/"
        },
        "id": "4lHo6ARtZbDP",
        "outputId": "b6917e2d-56b3-4a6b-d9f1-3306a3ebbfb9"
      },
      "execution_count": 16,
      "outputs": [
        {
          "output_type": "stream",
          "name": "stdout",
          "text": [
            "انطلق منذ قليل حفل افتتاح مهرجان المركز الكاثوليكى للسينما في دورته الحادية والسبعين، والتى تستمر حتى 12 مايو برئاسة الأب بطرس دانيال.وكان من أبرز الحضور الفنان يحيى الفخراني وزوجته، والفنان محمود حميدة، والمطرب مدحت صالح، وعازفة الماريمبا نسمة عبدالعزيز، والمؤلف مدحت العدل، والفنان هامي رمزي.ويشهد الحفل، توزيع الجوائز للمكرمين حيث يمنح المهرجان جائزة «الريادة السينمائية» لكل من الفنان يحيى الفخرانى، ومحمود حميدة، والفنانة سهير رمزى، والفنانة هناء الشوربجى، كما يتم تكريم المخرجة إنعام محمد على، ومنحها جائزة «فريد المزاوى».ويكرم المهرجان فى دورته الحادية والسبعين، الفنان سامى مغاوى ومنحه جائزة «الأب يوسف مظلوم»، كما تذهب جائزة «المركز الخاصة» للفنان مدحت صالح، وتمنح جائزة «الإبداع الفنى لكل من؛ الكاتب والمؤلف مدحت العدل، والموسيقار هشام نزيه، والناقد الفنى نادر عدلى، ومدير التصوير أيمن أبو المكارم، وتذهب جائزة «التميّز الإعلامى» للإعلامى محمود سعد.يتنافس هذا العام على جوائز المهرجان خمسة أفلام هى «ليلة قمر 14» للمخرج هادى الباجورى، و«11:11» للمخرج كريم أبو زيد، و«حدث فى 2 طلعت حرب» للمخرج مجدى أحمد على، و«كاملة» للمخرج جون إكرام، و«الباب الأخضر» للمخرج رءوف عبدالعزيز، حيث وقع الاختيار على تلك الأفلام من بين خمسة وعشرين فيلما عُرضت تجاريا بدور العرض السينمائى إلى جانب فيلمين عُرِضا عبر المنصات، لأول مرة فى تاريخ المهرجان قبل عرضها تجاريا.وقررت اللجنة العليا للمهرجان، منح مجموعة من الجوائز لعدد من الفنانين عن أعمالهم الدرامية التى عرضت عام 2022، حيث تذهب جائزة «أحسن ممثلة فى عمل درامى» للفنانة نيللى كريم عن دورها فى مسلسل «فاتن أمل حربى»، ويمنح المهرجان جائزة «أحسن ممثل فى عمل درامى» للفنان أحمد أمين، عن دوره فى مسلسل «جزيرة غمام»، وتذهب جائزة «المركز التشجيعية» للفنانة تارا عماد.يترأس لجنة تحكيم مهرجان المركز الكاثوليكى للسينما فى دورته الحادية والسبعين المخرج هانى لاشين، وعضوية كل من؛ الفنانة ماجدة زكى، والفنان مجدى كامل، والفنانة عائشة بن أحمد، والدكتورة غادة جبارة رئيس أكاديمية الفنون، ومدير التصوير سامح سليم، والموسيقار خالد الكمّار والناقدة الفنية ناهد صلاح.\n"
          ]
        }
      ]
    },
    {
      "cell_type": "code",
      "source": [
        "## Get summaries\n",
        "\n",
        "print(\"Original Article:\", Body[3])\n",
        "print(\"\\n===========\\nSummary: \\n\")\n",
        "hls = get_summary(Body[3], tokenizer, model)\n",
        "print(hls)"
      ],
      "metadata": {
        "colab": {
          "base_uri": "https://localhost:8080/",
          "height": 146
        },
        "id": "PO548QS1ZgLn",
        "outputId": "7818189e-9efe-46e8-efa1-23b5517b88f3"
      },
      "execution_count": 18,
      "outputs": [
        {
          "output_type": "stream",
          "name": "stdout",
          "text": [
            "Original Article: انطلق منذ قليل حفل افتتاح مهرجان المركز الكاثوليكى للسينما في دورته الحادية والسبعين، والتى تستمر حتى 12 مايو برئاسة الأب بطرس دانيال.وكان من أبرز الحضور الفنان يحيى الفخراني وزوجته، والفنان محمود حميدة، والمطرب مدحت صالح، وعازفة الماريمبا نسمة عبدالعزيز، والمؤلف مدحت العدل، والفنان هامي رمزي.ويشهد الحفل، توزيع الجوائز للمكرمين حيث يمنح المهرجان جائزة «الريادة السينمائية» لكل من الفنان يحيى الفخرانى، ومحمود حميدة، والفنانة سهير رمزى، والفنانة هناء الشوربجى، كما يتم تكريم المخرجة إنعام محمد على، ومنحها جائزة «فريد المزاوى».ويكرم المهرجان فى دورته الحادية والسبعين، الفنان سامى مغاوى ومنحه جائزة «الأب يوسف مظلوم»، كما تذهب جائزة «المركز الخاصة» للفنان مدحت صالح، وتمنح جائزة «الإبداع الفنى لكل من؛ الكاتب والمؤلف مدحت العدل، والموسيقار هشام نزيه، والناقد الفنى نادر عدلى، ومدير التصوير أيمن أبو المكارم، وتذهب جائزة «التميّز الإعلامى» للإعلامى محمود سعد.يتنافس هذا العام على جوائز المهرجان خمسة أفلام هى «ليلة قمر 14» للمخرج هادى الباجورى، و«11:11» للمخرج كريم أبو زيد، و«حدث فى 2 طلعت حرب» للمخرج مجدى أحمد على، و«كاملة» للمخرج جون إكرام، و«الباب الأخضر» للمخرج رءوف عبدالعزيز، حيث وقع الاختيار على تلك الأفلام من بين خمسة وعشرين فيلما عُرضت تجاريا بدور العرض السينمائى إلى جانب فيلمين عُرِضا عبر المنصات، لأول مرة فى تاريخ المهرجان قبل عرضها تجاريا.وقررت اللجنة العليا للمهرجان، منح مجموعة من الجوائز لعدد من الفنانين عن أعمالهم الدرامية التى عرضت عام 2022، حيث تذهب جائزة «أحسن ممثلة فى عمل درامى» للفنانة نيللى كريم عن دورها فى مسلسل «فاتن أمل حربى»، ويمنح المهرجان جائزة «أحسن ممثل فى عمل درامى» للفنان أحمد أمين، عن دوره فى مسلسل «جزيرة غمام»، وتذهب جائزة «المركز التشجيعية» للفنانة تارا عماد.يترأس لجنة تحكيم مهرجان المركز الكاثوليكى للسينما فى دورته الحادية والسبعين المخرج هانى لاشين، وعضوية كل من؛ الفنانة ماجدة زكى، والفنان مجدى كامل، والفنانة عائشة بن أحمد، والدكتورة غادة جبارة رئيس أكاديمية الفنون، ومدير التصوير سامح سليم، والموسيقار خالد الكمّار والناقدة الفنية ناهد صلاح.\n",
            "\n",
            "===========\n",
            "Summary: \n",
            "\n",
            "['وقد أُقيم مهرجان المركز الكاثوليكى للسينما في دورته الحادية والسبعين.', 'ومن بين المكرمين الفنان يحيى الفخراني، والفنان محمود حميدة، والمطرب مدحت صالح، وعازفة الماريمبا نسمة عبد العزيز.']\n"
          ]
        }
      ]
    }
  ]
}