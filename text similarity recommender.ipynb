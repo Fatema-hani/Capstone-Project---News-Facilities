{
 "cells": [
  {
   "cell_type": "code",
   "execution_count": 1,
   "metadata": {},
   "outputs": [],
   "source": [
    "import pandas as pd\n",
    "from sklearn.feature_extraction.text import TfidfVectorizer\n",
    "from sklearn.metrics.pairwise import cosine_similarity\n"
   ]
  },
  {
   "cell_type": "code",
   "execution_count": 2,
   "metadata": {},
   "outputs": [],
   "source": [
    "from spacy.lang.en.stop_words import STOP_WORDS"
   ]
  },
  {
   "cell_type": "code",
   "execution_count": 3,
   "metadata": {},
   "outputs": [],
   "source": [
    "import spacy\n",
    "import re\n",
    "import string"
   ]
  },
  {
   "cell_type": "code",
   "execution_count": null,
   "metadata": {},
   "outputs": [],
   "source": [
    "stopwords = nltk.download('stopwords')\n",
    "stopwords"
   ]
  },
  {
   "cell_type": "code",
   "execution_count": 4,
   "metadata": {},
   "outputs": [],
   "source": [
    "import spacy\n",
    "import re\n",
    "import string\n",
    "import nltk\n",
    "\n",
    "from nltk.corpus import stopwords\n",
    "from nltk.tokenize import word_tokenize\n"
   ]
  },
  {
   "cell_type": "code",
   "execution_count": null,
   "metadata": {},
   "outputs": [],
   "source": [
    "!python -m spacy download en_core_web_lg"
   ]
  },
  {
   "cell_type": "code",
   "execution_count": null,
   "metadata": {},
   "outputs": [],
   "source": [
    "import en_core_web_sm"
   ]
  },
  {
   "cell_type": "code",
   "execution_count": 5,
   "metadata": {},
   "outputs": [],
   "source": [
    "import en_core_web_lg"
   ]
  },
  {
   "cell_type": "code",
   "execution_count": 83,
   "metadata": {},
   "outputs": [],
   "source": [
    "news_df = pd.read_csv('final_data.csv')"
   ]
  },
  {
   "cell_type": "code",
   "execution_count": 84,
   "metadata": {},
   "outputs": [
    {
     "data": {
      "text/plain": [
       "Index(['Unnamed: 0', 'hrefs', 'headline', 'briefing', 'body', 'category'], dtype='object')"
      ]
     },
     "execution_count": 84,
     "metadata": {},
     "output_type": "execute_result"
    }
   ],
   "source": [
    "news_df.columns"
   ]
  },
  {
   "cell_type": "code",
   "execution_count": 85,
   "metadata": {},
   "outputs": [],
   "source": [
    "news_df.drop('Unnamed: 0',axis=1,inplace=True)"
   ]
  },
  {
   "cell_type": "code",
   "execution_count": 86,
   "metadata": {},
   "outputs": [
    {
     "data": {
      "text/html": [
       "<div>\n",
       "<style scoped>\n",
       "    .dataframe tbody tr th:only-of-type {\n",
       "        vertical-align: middle;\n",
       "    }\n",
       "\n",
       "    .dataframe tbody tr th {\n",
       "        vertical-align: top;\n",
       "    }\n",
       "\n",
       "    .dataframe thead th {\n",
       "        text-align: right;\n",
       "    }\n",
       "</style>\n",
       "<table border=\"1\" class=\"dataframe\">\n",
       "  <thead>\n",
       "    <tr style=\"text-align: right;\">\n",
       "      <th></th>\n",
       "      <th>hrefs</th>\n",
       "      <th>headline</th>\n",
       "      <th>briefing</th>\n",
       "      <th>body</th>\n",
       "      <th>category</th>\n",
       "    </tr>\n",
       "  </thead>\n",
       "  <tbody>\n",
       "    <tr>\n",
       "      <th>20994</th>\n",
       "      <td>https://gate.ahram.org.eg/News/4122898.aspx</td>\n",
       "      <td>رئيس البورصة: متوسطات العائد على الاستثمار في ...</td>\n",
       "      <td>قال رامي الدكاني رئيس البورصة المصرية، إن سوق ...</td>\n",
       "      <td>Rami El Dokani, Chairman of the Egyptian Stock...</td>\n",
       "      <td>اقتصاد</td>\n",
       "    </tr>\n",
       "    <tr>\n",
       "      <th>20995</th>\n",
       "      <td>https://gate.ahram.org.eg/News/4122861.aspx</td>\n",
       "      <td>اهتمام خليجي كبير بالشركات المصرية المطروحة.. ...</td>\n",
       "      <td>عقد الوفد المصري الذي يضم القيادات التنفيذية ل...</td>\n",
       "      <td>The Egyptian delegation, which includes the ex...</td>\n",
       "      <td>اقتصاد</td>\n",
       "    </tr>\n",
       "    <tr>\n",
       "      <th>20996</th>\n",
       "      <td>https://gate.ahram.org.eg/News/4122808.aspx</td>\n",
       "      <td>وزيرة التعاون الدولي تستقبل نائب رئيس الوزراء ...</td>\n",
       "      <td>استقبلت الدكتورة رانيا المشاط، وزيرة التعاون ا...</td>\n",
       "      <td>Dr. Rania Al-Mashat, Minister of International...</td>\n",
       "      <td>اقتصاد</td>\n",
       "    </tr>\n",
       "    <tr>\n",
       "      <th>20997</th>\n",
       "      <td>https://gate.ahram.org.eg/News/4122801.aspx</td>\n",
       "      <td>الفيومي: الرقابة الإلكترونية على السلع تسهم في...</td>\n",
       "      <td>أشاد النائب الدكتور محمد عطية الفيومي، رئيس غر...</td>\n",
       "      <td>Representative Dr. Mohamed Attia Al-Fayoumi, P...</td>\n",
       "      <td>اقتصاد</td>\n",
       "    </tr>\n",
       "    <tr>\n",
       "      <th>20998</th>\n",
       "      <td>https://gate.ahram.org.eg/News/4122730.aspx</td>\n",
       "      <td>وزيرة التخطيط: معظم مشروعات الدولة تستهدف تنمي...</td>\n",
       "      <td>شاركت الدكتورة هالة السعيد، وزيرة التخطيط والت...</td>\n",
       "      <td>شاركت الدكتورة هالة السعيد، وزيرة التخطيط والت...</td>\n",
       "      <td>اقتصاد</td>\n",
       "    </tr>\n",
       "    <tr>\n",
       "      <th>20999</th>\n",
       "      <td>https://gate.ahram.org.eg/News/4122711.aspx</td>\n",
       "      <td>سعر الذهب اليوم الإثنين في مصر.. عيار 21 يسجل ...</td>\n",
       "      <td>سجل سعر الذهب اليوم الإثنين في مصر استقرارا في...</td>\n",
       "      <td>The price of gold recorded today, Monday, in E...</td>\n",
       "      <td>اقتصاد</td>\n",
       "    </tr>\n",
       "    <tr>\n",
       "      <th>21000</th>\n",
       "      <td>https://gate.ahram.org.eg/News/4122703.aspx</td>\n",
       "      <td>سعر اليورو اليوم الإثنين 20 فبراير 2023 في الس...</td>\n",
       "      <td>شهد سعر اليورو اليوم الإثنين، استقرارًا ملحوظً...</td>\n",
       "      <td>Today, Monday, the price of the euro witnessed...</td>\n",
       "      <td>اقتصاد</td>\n",
       "    </tr>\n",
       "    <tr>\n",
       "      <th>21001</th>\n",
       "      <td>https://gate.ahram.org.eg/News/4122674.aspx</td>\n",
       "      <td>وفد من الغرف التجارية يبحث سبل توفير عمالة مصر...</td>\n",
       "      <td>قال وزير القوى العاملة حسن شحاتة، إنه بصدد توق...</td>\n",
       "      <td>Minister of Manpower, Hassan Shehata, said tha...</td>\n",
       "      <td>اقتصاد</td>\n",
       "    </tr>\n",
       "    <tr>\n",
       "      <th>21002</th>\n",
       "      <td>https://gate.ahram.org.eg/News/4122669.aspx</td>\n",
       "      <td>​الضرائب: ورش العمل لتقديم الدعم الفني للممولي...</td>\n",
       "      <td>أعلن مختار توفيق، رئيس مصلحة الضرائب المصرية، ...</td>\n",
       "      <td>Mokhtar Tawfiq, Head of the Egyptian Tax Autho...</td>\n",
       "      <td>اقتصاد</td>\n",
       "    </tr>\n",
       "    <tr>\n",
       "      <th>21003</th>\n",
       "      <td>https://gate.ahram.org.eg/News/4122662.aspx</td>\n",
       "      <td>وزارة التموين: ارتفاع معدل توريد القصب إلى 3 م...</td>\n",
       "      <td>أكدت شركة السكر والصناعات التكاملية التابعة لل...</td>\n",
       "      <td>The Sugar and Integrated Industries Company of...</td>\n",
       "      <td>اقتصاد</td>\n",
       "    </tr>\n",
       "  </tbody>\n",
       "</table>\n",
       "</div>"
      ],
      "text/plain": [
       "                                             hrefs  \\\n",
       "20994  https://gate.ahram.org.eg/News/4122898.aspx   \n",
       "20995  https://gate.ahram.org.eg/News/4122861.aspx   \n",
       "20996  https://gate.ahram.org.eg/News/4122808.aspx   \n",
       "20997  https://gate.ahram.org.eg/News/4122801.aspx   \n",
       "20998  https://gate.ahram.org.eg/News/4122730.aspx   \n",
       "20999  https://gate.ahram.org.eg/News/4122711.aspx   \n",
       "21000  https://gate.ahram.org.eg/News/4122703.aspx   \n",
       "21001  https://gate.ahram.org.eg/News/4122674.aspx   \n",
       "21002  https://gate.ahram.org.eg/News/4122669.aspx   \n",
       "21003  https://gate.ahram.org.eg/News/4122662.aspx   \n",
       "\n",
       "                                                headline  \\\n",
       "20994  رئيس البورصة: متوسطات العائد على الاستثمار في ...   \n",
       "20995  اهتمام خليجي كبير بالشركات المصرية المطروحة.. ...   \n",
       "20996  وزيرة التعاون الدولي تستقبل نائب رئيس الوزراء ...   \n",
       "20997  الفيومي: الرقابة الإلكترونية على السلع تسهم في...   \n",
       "20998  وزيرة التخطيط: معظم مشروعات الدولة تستهدف تنمي...   \n",
       "20999  سعر الذهب اليوم الإثنين في مصر.. عيار 21 يسجل ...   \n",
       "21000  سعر اليورو اليوم الإثنين 20 فبراير 2023 في الس...   \n",
       "21001  وفد من الغرف التجارية يبحث سبل توفير عمالة مصر...   \n",
       "21002  ​الضرائب: ورش العمل لتقديم الدعم الفني للممولي...   \n",
       "21003  وزارة التموين: ارتفاع معدل توريد القصب إلى 3 م...   \n",
       "\n",
       "                                                briefing  \\\n",
       "20994  قال رامي الدكاني رئيس البورصة المصرية، إن سوق ...   \n",
       "20995  عقد الوفد المصري الذي يضم القيادات التنفيذية ل...   \n",
       "20996  استقبلت الدكتورة رانيا المشاط، وزيرة التعاون ا...   \n",
       "20997  أشاد النائب الدكتور محمد عطية الفيومي، رئيس غر...   \n",
       "20998  شاركت الدكتورة هالة السعيد، وزيرة التخطيط والت...   \n",
       "20999  سجل سعر الذهب اليوم الإثنين في مصر استقرارا في...   \n",
       "21000  شهد سعر اليورو اليوم الإثنين، استقرارًا ملحوظً...   \n",
       "21001  قال وزير القوى العاملة حسن شحاتة، إنه بصدد توق...   \n",
       "21002  أعلن مختار توفيق، رئيس مصلحة الضرائب المصرية، ...   \n",
       "21003  أكدت شركة السكر والصناعات التكاملية التابعة لل...   \n",
       "\n",
       "                                                    body category  \n",
       "20994  Rami El Dokani, Chairman of the Egyptian Stock...   اقتصاد  \n",
       "20995  The Egyptian delegation, which includes the ex...   اقتصاد  \n",
       "20996  Dr. Rania Al-Mashat, Minister of International...   اقتصاد  \n",
       "20997  Representative Dr. Mohamed Attia Al-Fayoumi, P...   اقتصاد  \n",
       "20998  شاركت الدكتورة هالة السعيد، وزيرة التخطيط والت...   اقتصاد  \n",
       "20999  The price of gold recorded today, Monday, in E...   اقتصاد  \n",
       "21000  Today, Monday, the price of the euro witnessed...   اقتصاد  \n",
       "21001  Minister of Manpower, Hassan Shehata, said tha...   اقتصاد  \n",
       "21002  Mokhtar Tawfiq, Head of the Egyptian Tax Autho...   اقتصاد  \n",
       "21003  The Sugar and Integrated Industries Company of...   اقتصاد  "
      ]
     },
     "execution_count": 86,
     "metadata": {},
     "output_type": "execute_result"
    }
   ],
   "source": [
    "news_df.tail(10)"
   ]
  },
  {
   "cell_type": "code",
   "execution_count": null,
   "metadata": {},
   "outputs": [],
   "source": []
  },
  {
   "cell_type": "code",
   "execution_count": null,
   "metadata": {},
   "outputs": [],
   "source": [
    "news_df.category.value_counts()"
   ]
  },
  {
   "cell_type": "code",
   "execution_count": 96,
   "metadata": {},
   "outputs": [],
   "source": [
    "\n",
    "import arabic_reshaper\n",
    "from bidi.algorithm import get_display\n",
    "\n",
    "def drop_arabic_entries(df):\n",
    "\n",
    "    # Iterate over each row in the dataframe\n",
    "    for index, row in df.iterrows():\n",
    "        # Convert the text to Unicode and reshape it using arabic_reshaper\n",
    "        text = row['body']\n",
    "        reshaped_text = arabic_reshaper.reshape(text)\n",
    "\n",
    "        # Check if the reshaped text contains any Arabic characters\n",
    "        if any('\\u0600' <= char <= '\\u06FF' for char in reshaped_text):\n",
    "            # If the text contains Arabic characters, drop the row from the dataframe\n",
    "            df.drop(index, inplace=True)\n",
    "\n",
    "    # Reset the index of the dataframe\n",
    "    df.reset_index(drop=True, inplace=True)\n",
    "\n",
    "    return df"
   ]
  },
  {
   "cell_type": "code",
   "execution_count": 92,
   "metadata": {},
   "outputs": [],
   "source": [
    "arabic_pattern = re.compile('[\\u0600-\\u06FF]+')\n",
    "\n",
    "# Define a function to check if a string contains Arabic text\n",
    "def contains_arabic(text):\n",
    "    return bool(arabic_pattern.search(text))"
   ]
  },
  {
   "cell_type": "code",
   "execution_count": 93,
   "metadata": {},
   "outputs": [],
   "source": [
    "news_df['text'] = news_df['body'].apply(contains_arabic)"
   ]
  },
  {
   "cell_type": "code",
   "execution_count": 99,
   "metadata": {},
   "outputs": [
    {
     "data": {
      "text/plain": [
       "0"
      ]
     },
     "execution_count": 99,
     "metadata": {},
     "output_type": "execute_result"
    }
   ],
   "source": [
    "news_df['text'].sum()"
   ]
  },
  {
   "cell_type": "code",
   "execution_count": 98,
   "metadata": {},
   "outputs": [
    {
     "data": {
      "text/plain": [
       "(20230, 6)"
      ]
     },
     "execution_count": 98,
     "metadata": {},
     "output_type": "execute_result"
    }
   ],
   "source": [
    "news_df.shape"
   ]
  },
  {
   "cell_type": "code",
   "execution_count": 103,
   "metadata": {},
   "outputs": [],
   "source": [
    "news_df.drop('category',axis=1,inplace=True)"
   ]
  },
  {
   "cell_type": "code",
   "execution_count": 106,
   "metadata": {},
   "outputs": [],
   "source": [
    "news_df.drop('text',axis=1,inplace=True)"
   ]
  },
  {
   "cell_type": "code",
   "execution_count": 107,
   "metadata": {},
   "outputs": [
    {
     "data": {
      "text/plain": [
       "Index(['hrefs', 'headline', 'briefing', 'body'], dtype='object')"
      ]
     },
     "execution_count": 107,
     "metadata": {},
     "output_type": "execute_result"
    }
   ],
   "source": [
    "news_df.columns"
   ]
  },
  {
   "cell_type": "code",
   "execution_count": 125,
   "metadata": {},
   "outputs": [
    {
     "data": {
      "text/plain": [
       "\"Engineer Tarek ElMolla Minister Petroleum Mineral Resources stress importance petrochemical industry project ministry ' strategy give project support maximize product revenue capability light distinguished product offer meet need local market support development effort Egypt he also thank company ' management employee the outstanding performance achieve company year this come attendance meeting General Assembly Egyptian Company Production ethylene derivative ETHYDCO via video conference approve result company business year for part Eng Mohamed Abdel Moneim Saleh President ETHIDCO review important business result for year explaining provide outstanding performance standard whether term production sale despite condition global economy impose RussianUkrainian crisis consequent decrease demand polyethylene product global price fierce competition companys product face international product Engineer Mohamed Abdel Moneim Saleh thank Eng Tarek El Molla Minister Petroleum Mineral Resources full support company achieve good rate year year during Ethydco successfully achieve production plan company ' production ethylene reach thousand ton production plan increase thousand ton compare last year polyethylene production reach thousand ton production plan increase thousand ton last year he also explain company achieve increase production plan thank continuous improvement production process development effective maintenance program maximize raw material reduce production loss reduce factory stoppage in term sale companys sale volume polyethylene product reach thousand ton year total sale value amount million the company double sale volume local market meet polyethylene need and reduce dependence import the company also achieve year net profit million increase last year estimate million equivalent net profit last year high net profit company achieve since operation base Ministrys strategy implement Operations Safety Management System company succeed year obtain performance evaluation certificate Operations Safety Management DNVGL become ETHIDCO one first company petroleum sector obtain certificate the company also qualify final list project Safety Egyptian International Energy Conference egyps process safety project in field comprehensive quality company obtain ISO certificate field information communication security management it also succeed obtain international accreditation certificate use number polyethylene product pharmaceutical application believe company ' role towards community development keen play effective role field health education community contribution an extraordinary general assembly also hold amend article company ' article association the General Assembly attend Eng Ibrahim AbdelQader Mekky Chairman Board Directors Egyptian Petrochemical Holding Company geologist Alaa ElBatal CEO Petroleum Authority Dr Magdy Galal Chairman Egyptian Natural Gas Holding Company ega accountant Hisham Nour ElDin Head Central Administration Minister ' office number leader the Ministry Petroleum Petrochemical Holding Company Petroleum Authority accountant Abdel Hamid Mohamed Undersecretary Ministry Central Auditing Organization\""
      ]
     },
     "execution_count": 125,
     "metadata": {},
     "output_type": "execute_result"
    }
   ],
   "source": [
    "max(news_df.new_body.tolist(), key=len)"
   ]
  },
  {
   "cell_type": "code",
   "execution_count": 7,
   "metadata": {},
   "outputs": [],
   "source": [
    "nlp = spacy.load('en_core_web_lg')\n",
    "\n",
    "nlp = en_core_web_lg.load()\n"
   ]
  },
  {
   "cell_type": "code",
   "execution_count": null,
   "metadata": {},
   "outputs": [],
   "source": [
    "nltk.download('punkt')"
   ]
  },
  {
   "cell_type": "code",
   "execution_count": 113,
   "metadata": {},
   "outputs": [],
   "source": [
    "def remove_punc(news_text):\n",
    "    result = re.sub(r'[0-9]+', '', news_text)\n",
    "    text = re.compile('[%s]' % re.escape(string.punctuation)).sub('', result)\n",
    "    return text"
   ]
  },
  {
   "cell_type": "code",
   "execution_count": 14,
   "metadata": {},
   "outputs": [],
   "source": [
    "\n",
    "# Load the stop words\n",
    "stop_words = set(stopwords.words('english'))\n"
   ]
  },
  {
   "cell_type": "code",
   "execution_count": 114,
   "metadata": {},
   "outputs": [],
   "source": [
    "def remove_stop(the_text):\n",
    "  # Tokenize the text into words\n",
    "  words = word_tokenize(the_text)\n",
    "\n",
    "  # Filter out the stop words from the text\n",
    "  filtered_words = [word for word in words if not word in stop_words]\n",
    "\n",
    "  # Join the filtered words into a string\n",
    "  filtered_text = ' '.join(filtered_words)\n",
    "\n",
    "  # return the filtered text\n",
    "  return(filtered_text)"
   ]
  },
  {
   "cell_type": "code",
   "execution_count": 115,
   "metadata": {},
   "outputs": [],
   "source": [
    "def lemm(text):\n",
    "    lemme=[]\n",
    "    for token in nlp(text):\n",
    "        lemme.append(token.lemma_)\n",
    "\n",
    "    return \" \".join(lemme)"
   ]
  },
  {
   "cell_type": "code",
   "execution_count": 116,
   "metadata": {},
   "outputs": [],
   "source": [
    "def preprocessing_text(text):\n",
    "    text = remove_punc(text)\n",
    "    text = remove_stop(text)\n",
    "    text = lemm(text)\n",
    "    return text"
   ]
  },
  {
   "cell_type": "code",
   "execution_count": 122,
   "metadata": {},
   "outputs": [],
   "source": [
    "news_df['new_body'] = news_df['body'].apply(preprocessing_text)"
   ]
  },
  {
   "cell_type": "code",
   "execution_count": 123,
   "metadata": {},
   "outputs": [
    {
     "data": {
      "text/html": [
       "<div>\n",
       "<style scoped>\n",
       "    .dataframe tbody tr th:only-of-type {\n",
       "        vertical-align: middle;\n",
       "    }\n",
       "\n",
       "    .dataframe tbody tr th {\n",
       "        vertical-align: top;\n",
       "    }\n",
       "\n",
       "    .dataframe thead th {\n",
       "        text-align: right;\n",
       "    }\n",
       "</style>\n",
       "<table border=\"1\" class=\"dataframe\">\n",
       "  <thead>\n",
       "    <tr style=\"text-align: right;\">\n",
       "      <th></th>\n",
       "      <th>hrefs</th>\n",
       "      <th>headline</th>\n",
       "      <th>briefing</th>\n",
       "      <th>body</th>\n",
       "      <th>new_body</th>\n",
       "    </tr>\n",
       "  </thead>\n",
       "  <tbody>\n",
       "    <tr>\n",
       "      <th>0</th>\n",
       "      <td>https://gate.ahram.org.eg/News/4272955.aspx</td>\n",
       "      <td>محافظ الغربية يتابع الاستعدادات النهائية لامتح...</td>\n",
       "      <td>التقى الدكتور طارق رحمي محافظ الغربية، بالمهند...</td>\n",
       "      <td>Dr. Tariq Rahmi, Governor of Gharbia, met with...</td>\n",
       "      <td>Dr Tariq Rahmi Governor Gharbia meet Eng Nasse...</td>\n",
       "    </tr>\n",
       "    <tr>\n",
       "      <th>1</th>\n",
       "      <td>https://gate.ahram.org.eg/News/4272956.aspx</td>\n",
       "      <td>\"الشباب والرياضة\" بالأقصر تنفذ ندوات عن التوعي...</td>\n",
       "      <td>نفذت إدارة تنمية الشباب بمديرية الشباب والرياض...</td>\n",
       "      <td>The Department of Youth Development at the Dir...</td>\n",
       "      <td>the Department Youth Development Directorate Y...</td>\n",
       "    </tr>\n",
       "    <tr>\n",
       "      <th>2</th>\n",
       "      <td>https://gate.ahram.org.eg/News/4272936.aspx</td>\n",
       "      <td>متابعة عمل الوحدات الصحية والمراكز الطبية في 7...</td>\n",
       "      <td>قامت إدارة المتابعة بمديرية الشئون الصحية بمحا...</td>\n",
       "      <td>Today, Friday, the Follow-up Department of the...</td>\n",
       "      <td>today Friday Followup Department Directorate H...</td>\n",
       "    </tr>\n",
       "    <tr>\n",
       "      <th>3</th>\n",
       "      <td>https://gate.ahram.org.eg/News/4272934.aspx</td>\n",
       "      <td>اعتماد ملعب مركز شباب الصلعا كأول ملعب لـ«المي...</td>\n",
       "      <td>قام أحمد سمير، رئيس الاتحاد المصرى للميني فوتب...</td>\n",
       "      <td>Ahmed Samir, President of the Egyptian Federat...</td>\n",
       "      <td>Ahmed Samir President Egyptian Federation Mini...</td>\n",
       "    </tr>\n",
       "    <tr>\n",
       "      <th>4</th>\n",
       "      <td>https://gate.ahram.org.eg/News/4272941.aspx</td>\n",
       "      <td>إخماد حريق فى أرض مزروعة بالقمح في مركز الحامو...</td>\n",
       "      <td>تمكنت قوات الحماية المدنية بمركز الحامول فى كف...</td>\n",
       "      <td>The Civil Protection Forces at Al-Hamoul Cente...</td>\n",
       "      <td>the Civil Protection Forces AlHamoul Center Ka...</td>\n",
       "    </tr>\n",
       "  </tbody>\n",
       "</table>\n",
       "</div>"
      ],
      "text/plain": [
       "                                         hrefs  \\\n",
       "0  https://gate.ahram.org.eg/News/4272955.aspx   \n",
       "1  https://gate.ahram.org.eg/News/4272956.aspx   \n",
       "2  https://gate.ahram.org.eg/News/4272936.aspx   \n",
       "3  https://gate.ahram.org.eg/News/4272934.aspx   \n",
       "4  https://gate.ahram.org.eg/News/4272941.aspx   \n",
       "\n",
       "                                            headline  \\\n",
       "0  محافظ الغربية يتابع الاستعدادات النهائية لامتح...   \n",
       "1  \"الشباب والرياضة\" بالأقصر تنفذ ندوات عن التوعي...   \n",
       "2  متابعة عمل الوحدات الصحية والمراكز الطبية في 7...   \n",
       "3  اعتماد ملعب مركز شباب الصلعا كأول ملعب لـ«المي...   \n",
       "4  إخماد حريق فى أرض مزروعة بالقمح في مركز الحامو...   \n",
       "\n",
       "                                            briefing  \\\n",
       "0  التقى الدكتور طارق رحمي محافظ الغربية، بالمهند...   \n",
       "1  نفذت إدارة تنمية الشباب بمديرية الشباب والرياض...   \n",
       "2  قامت إدارة المتابعة بمديرية الشئون الصحية بمحا...   \n",
       "3  قام أحمد سمير، رئيس الاتحاد المصرى للميني فوتب...   \n",
       "4  تمكنت قوات الحماية المدنية بمركز الحامول فى كف...   \n",
       "\n",
       "                                                body  \\\n",
       "0  Dr. Tariq Rahmi, Governor of Gharbia, met with...   \n",
       "1  The Department of Youth Development at the Dir...   \n",
       "2  Today, Friday, the Follow-up Department of the...   \n",
       "3  Ahmed Samir, President of the Egyptian Federat...   \n",
       "4  The Civil Protection Forces at Al-Hamoul Cente...   \n",
       "\n",
       "                                            new_body  \n",
       "0  Dr Tariq Rahmi Governor Gharbia meet Eng Nasse...  \n",
       "1  the Department Youth Development Directorate Y...  \n",
       "2  today Friday Followup Department Directorate H...  \n",
       "3  Ahmed Samir President Egyptian Federation Mini...  \n",
       "4  the Civil Protection Forces AlHamoul Center Ka...  "
      ]
     },
     "execution_count": 123,
     "metadata": {},
     "output_type": "execute_result"
    }
   ],
   "source": [
    "news_df.head(5)"
   ]
  },
  {
   "cell_type": "code",
   "execution_count": 126,
   "metadata": {},
   "outputs": [],
   "source": [
    "news_df.drop('body',axis=1,inplace=True)"
   ]
  },
  {
   "cell_type": "code",
   "execution_count": 127,
   "metadata": {},
   "outputs": [
    {
     "data": {
      "text/plain": [
       "Index(['hrefs', 'headline', 'briefing', 'new_body'], dtype='object')"
      ]
     },
     "execution_count": 127,
     "metadata": {},
     "output_type": "execute_result"
    }
   ],
   "source": [
    "news_df.columns"
   ]
  },
  {
   "cell_type": "code",
   "execution_count": 147,
   "metadata": {},
   "outputs": [],
   "source": [
    "news_df.to_csv('app_data.csv')"
   ]
  },
  {
   "cell_type": "code",
   "execution_count": 128,
   "metadata": {},
   "outputs": [],
   "source": [
    "# Initialize a TfidfVectorizer\n",
    "tfidf_vectorizer = TfidfVectorizer(max_features=5000 , ngram_range=(1, 3) )"
   ]
  },
  {
   "cell_type": "code",
   "execution_count": 130,
   "metadata": {},
   "outputs": [
    {
     "data": {
      "text/plain": [
       "TfidfVectorizer(max_features=5000, ngram_range=(1, 3))"
      ]
     },
     "execution_count": 130,
     "metadata": {},
     "output_type": "execute_result"
    }
   ],
   "source": [
    "tfidf_vectorizer.fit(news_df.new_body)"
   ]
  },
  {
   "cell_type": "code",
   "execution_count": 214,
   "metadata": {},
   "outputs": [],
   "source": [
    "from joblib import dump, load"
   ]
  },
  {
   "cell_type": "code",
   "execution_count": 211,
   "metadata": {},
   "outputs": [],
   "source": [
    "with open('lda.pkl', 'rb') as f:\n",
    "    lda = pickle.load(f)"
   ]
  },
  {
   "cell_type": "code",
   "execution_count": 237,
   "metadata": {},
   "outputs": [
    {
     "data": {
      "text/plain": [
       "'today Friday Followup Department Directorate Health Affairs Kafr ElSheikh Governorate head Muhammad Ramadan Jaadr Director Department visit health unit affiliate administration Fowah Riyadh AlHamoul Bella Sidi Salem Desouq Qulin affiliate medical center ensure regular work in unit presence doctor worker availability medicine necessary treat emergency case part continuous effort follow medical service provide health sector Kafr ElSheikh for seven center Health Department Nursing School Riyadh Salqa Unit Salamiyah Unit affiliate Fowah Center Medical Center Saffron Unit Health Administration Hamoul Bahnasi Units AlMasry Infantry Unit AlNouri Unit Health Administration Sidi Salem Center Monitoring progress work Hazek unit file department health department Pella medical center joint laboratory Desouk health department Shabrato unit Sarwa unit file department health department Qalin center inspect general situation unit term infrastructure equipment availability medicine supply presence manpower job the committee praise extent administrative technical discipline presence doctor nurse thank medical administrative staff unit effort exert provide distinguished health service citizen'"
      ]
     },
     "execution_count": 237,
     "metadata": {},
     "output_type": "execute_result"
    }
   ],
   "source": [
    "news_df.new_body[2]"
   ]
  },
  {
   "cell_type": "code",
   "execution_count": 271,
   "metadata": {},
   "outputs": [],
   "source": [
    "rania = tfidf_vectorizer2.transform([news_df.new_body[19997]])"
   ]
  },
  {
   "cell_type": "code",
   "execution_count": 272,
   "metadata": {},
   "outputs": [
    {
     "data": {
      "text/plain": [
       "array([2], dtype=int64)"
      ]
     },
     "execution_count": 272,
     "metadata": {},
     "output_type": "execute_result"
    }
   ],
   "source": [
    "ml.predict(rania)"
   ]
  },
  {
   "cell_type": "code",
   "execution_count": 131,
   "metadata": {},
   "outputs": [],
   "source": [
    "# Fit and transform the news article texts\n",
    "tfidf_matrix = tfidf_vectorizer.transform(news_df.new_body)"
   ]
  },
  {
   "cell_type": "code",
   "execution_count": 138,
   "metadata": {},
   "outputs": [],
   "source": [
    "input_article = news_df.new_body[22]"
   ]
  },
  {
   "cell_type": "code",
   "execution_count": 132,
   "metadata": {},
   "outputs": [
    {
     "data": {
      "text/plain": [
       "'Edfu Marsa Alam road witness car rollover accident border Aswan governorate today Friday result injury people people immediately ambulance dispatch transfer injure Edfu General Hospital necessary medical examination conduct Citizens the necessary report issue incident Public Prosecution notify begin investigation order reach reason behind'"
      ]
     },
     "execution_count": 132,
     "metadata": {},
     "output_type": "execute_result"
    }
   ],
   "source": [
    "news_df.new_body[22]"
   ]
  },
  {
   "cell_type": "code",
   "execution_count": 134,
   "metadata": {},
   "outputs": [],
   "source": [
    "# Define a function to recommend similar articles\n",
    "def recommend_similar_articles(article_text, tfidf_matrix=tfidf_matrix, news_df=news):\n",
    "    \n",
    "    # Transform the input article text into a TF-IDF vector\n",
    "    article_tfidf = tfidf_vectorizer.transform([article_text])\n",
    "\n",
    "    # Compute the cosine similarity between the input article and all other articles\n",
    "    cosine_similarities = cosine_similarity(article_tfidf, tfidf_matrix)\n",
    "\n",
    "    # Get the index of the most similar article\n",
    "    similar_article_index = cosine_similarities.argmax()\n",
    "  \n",
    "    recommended_article_indices = cosine_similarity(tfidf_matrix[similar_article_index], tfidf_matrix).argsort()[0][-6:-1][::-1]\n",
    "\n",
    "    return recommended_article_indices"
   ]
  },
  {
   "cell_type": "code",
   "execution_count": 139,
   "metadata": {},
   "outputs": [
    {
     "name": "stdout",
     "output_type": "stream",
     "text": [
      "[16337 15036   319   151 14628]\n"
     ]
    }
   ],
   "source": [
    "# Test the function by recommending similar articles for a sample article\n",
    "\n",
    "recommended_articles = recommend_similar_articles(input_article)\n",
    "print(recommended_articles)"
   ]
  },
  {
   "cell_type": "code",
   "execution_count": 142,
   "metadata": {},
   "outputs": [
    {
     "data": {
      "text/plain": [
       "'today Suez Road witness microbus accident result injury people separate injury injure transfer emergency department Suez General Hospital receive necessary treatment in Suez microbus overturn injury immediately director ambulance facility direct ambulance accident site provide necessary first aid transfer injure hospital treatment it find microbus involve overturn accident accident result injury a force direct from secure road inspect accident find microbus car carry people head Cairo Suez overturn accident result injured people transfer emergency department Suez General Hospital necessary examination rumor conduct determine health status injure person a report accident competent authority begin investigate circumstance cause accident trace accident remove road'"
      ]
     },
     "execution_count": 142,
     "metadata": {},
     "output_type": "execute_result"
    }
   ],
   "source": [
    "news_df.new_body[319]"
   ]
  },
  {
   "cell_type": "code",
   "execution_count": null,
   "metadata": {},
   "outputs": [],
   "source": [
    "news.headline[recommended_articles[0]]"
   ]
  },
  {
   "cell_type": "code",
   "execution_count": 45,
   "metadata": {},
   "outputs": [],
   "source": [
    "import googletrans"
   ]
  },
  {
   "cell_type": "code",
   "execution_count": 39,
   "metadata": {},
   "outputs": [],
   "source": [
    "from googletrans import Translator"
   ]
  },
  {
   "cell_type": "code",
   "execution_count": 36,
   "metadata": {},
   "outputs": [],
   "source": [
    "# Set up the translator\n",
    "translator = Translator()"
   ]
  },
  {
   "cell_type": "code",
   "execution_count": 40,
   "metadata": {},
   "outputs": [
    {
     "name": "stdout",
     "output_type": "stream",
     "text": [
      "The boy was playing ball in the field with his friends until midnight, then his mother called him and told him to come home.\n"
     ]
    }
   ],
   "source": [
    "translation = translator.translate(cell, src='ar', dest='en')\n",
    "print(translation.text)"
   ]
  },
  {
   "cell_type": "code",
   "execution_count": null,
   "metadata": {},
   "outputs": [],
   "source": [
    "\n",
    "# Define the two texts to compare\n",
    "text1 = news.body[22]\n",
    "text2 = news.iloc[369]['body']\n",
    "# Initialize a TfidfVectorizer\n",
    "tfidf_vectorizer5 = TfidfVectorizer()\n",
    "\n",
    "# Fit and transform the texts\n",
    "tfidf_matrix5 = tfidf_vectorizer5.fit_transform([text1, text2])\n",
    "\n",
    "# Compute the cosine similarity between the two texts\n",
    "cosine_similarities5 = cosine_similarity(tfidf_matrix5[0], tfidf_matrix5[1])\n",
    "\n",
    "# Print the cosine similarity score\n",
    "print(\"Cosine similarity score:\", cosine_similarities5[0][0])"
   ]
  },
  {
   "cell_type": "code",
   "execution_count": null,
   "metadata": {},
   "outputs": [],
   "source": []
  },
  {
   "cell_type": "code",
   "execution_count": null,
   "metadata": {},
   "outputs": [],
   "source": [
    "%%writefile re.py\n",
    "\n",
    "import streamlit as st\n",
    "import pandas as pd\n",
    "from sklearn.feature_extraction.text import TfidfVectorizer\n",
    "from sklearn.metrics.pairwise import cosine_similarity\n",
    "from nltk.corpus import stopwords\n",
    "from nltk.tokenize import word_tokenize\n",
    "import en_core_web_lg\n",
    "import spacy\n",
    "import re\n",
    "import string\n",
    "import nltk\n",
    "import pkg_resources\n",
    "pkg_resources.require(\"googletrans==3.1.0a0\")\n",
    "import googletrans\n",
    "from googletrans import Translator\n",
    "import pickle\n",
    "\n",
    "nltk.download('punkt')\n",
    "nltk.download('stopwords')\n",
    "stop_words = set(stopwords.words('english'))\n",
    "\n",
    "# ------------------------------------------------------------------------------------------------------\n",
    "\n",
    "# Set the page configuration\n",
    "st.set_page_config(page_title=\"News Recommender App\", page_icon=\":guardsman:\", \n",
    "                   layout=\"wide\", initial_sidebar_state=\"expanded\")\n",
    "\n",
    "# Define the theme settings\n",
    "st.markdown(\"\"\"\n",
    "<style>\n",
    "body {\n",
    "    font-family: 'Segoe UI', sans-serif;\n",
    "    color: #333333;\n",
    "    background-color: #483D8B;\n",
    "}\n",
    "h1 {\n",
    "    font-size: 48px;\n",
    "    color: #0072b2;\n",
    "}\n",
    "h2 {\n",
    "    font-size: 36px;\n",
    "    color: #009e73;\n",
    "}\n",
    "</style>\n",
    "\"\"\", unsafe_allow_html=True)\n",
    "\n",
    "st.sidebar.success(\"Select a tool above.\")\n",
    "\n",
    "# ----------------------------------------------------------------------------------------------------------- #\n",
    "# defining a fuction to remove punctuations\n",
    "def remove_punc(news_text):\n",
    "    result = re.sub(r'[0-9]+', '', news_text)\n",
    "    text = re.compile('[%s]' % re.escape(string.punctuation)).sub('', result)\n",
    "    return text\n",
    "\n",
    "# defining a function to remove stop words\n",
    "def remove_stop(the_text):\n",
    "  # Tokenize the text into words\n",
    "  words = word_tokenize(the_text)\n",
    "\n",
    "  # Filter out the stop words from the text\n",
    "  filtered_words = [word for word in words if not word in stop_words]\n",
    "\n",
    "  # Join the filtered words into a string\n",
    "  filtered_text = ' '.join(filtered_words)\n",
    "\n",
    "  # return the filtered text\n",
    "  return(filtered_text)\n",
    "\n",
    "# prepare spacy model for lemmatization\n",
    "nlp = spacy.load('en_core_web_lg')\n",
    "nlp = en_core_web_lg.load()\n",
    "\n",
    "\n",
    "# defining lemmatization function\n",
    "def lemm(text):\n",
    "    lemme=[]\n",
    "    for token in nlp(text):\n",
    "        lemme.append(token.lemma_)\n",
    "\n",
    "    return \" \".join(lemme)\n",
    "\n",
    "\n",
    "# defining a fuction that combines all preprocessing steps needed\n",
    "def preprocessing_text(text):\n",
    "    text = remove_punc(text)\n",
    "    text = remove_stop(text)\n",
    "    text = lemm(text)\n",
    "    return text\n",
    "\n",
    "# ------------------------------------------------------------------------------------------------------ #\n",
    "\n",
    "def main():\n",
    "    \n",
    "    # Adding the caching decorator\n",
    "    @st.cache_data  \n",
    "    def load_data():\n",
    "        df = pd.read_csv('app_data.csv')\n",
    "        return df\n",
    "\n",
    "\n",
    "    # Load news articles data from CSV file\n",
    "    news_df = load_data()\n",
    "\n",
    "\n",
    "    # Define the title and text of the web app\n",
    "    st.title(\"News Recommender App\")\n",
    "    st.subheader(\"Enter an article to find similar news articles\")\n",
    "\n",
    "    # Set up the translator\n",
    "    translator = Translator()\n",
    "\n",
    "    # Define the input field for the article text\n",
    "    input_text = st.text_input(\"Article text\")\n",
    "\n",
    "    # Translate the text\n",
    "    process = preprocessing_text(input_text)\n",
    "\n",
    "    # translated text preprocessing\n",
    "    try:\n",
    "        translation = translator.translate(process , src='ar', dest='en')\n",
    "        article_text = translation.text\n",
    "    except:\n",
    "        pass\n",
    "# ________________________________________________________________________________________________________________ #\n",
    "    # Define a button to recommend similar articles\n",
    "    try:\n",
    "        if st.button(\"Recommend\"):\n",
    "            # Initialize a TfidfVectorizer\n",
    "            tfidf_vectorizer = TfidfVectorizer( max_features=5000, ngram_range=(1, 3) )\n",
    "\n",
    "            # Fit and transform the news article texts\n",
    "            tfidf_matrix = tfidf_vectorizer.fit_transform(news_df['new_body'])\n",
    "            \n",
    "            # Transform the input article text into a TF-IDF vector\n",
    "            article_tfidf = tfidf_vectorizer.transform([article_text])\n",
    "\n",
    "            # Compute the cosine similarity between the input article and all other articles\n",
    "            cosine_similarities = cosine_similarity(article_tfidf, tfidf_matrix)\n",
    "\n",
    "            # Get the index of the most similar article\n",
    "            similar_article_index = cosine_similarities.argmax()\n",
    "\n",
    "            # Get the titles of the top 5 recommended articles\n",
    "\n",
    "            recommended_article_indices = cosine_similarity(tfidf_matrix[similar_article_index], tfidf_matrix).argsort()[0][-6:-1][::-1]\n",
    "            # XGB classifier\n",
    "            with open('trained_model.pkl', 'rb') as f:\n",
    "                ml = pickle.load(f)\n",
    "            \n",
    "            \n",
    "            categ = ml.predict( article_tfidf )[0]\n",
    "            catgs = {\"0\":\"محافظات\" ,\n",
    "                     \"1\" : \"رياضة\",\n",
    "                     \"2\" : \"عرب و عالم\",\n",
    "                     \"3\": \"أخبار\" ,\n",
    "                     \"4\" : \"ثقافة وفنون\",\n",
    "                     \"5\" : \"حوادث\",\n",
    "                     \"6\" : \"إقتصاد\"}\n",
    "            \n",
    "            \n",
    "            # Print the recommended articles\n",
    "            st.header(\"Recommended articles:\")\n",
    "            \n",
    "            \n",
    "            for order,indx in list(enumerate(recommended_article_indices)):\n",
    "                st.write(order+1 , \"- \" + news_df.iloc[indx]['headline'])\n",
    "                st.write(\"Brief:     \", news_df.iloc[indx]['briefing'])\n",
    "                st.write(\"Go to: \", news_df.iloc[indx]['hrefs'])\n",
    "                st.write(\" -----/----/-----/-----/-----/-----/------/-----/-----/-----/------ \")\n",
    "\n",
    "            st.write(\"Classification of News: \", catgs[str(categ)])\n",
    "    except:\n",
    "        st.subheader(\"Please enter the news text\")\n",
    "    \n",
    "    \n",
    "if __name__ == '__main__':\n",
    "    main()"
   ]
  },
  {
   "cell_type": "code",
   "execution_count": 158,
   "metadata": {},
   "outputs": [
    {
     "data": {
      "text/plain": [
       "Index(['hrefs', 'headline', 'briefing', 'new_body'], dtype='object')"
      ]
     },
     "execution_count": 158,
     "metadata": {},
     "output_type": "execute_result"
    }
   ],
   "source": [
    "news_df.columns"
   ]
  },
  {
   "cell_type": "code",
   "execution_count": null,
   "metadata": {},
   "outputs": [],
   "source": []
  }
 ],
 "metadata": {
  "kernelspec": {
   "display_name": "Python 3",
   "language": "python",
   "name": "python3"
  },
  "language_info": {
   "codemirror_mode": {
    "name": "ipython",
    "version": 3
   },
   "file_extension": ".py",
   "mimetype": "text/x-python",
   "name": "python",
   "nbconvert_exporter": "python",
   "pygments_lexer": "ipython3",
   "version": "3.7.6"
  }
 },
 "nbformat": 4,
 "nbformat_minor": 4
}
