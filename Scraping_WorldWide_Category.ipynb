{
  "cells": [
    {
      "cell_type": "code",
      "execution_count": null,
      "metadata": {
        "id": "NEVU5sq5pbK4"
      },
      "outputs": [],
      "source": [
        "import requests\n",
        "from bs4 import BeautifulSoup\n",
        "import csv"
      ]
    },
    {
      "cell_type": "code",
      "execution_count": null,
      "metadata": {
        "id": "1Nhgp_c4pbK7"
      },
      "outputs": [],
      "source": [
        "w_hrefs=[]\n",
        "\n",
        "for i in range(0,35001,30):\n",
        "    response = requests.get(f'https://gate.ahram.org.eg/Portal/54/%D8%B9%D8%B1%D8%A8-%D9%88%D8%B9%D8%A7%D9%84%D9%85/{i}.aspx?esdarId=0')\n",
        "    soup = BeautifulSoup(response.content,'html.parser')           \n",
        "    divs =soup.find_all('div' , attrs={'class':\"col-lg-9 bg-White bg-White-outer pb-0 align-self-center\"})\n",
        "    for div in divs:\n",
        "        w_hrefs.append(div.find('a')['href'])"
      ]
    },
    {
      "cell_type": "code",
      "execution_count": null,
      "metadata": {
        "id": "guJHKn2JpbK7"
      },
      "outputs": [],
      "source": [
        "with open('Worldwide.csv','a', encoding='utf-8-sig',newline='') as myfile:\n",
        "        c_names=['hrefs','category']\n",
        "        writer = csv.DictWriter(myfile, fieldnames=c_names)\n",
        "        writer.writeheader()\n",
        "        try:\n",
        "            for c in w_hrefs:\n",
        "                writer.writerow({'hrefs':c , 'category':'Worldwide'})       \n",
        "        except:\n",
        "            pass"
      ]
    },
    {
      "cell_type": "code",
      "execution_count": null,
      "metadata": {
        "id": "lbbavR5PpbK8"
      },
      "outputs": [],
      "source": [
        "# note : this cell should be run just ONCE if you will srapce many times to the same file\n",
        "with open('world_wide.csv','w', encoding='utf-8-sig',newline='') as myfile:\n",
        "            c_names=['hrefs','headline','briefing','category']\n",
        "            writer = csv.DictWriter(myfile, fieldnames=c_names)\n",
        "            writer.writeheader()"
      ]
    },
    {
      "cell_type": "code",
      "execution_count": null,
      "metadata": {
        "id": "45ZFDvufpbK9"
      },
      "outputs": [],
      "source": [
        "for ref in w_hrefs:\n",
        "        response = requests.get(ref)\n",
        "        soup = BeautifulSoup(response.content,'html.parser')\n",
        "        head = soup.find('h1').get_text().strip()\n",
        "        \n",
        "        try:\n",
        "            brief = soup.find_all('p')[2].get_text().strip()\n",
        "        except:\n",
        "            brief = soup.find_all('p')\n",
        "        category = soup.find_all('span',attrs={'class':'breadcrumb__title'})[-1].get_text().strip()\n",
        "        texts=[]\n",
        "        try:\n",
        "            for par in soup.find_all('p')[2:]:\n",
        "                texts.append(par.get_text().strip())\n",
        "\n",
        "            text = \"\".join(texts)\n",
        "        except:\n",
        "            text = brief\n",
        "            \n",
        "        with open('world_wide.csv','a', encoding='utf-8-sig',newline='') as myfile:\n",
        "            c_names=['hrefs','headline','briefing','body','category']\n",
        "            writer = csv.DictWriter(myfile, fieldnames=c_names)\n",
        "            try:\n",
        "                writer.writerow({'hrefs':ref ,'headline':head ,'briefing':brief ,'body':text,'category':category})       \n",
        "            except:\n",
        "                pass"
      ]
    },
    {
      "cell_type": "code",
      "source": [
        "import pandas as pd\n",
        "df = pd.read_csv('/content/world_wide.csv')\n",
        "df.shape"
      ],
      "metadata": {
        "id": "qTfV1ARMpe1S"
      },
      "execution_count": null,
      "outputs": []
    }
  ],
  "metadata": {
    "kernelspec": {
      "display_name": "base",
      "language": "python",
      "name": "python3"
    },
    "language_info": {
      "name": "python",
      "version": "3.9.13"
    },
    "orig_nbformat": 4,
    "colab": {
      "provenance": []
    }
  },
  "nbformat": 4,
  "nbformat_minor": 0
}